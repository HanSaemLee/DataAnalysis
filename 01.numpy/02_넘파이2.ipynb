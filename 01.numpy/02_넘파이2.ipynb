{
  "nbformat": 4,
  "nbformat_minor": 2,
  "metadata": {
    "orig_nbformat": 4,
    "language_info": {
      "name": "python",
      "version": "3.8.10",
      "mimetype": "text/x-python",
      "codemirror_mode": {
        "name": "ipython",
        "version": 3
      },
      "pygments_lexer": "ipython3",
      "nbconvert_exporter": "python",
      "file_extension": ".py"
    },
    "kernelspec": {
      "name": "python3",
      "display_name": "Python 3.8.10 64-bit ('base': conda)"
    },
    "interpreter": {
      "hash": "3afaf00aff83f2e8eb9647e300ff648c4cd120434f7e4c9b48fc973ba4a47465"
    },
    "colab": {
      "name": "02_넘파이2.ipynb",
      "provenance": []
    }
  },
  "cells": [
    {
      "cell_type": "markdown",
      "source": [
        "# Numpy - part 2"
      ],
      "metadata": {
        "id": "DbB9wd7sxMic"
      }
    },
    {
      "cell_type": "code",
      "execution_count": 2,
      "source": [
        "import numpy as np"
      ],
      "outputs": [],
      "metadata": {
        "id": "y-WzWlgvxMie"
      }
    },
    {
      "cell_type": "markdown",
      "source": [
        "## 4. 생성(Creation)"
      ],
      "metadata": {
        "id": "0pYeE6zVxMie"
      }
    },
    {
      "cell_type": "markdown",
      "source": [
        "### arange"
      ],
      "metadata": {
        "id": "IrINIauRxMif"
      }
    },
    {
      "cell_type": "code",
      "execution_count": null,
      "source": [
        "np.arange(10)"
      ],
      "outputs": [
        {
          "output_type": "execute_result",
          "data": {
            "text/plain": [
              "array([0, 1, 2, 3, 4, 5, 6, 7, 8, 9])"
            ]
          },
          "metadata": {
            "tags": []
          },
          "execution_count": 2
        }
      ],
      "metadata": {
        "id": "aDNwcEAWxMif",
        "outputId": "52638fbe-9659-4f53-c649-7cb2dc7b2de5"
      }
    },
    {
      "cell_type": "code",
      "execution_count": null,
      "source": [
        "np.arange(1, 10, 2)"
      ],
      "outputs": [
        {
          "output_type": "execute_result",
          "data": {
            "text/plain": [
              "array([1, 3, 5, 7, 9])"
            ]
          },
          "metadata": {
            "tags": []
          },
          "execution_count": 4
        }
      ],
      "metadata": {
        "id": "wSWEGKaTxMig",
        "outputId": "50155d77-236c-40c0-9c9b-4daefd4d075d"
      }
    },
    {
      "cell_type": "code",
      "execution_count": null,
      "source": [
        "# 실수도 가능\r\n",
        "np.arange(0, 5.1, 0.5)"
      ],
      "outputs": [
        {
          "output_type": "execute_result",
          "data": {
            "text/plain": [
              "array([0. , 0.5, 1. , 1.5, 2. , 2.5, 3. , 3.5, 4. , 4.5, 5. ])"
            ]
          },
          "metadata": {
            "tags": []
          },
          "execution_count": 6
        }
      ],
      "metadata": {
        "id": "XHnZkwU7xMig",
        "outputId": "1d2e6ebe-8a4c-49b1-b0c6-4b31685779ea"
      }
    },
    {
      "cell_type": "code",
      "execution_count": null,
      "source": [
        "# 리스트로 만들기\r\n",
        "np.arange(0, 5.1, 0.5).tolist()"
      ],
      "outputs": [
        {
          "output_type": "execute_result",
          "data": {
            "text/plain": [
              "[0.0, 0.5, 1.0, 1.5, 2.0, 2.5, 3.0, 3.5, 4.0, 4.5, 5.0]"
            ]
          },
          "metadata": {
            "tags": []
          },
          "execution_count": 8
        }
      ],
      "metadata": {
        "id": "ljukkD94xMih",
        "outputId": "03eeb8bc-e911-4c5a-b0ab-fddddfee72f0"
      }
    },
    {
      "cell_type": "code",
      "execution_count": null,
      "source": [
        "np.arange(24).reshape(4, -1)"
      ],
      "outputs": [
        {
          "output_type": "execute_result",
          "data": {
            "text/plain": [
              "array([[ 0,  1,  2,  3,  4,  5],\n",
              "       [ 6,  7,  8,  9, 10, 11],\n",
              "       [12, 13, 14, 15, 16, 17],\n",
              "       [18, 19, 20, 21, 22, 23]])"
            ]
          },
          "metadata": {
            "tags": []
          },
          "execution_count": 10
        }
      ],
      "metadata": {
        "id": "uJeG1cVuxMih",
        "outputId": "b016786e-bbdb-4f97-d183-d95b6fb05756"
      }
    },
    {
      "cell_type": "markdown",
      "source": [
        "### 그래프 그리는 경우"
      ],
      "metadata": {
        "id": "Avx-5M6axMih"
      }
    },
    {
      "cell_type": "code",
      "execution_count": 10,
      "source": [
        "x = np.arange(-2, 2.01, 0.02)\r\n",
        "x.size, x[-1]"
      ],
      "outputs": [
        {
          "output_type": "execute_result",
          "data": {
            "text/plain": [
              "(201, 2.0000000000000036)"
            ]
          },
          "metadata": {
            "tags": []
          },
          "execution_count": 10
        }
      ],
      "metadata": {
        "colab": {
          "base_uri": "https://localhost:8080/"
        },
        "id": "sOuCq5J2xMii",
        "outputId": "9f412d52-201e-4927-82e1-af68f75f1059"
      }
    },
    {
      "cell_type": "code",
      "execution_count": 4,
      "source": [
        "# linspace(시작, 끝, 몇등분)\r\n",
        "x = np.linspace(-2, 2, 201)\r\n",
        "x.size, x[-1]"
      ],
      "outputs": [
        {
          "output_type": "execute_result",
          "data": {
            "text/plain": [
              "(201, 2.0)"
            ]
          },
          "metadata": {},
          "execution_count": 4
        }
      ],
      "metadata": {
        "id": "tMRM_4b_xMii",
        "outputId": "9ccb852e-847a-4a0f-d96a-b9804afa0997"
      }
    },
    {
      "cell_type": "code",
      "execution_count": 5,
      "source": [
        "import matplotlib.pyplot as plt\r\n",
        "\r\n",
        "y = np.tanh(x)              # Hyperbolic tangent\r\n",
        "plt.plot(x,y)\r\n",
        "plt.grid()\r\n",
        "plt.show()"
      ],
      "outputs": [
        {
          "output_type": "display_data",
          "data": {
            "image/png": "[encoded data removed]",
            "text/plain": [
              "<Figure size 432x288 with 1 Axes>"
            ]
          },
          "metadata": {
            "needs_background": "light"
          }
        }
      ],
      "metadata": {
        "colab": {
          "base_uri": "https://localhost:8080/",
          "height": 265
        },
        "id": "TIU0UUG2xMii",
        "outputId": "0c2eda11-cbc6-49a7-ce11-7c156b97a83c"
      }
    },
    {
      "cell_type": "markdown",
      "source": [
        "### ones, zeros, empty"
      ],
      "metadata": {
        "id": "tC5HFAnfxMij"
      }
    },
    {
      "cell_type": "code",
      "execution_count": null,
      "source": [
        "np.ones(shape=(10,), dtype = np.int8)"
      ],
      "outputs": [
        {
          "output_type": "execute_result",
          "data": {
            "text/plain": [
              "array([1, 1, 1, 1, 1, 1, 1, 1, 1, 1], dtype=int8)"
            ]
          },
          "metadata": {
            "tags": []
          },
          "execution_count": 17
        }
      ],
      "metadata": {
        "id": "iDr4bvncxMij",
        "outputId": "6abd37db-6002-48f5-9c10-716fd4512515"
      }
    },
    {
      "cell_type": "code",
      "execution_count": null,
      "source": [
        "np.ones((2,4))"
      ],
      "outputs": [
        {
          "output_type": "execute_result",
          "data": {
            "text/plain": [
              "array([[1., 1., 1., 1.],\n",
              "       [1., 1., 1., 1.]])"
            ]
          },
          "metadata": {
            "tags": []
          },
          "execution_count": 19
        }
      ],
      "metadata": {
        "id": "U-iMK-oNxMij",
        "outputId": "bb7dbb04-448d-45d0-d428-84de632cca62"
      }
    },
    {
      "cell_type": "code",
      "execution_count": null,
      "source": [
        "np.zeros((8,), np.float32)"
      ],
      "outputs": [
        {
          "output_type": "execute_result",
          "data": {
            "text/plain": [
              "array([0., 0., 0., 0., 0., 0., 0., 0.], dtype=float32)"
            ]
          },
          "metadata": {
            "tags": []
          },
          "execution_count": 20
        }
      ],
      "metadata": {
        "id": "A2YeRtXqxMij",
        "outputId": "eae28e47-13d0-4cd7-f416-10c5d1674ab1"
      }
    },
    {
      "cell_type": "code",
      "execution_count": null,
      "source": [
        "np.empty=((4,)) # 기억공간만 확보"
      ],
      "outputs": [],
      "metadata": {
        "id": "HRmLBJNExMik"
      }
    },
    {
      "cell_type": "markdown",
      "source": [
        "### something like"
      ],
      "metadata": {
        "id": "hpKAs7jWxMik"
      }
    },
    {
      "cell_type": "code",
      "execution_count": null,
      "source": [
        "a = np.arange(12).reshape(3, 4)\r\n",
        "np.ones_like(a)"
      ],
      "outputs": [
        {
          "output_type": "execute_result",
          "data": {
            "text/plain": [
              "array([[1, 1, 1, 1],\n",
              "       [1, 1, 1, 1],\n",
              "       [1, 1, 1, 1]])"
            ]
          },
          "metadata": {
            "tags": []
          },
          "execution_count": 24
        }
      ],
      "metadata": {
        "id": "A-qE68p5xMik",
        "outputId": "de7a0885-8d9e-429b-eb82-4581d1792da6"
      }
    },
    {
      "cell_type": "code",
      "execution_count": null,
      "source": [
        "np.zeros_like(a)"
      ],
      "outputs": [
        {
          "output_type": "execute_result",
          "data": {
            "text/plain": [
              "array([[0, 0, 0, 0],\n",
              "       [0, 0, 0, 0],\n",
              "       [0, 0, 0, 0]])"
            ]
          },
          "metadata": {
            "tags": []
          },
          "execution_count": 27
        }
      ],
      "metadata": {
        "id": "TWCHmJLHxMik",
        "outputId": "549ad1a0-746b-4abc-8c60-c502a7cb3486"
      }
    },
    {
      "cell_type": "code",
      "execution_count": null,
      "source": [
        "np.zeros_like(a).dtype"
      ],
      "outputs": [
        {
          "output_type": "execute_result",
          "data": {
            "text/plain": [
              "dtype('int32')"
            ]
          },
          "metadata": {
            "tags": []
          },
          "execution_count": 28
        }
      ],
      "metadata": {
        "id": "YMGdapUcxMik",
        "outputId": "5902a236-a2b7-4790-f007-9466f1e69773"
      }
    },
    {
      "cell_type": "markdown",
      "source": [
        "### 단위 행렬 - identity(정방형일 때)"
      ],
      "metadata": {
        "id": "jocpHMk5xMil"
      }
    },
    {
      "cell_type": "code",
      "execution_count": null,
      "source": [
        "np.identity(n=3, dtype=np.int16)"
      ],
      "outputs": [
        {
          "output_type": "execute_result",
          "data": {
            "text/plain": [
              "array([[1, 0, 0],\n",
              "       [0, 1, 0],\n",
              "       [0, 0, 1]], dtype=int16)"
            ]
          },
          "metadata": {
            "tags": []
          },
          "execution_count": 26
        }
      ],
      "metadata": {
        "id": "9R1tpxbVxMil",
        "outputId": "d7ec65e4-5e7f-4343-a000-ddc1225ef442"
      }
    },
    {
      "cell_type": "markdown",
      "source": [
        "eye - 대각선이 1인 행렬"
      ],
      "metadata": {
        "id": "dwm8qVFoxMil"
      }
    },
    {
      "cell_type": "code",
      "execution_count": null,
      "source": [
        "np.eye(3, 5)"
      ],
      "outputs": [
        {
          "output_type": "execute_result",
          "data": {
            "text/plain": [
              "array([[1., 0., 0., 0., 0.],\n",
              "       [0., 1., 0., 0., 0.],\n",
              "       [0., 0., 1., 0., 0.]])"
            ]
          },
          "metadata": {
            "tags": []
          },
          "execution_count": 29
        }
      ],
      "metadata": {
        "id": "74Vpa-LSxMil",
        "outputId": "c7a0891e-7a1a-469a-ecba-f8c8d3a01441"
      }
    },
    {
      "cell_type": "code",
      "execution_count": null,
      "source": [
        "np.eye(N=3,M=5, k=2, dtype=np.int32) # k는 [0,0],[1,1],[2,2]의 0의 대각선과 1이 있는 대각선을 의미\r\n",
        "# k : start index"
      ],
      "outputs": [
        {
          "output_type": "execute_result",
          "data": {
            "text/plain": [
              "array([[0, 0, 1, 0, 0],\n",
              "       [0, 0, 0, 1, 0],\n",
              "       [0, 0, 0, 0, 1]])"
            ]
          },
          "metadata": {
            "tags": []
          },
          "execution_count": 31
        }
      ],
      "metadata": {
        "id": "IVLF8dfrxMil",
        "outputId": "b33406f5-28a9-491f-8255-6ca080eb29e0"
      }
    },
    {
      "cell_type": "code",
      "execution_count": null,
      "source": [
        "np.eye(4,3,-1), np.eye(4, 3, -2), np.eye(4, 3, -3)"
      ],
      "outputs": [
        {
          "output_type": "execute_result",
          "data": {
            "text/plain": [
              "(array([[0., 0., 0.],\n",
              "        [1., 0., 0.],\n",
              "        [0., 1., 0.],\n",
              "        [0., 0., 1.]]),\n",
              " array([[0., 0., 0.],\n",
              "        [0., 0., 0.],\n",
              "        [1., 0., 0.],\n",
              "        [0., 1., 0.]]),\n",
              " array([[0., 0., 0.],\n",
              "        [0., 0., 0.],\n",
              "        [0., 0., 0.],\n",
              "        [1., 0., 0.]]))"
            ]
          },
          "metadata": {
            "tags": []
          },
          "execution_count": 37
        }
      ],
      "metadata": {
        "id": "ZP6URPHhxMim",
        "outputId": "baf9fee4-baec-4462-cc92-29a1d5f59b4e"
      }
    },
    {
      "cell_type": "markdown",
      "source": [
        "### diag - 대각선 위치의 값을 추출"
      ],
      "metadata": {
        "id": "F4EmMyCRxMim"
      }
    },
    {
      "cell_type": "code",
      "execution_count": 34,
      "source": [
        "np.arange(9).reshape(3, 3)"
      ],
      "outputs": [
        {
          "output_type": "execute_result",
          "data": {
            "text/plain": [
              "array([[0, 1, 2],\n",
              "       [3, 4, 5],\n",
              "       [6, 7, 8]])"
            ]
          },
          "metadata": {
            "tags": []
          },
          "execution_count": 34
        }
      ],
      "metadata": {
        "colab": {
          "base_uri": "https://localhost:8080/"
        },
        "id": "LZYaJyqOxMim",
        "outputId": "90ecd8af-ae4b-4693-d3ce-9c857bc1a062"
      }
    },
    {
      "cell_type": "code",
      "execution_count": 35,
      "source": [
        "np.diag(np.arange(9).reshape(3, 3))"
      ],
      "outputs": [
        {
          "output_type": "execute_result",
          "data": {
            "text/plain": [
              "array([0, 4, 8])"
            ]
          },
          "metadata": {
            "tags": []
          },
          "execution_count": 35
        }
      ],
      "metadata": {
        "colab": {
          "base_uri": "https://localhost:8080/"
        },
        "id": "4xUPuZiuxMim",
        "outputId": "8c7552b6-fa92-4633-981f-e32ec555ba0f"
      }
    },
    {
      "cell_type": "code",
      "execution_count": 36,
      "source": [
        "np.diag(np.arange(9).reshape(3,3), k=1) # k는 대각선 스타트 인덱스"
      ],
      "outputs": [
        {
          "output_type": "execute_result",
          "data": {
            "text/plain": [
              "array([1, 5])"
            ]
          },
          "metadata": {
            "tags": []
          },
          "execution_count": 36
        }
      ],
      "metadata": {
        "colab": {
          "base_uri": "https://localhost:8080/"
        },
        "id": "prrhpRY0xMim",
        "outputId": "855f34eb-c873-4dbb-cf57-d52024d8be13"
      }
    },
    {
      "cell_type": "markdown",
      "source": [
        "### Random sampling"
      ],
      "metadata": {
        "id": "dAPpzv7qxMim"
      }
    },
    {
      "cell_type": "code",
      "execution_count": 30,
      "source": [
        "np.random.seed(seed=2021)\r\n",
        "np.random.random()"
      ],
      "outputs": [
        {
          "output_type": "execute_result",
          "data": {
            "text/plain": [
              "0.6059782788074047"
            ]
          },
          "metadata": {
            "tags": []
          },
          "execution_count": 30
        }
      ],
      "metadata": {
        "colab": {
          "base_uri": "https://localhost:8080/"
        },
        "id": "912OemeexMin",
        "outputId": "304177a0-1aad-449b-a945-b42970fcd0dd"
      }
    },
    {
      "cell_type": "code",
      "execution_count": 31,
      "source": [
        "# 균등 분포 - colab하고 다르다\r\n",
        "size = 10\r\n",
        "np.random.uniform(size=10)"
      ],
      "outputs": [
        {
          "output_type": "execute_result",
          "data": {
            "text/plain": [
              "array([0.73336936, 0.13894716, 0.31267308, 0.99724328, 0.12816238,\n",
              "       0.17899311, 0.75292543, 0.66216051, 0.78431013, 0.0968944 ])"
            ]
          },
          "metadata": {
            "tags": []
          },
          "execution_count": 31
        }
      ],
      "metadata": {
        "colab": {
          "base_uri": "https://localhost:8080/"
        },
        "id": "Z9w9ztPcxMin",
        "outputId": "5553967f-0d6d-415a-a004-653ac9b03be9"
      }
    },
    {
      "cell_type": "code",
      "execution_count": 32,
      "source": [
        "# 정규 분포\r\n",
        "np.random.normal(1, 2, size=10)"
      ],
      "outputs": [
        {
          "output_type": "execute_result",
          "data": {
            "text/plain": [
              "array([-0.5010243 ,  1.42324199,  5.0897806 ,  3.15053547,  1.15804053,\n",
              "        1.98656473, -0.58273493, -3.26119038,  1.63441258, -1.72923498])"
            ]
          },
          "metadata": {
            "tags": []
          },
          "execution_count": 32
        }
      ],
      "metadata": {
        "colab": {
          "base_uri": "https://localhost:8080/"
        },
        "id": "PTfZ7x-JxMin",
        "outputId": "147683aa-f2f1-48d6-ca99-8a464b69c5ea"
      }
    },
    {
      "cell_type": "code",
      "execution_count": 33,
      "source": [
        "# 표준 정규분포 -N(0, 1)\r\n",
        "np.random.randn()"
      ],
      "outputs": [
        {
          "output_type": "execute_result",
          "data": {
            "text/plain": [
              "0.3584275216857413"
            ]
          },
          "metadata": {
            "tags": []
          },
          "execution_count": 33
        }
      ],
      "metadata": {
        "colab": {
          "base_uri": "https://localhost:8080/"
        },
        "id": "P5dfBllWxMin",
        "outputId": "f92504a7-efb2-4623-e056-5993c7c94a8f"
      }
    },
    {
      "cell_type": "code",
      "execution_count": 16,
      "source": [
        "rand_norm = np.random.randn(1000)\r\n",
        "plt.hist(rand_norm)\r\n",
        "plt.show()"
      ],
      "outputs": [
        {
          "output_type": "display_data",
          "data": {
            "image/png": "[encoded data removed]",
            "text/plain": [
              "<Figure size 432x288 with 1 Axes>"
            ]
          },
          "metadata": {
            "tags": [],
            "needs_background": "light"
          }
        }
      ],
      "metadata": {
        "colab": {
          "base_uri": "https://localhost:8080/",
          "height": 265
        },
        "id": "rq-dqhjvxMin",
        "outputId": "63167bf5-9008-495c-dd3f-3c244bb35966"
      }
    },
    {
      "cell_type": "markdown",
      "source": [
        "## 5. Operation"
      ],
      "metadata": {
        "id": "Iu_W2J13xaTE"
      }
    },
    {
      "cell_type": "markdown",
      "source": [
        "### Sum과 Axis"
      ],
      "metadata": {
        "id": "8jII-Uxexedu"
      }
    },
    {
      "cell_type": "code",
      "execution_count": 50,
      "source": [
        "a = np.arange(1, 11)\n",
        "a, a.sum()"
      ],
      "outputs": [
        {
          "output_type": "execute_result",
          "data": {
            "text/plain": [
              "(array([ 1,  2,  3,  4,  5,  6,  7,  8,  9, 10]), 55)"
            ]
          },
          "metadata": {
            "tags": []
          },
          "execution_count": 50
        }
      ],
      "metadata": {
        "colab": {
          "base_uri": "https://localhost:8080/"
        },
        "id": "rIefBaf2xZAF",
        "outputId": "f4e51811-61e7-445f-a9c5-904ac7091bbd"
      }
    },
    {
      "cell_type": "code",
      "execution_count": 51,
      "source": [
        "a = np.arange(1, 13).reshape(3,4)\n",
        "a"
      ],
      "outputs": [
        {
          "output_type": "execute_result",
          "data": {
            "text/plain": [
              "array([[ 1,  2,  3,  4],\n",
              "       [ 5,  6,  7,  8],\n",
              "       [ 9, 10, 11, 12]])"
            ]
          },
          "metadata": {
            "tags": []
          },
          "execution_count": 51
        }
      ],
      "metadata": {
        "colab": {
          "base_uri": "https://localhost:8080/"
        },
        "id": "bhtc-SbaxjfB",
        "outputId": "85b0eddb-5f1a-4813-92df-ff3c52b4ea93"
      }
    },
    {
      "cell_type": "code",
      "execution_count": 52,
      "source": [
        "a.sum()"
      ],
      "outputs": [
        {
          "output_type": "execute_result",
          "data": {
            "text/plain": [
              "78"
            ]
          },
          "metadata": {
            "tags": []
          },
          "execution_count": 52
        }
      ],
      "metadata": {
        "colab": {
          "base_uri": "https://localhost:8080/"
        },
        "id": "Q1fIL9NTxncT",
        "outputId": "67b116b9-7b04-4bea-ab4a-b48d6962998e"
      }
    },
    {
      "cell_type": "code",
      "execution_count": 53,
      "source": [
        "# column의 합, row 방향\n",
        "a.sum(axis=0)"
      ],
      "outputs": [
        {
          "output_type": "execute_result",
          "data": {
            "text/plain": [
              "array([15, 18, 21, 24])"
            ]
          },
          "metadata": {
            "tags": []
          },
          "execution_count": 53
        }
      ],
      "metadata": {
        "colab": {
          "base_uri": "https://localhost:8080/"
        },
        "id": "Tu0BKMr0xot6",
        "outputId": "4f9b0912-6960-463a-a0e3-44b35c7c631c"
      }
    },
    {
      "cell_type": "code",
      "execution_count": 54,
      "source": [
        "# row의 합, column 방향\r\n",
        "a.sum(axis=1)"
      ],
      "outputs": [
        {
          "output_type": "execute_result",
          "data": {
            "text/plain": [
              "array([10, 26, 42])"
            ]
          },
          "metadata": {
            "tags": []
          },
          "execution_count": 54
        }
      ],
      "metadata": {
        "colab": {
          "base_uri": "https://localhost:8080/"
        },
        "id": "iSJsgUuOxtKF",
        "outputId": "4698b579-ba68-43d1-d495-c7f8202c3054"
      }
    },
    {
      "cell_type": "code",
      "execution_count": 25,
      "source": [
        "b = np.arange(1, 25).reshape(2, 3, 4)\r\n",
        "b"
      ],
      "outputs": [
        {
          "output_type": "execute_result",
          "data": {
            "text/plain": [
              "array([[[ 1,  2,  3,  4],\n",
              "        [ 5,  6,  7,  8],\n",
              "        [ 9, 10, 11, 12]],\n",
              "\n",
              "       [[13, 14, 15, 16],\n",
              "        [17, 18, 19, 20],\n",
              "        [21, 22, 23, 24]]])"
            ]
          },
          "metadata": {
            "tags": []
          },
          "execution_count": 25
        }
      ],
      "metadata": {
        "colab": {
          "base_uri": "https://localhost:8080/"
        },
        "id": "sH3VumUwyTPm",
        "outputId": "d87dba12-415d-4a91-f7d5-637a26ebb3c7"
      }
    },
    {
      "cell_type": "code",
      "execution_count": 26,
      "source": [
        "b.sum(axis=0)       # (2, 3, 4) --> (3, 4)"
      ],
      "outputs": [
        {
          "output_type": "execute_result",
          "data": {
            "text/plain": [
              "array([[14, 16, 18, 20],\n",
              "       [22, 24, 26, 28],\n",
              "       [30, 32, 34, 36]])"
            ]
          },
          "metadata": {
            "tags": []
          },
          "execution_count": 26
        }
      ],
      "metadata": {
        "colab": {
          "base_uri": "https://localhost:8080/"
        },
        "id": "PT9YX0vnygVu",
        "outputId": "ef5a2f4a-22f4-4396-923b-cccea6c5c3fa"
      }
    },
    {
      "cell_type": "code",
      "execution_count": 27,
      "source": [
        "b.sum(axis=1)       # (2, 3, 4) --> (2, 4)"
      ],
      "outputs": [
        {
          "output_type": "execute_result",
          "data": {
            "text/plain": [
              "array([[15, 18, 21, 24],\n",
              "       [51, 54, 57, 60]])"
            ]
          },
          "metadata": {
            "tags": []
          },
          "execution_count": 27
        }
      ],
      "metadata": {
        "colab": {
          "base_uri": "https://localhost:8080/"
        },
        "id": "smGyGObUyjJ4",
        "outputId": "b4e78f97-5ee9-4ddd-ae87-69362ad1010c"
      }
    },
    {
      "cell_type": "code",
      "execution_count": 28,
      "source": [
        "b.sum(axis=2)       # (2, 3 ,4) --> (2, 3)"
      ],
      "outputs": [
        {
          "output_type": "execute_result",
          "data": {
            "text/plain": [
              "array([[10, 26, 42],\n",
              "       [58, 74, 90]])"
            ]
          },
          "metadata": {
            "tags": []
          },
          "execution_count": 28
        }
      ],
      "metadata": {
        "colab": {
          "base_uri": "https://localhost:8080/"
        },
        "id": "XVCdcZQTyqRq",
        "outputId": "4309d9b3-72fc-452f-83d7-b04b3375da00"
      }
    },
    {
      "cell_type": "markdown",
      "source": [
        "### 통계, 수학 함수"
      ],
      "metadata": {
        "id": "m05rDeZ01rpP"
      }
    },
    {
      "cell_type": "code",
      "execution_count": 38,
      "source": [
        "b.mean(), b.var(), b.std()  # mean은 평균, var은 분산 std는 표준편차 "
      ],
      "outputs": [
        {
          "output_type": "execute_result",
          "data": {
            "text/plain": [
              "(12.5, 47.916666666666664, 6.922186552431729)"
            ]
          },
          "metadata": {
            "tags": []
          },
          "execution_count": 38
        }
      ],
      "metadata": {
        "colab": {
          "base_uri": "https://localhost:8080/"
        },
        "id": "AXN24t_Kyu2x",
        "outputId": "31811d1b-96a6-43fe-c02e-e77851b57f90"
      }
    },
    {
      "cell_type": "code",
      "execution_count": 56,
      "source": [
        "a.mean(), a.mean(axis=0), a.mean(axis=1)"
      ],
      "outputs": [
        {
          "output_type": "execute_result",
          "data": {
            "text/plain": [
              "(6.5, array([5., 6., 7., 8.]), array([ 2.5,  6.5, 10.5]))"
            ]
          },
          "metadata": {
            "tags": []
          },
          "execution_count": 56
        }
      ],
      "metadata": {
        "colab": {
          "base_uri": "https://localhost:8080/"
        },
        "id": "ns9uHSZZ11O5",
        "outputId": "b7ce2f1a-f3bc-425d-ceab-0578847fc371"
      }
    },
    {
      "cell_type": "code",
      "execution_count": 57,
      "source": [
        "np.exp(a)"
      ],
      "outputs": [
        {
          "output_type": "execute_result",
          "data": {
            "text/plain": [
              "array([[2.71828183e+00, 7.38905610e+00, 2.00855369e+01, 5.45981500e+01],\n",
              "       [1.48413159e+02, 4.03428793e+02, 1.09663316e+03, 2.98095799e+03],\n",
              "       [8.10308393e+03, 2.20264658e+04, 5.98741417e+04, 1.62754791e+05]])"
            ]
          },
          "metadata": {
            "tags": []
          },
          "execution_count": 57
        }
      ],
      "metadata": {
        "colab": {
          "base_uri": "https://localhost:8080/"
        },
        "id": "5eKXGKix2bqI",
        "outputId": "e42a1a01-4f70-4a92-8251-85a39c92ac76"
      }
    },
    {
      "cell_type": "markdown",
      "source": [
        "### Concatenate"
      ],
      "metadata": {
        "id": "QfoJjI5s3Nk-"
      }
    },
    {
      "cell_type": "code",
      "execution_count": 58,
      "source": [
        "a = np.arange(1, 5).reshape(2,2)\n",
        "b = np.arange(5, 7).reshape(1,2)\n",
        "np.vstack((a,b))"
      ],
      "outputs": [
        {
          "output_type": "execute_result",
          "data": {
            "text/plain": [
              "array([[1, 2],\n",
              "       [3, 4],\n",
              "       [5, 6]])"
            ]
          },
          "metadata": {
            "tags": []
          },
          "execution_count": 58
        }
      ],
      "metadata": {
        "colab": {
          "base_uri": "https://localhost:8080/"
        },
        "id": "46LVXACo3Mg-",
        "outputId": "69a38e50-69b6-4041-be32-2a56f0abbcb2"
      }
    },
    {
      "cell_type": "code",
      "execution_count": 59,
      "source": [
        "np.concatenate((a,b), axis=0)"
      ],
      "outputs": [
        {
          "output_type": "execute_result",
          "data": {
            "text/plain": [
              "array([[1, 2],\n",
              "       [3, 4],\n",
              "       [5, 6]])"
            ]
          },
          "metadata": {
            "tags": []
          },
          "execution_count": 59
        }
      ],
      "metadata": {
        "colab": {
          "base_uri": "https://localhost:8080/"
        },
        "id": "Seiax73H3dB4",
        "outputId": "e1437e22-ef73-4f47-b156-c0b67bbcd563"
      }
    },
    {
      "cell_type": "code",
      "execution_count": 61,
      "source": [
        "# 전치행렬 (Transpose) : (1, 2) --> (2, 1)\n",
        "b.T"
      ],
      "outputs": [
        {
          "output_type": "execute_result",
          "data": {
            "text/plain": [
              "array([[5],\n",
              "       [6]])"
            ]
          },
          "metadata": {
            "tags": []
          },
          "execution_count": 61
        }
      ],
      "metadata": {
        "colab": {
          "base_uri": "https://localhost:8080/"
        },
        "id": "WGIxAoeA30_n",
        "outputId": "8b8352ec-d820-4d03-ba8f-20e45c9e3670"
      }
    },
    {
      "cell_type": "code",
      "execution_count": 63,
      "source": [
        "np.hstack((a,b.T))"
      ],
      "outputs": [
        {
          "output_type": "execute_result",
          "data": {
            "text/plain": [
              "array([[1, 2, 5],\n",
              "       [3, 4, 6]])"
            ]
          },
          "metadata": {
            "tags": []
          },
          "execution_count": 63
        }
      ],
      "metadata": {
        "colab": {
          "base_uri": "https://localhost:8080/"
        },
        "id": "Q6G_lbIG3g8X",
        "outputId": "d99df92f-0c3f-4a5a-a173-63c6db64f69c"
      }
    },
    {
      "cell_type": "code",
      "execution_count": 64,
      "source": [
        "np.concatenate((a,b.T), axis=1)"
      ],
      "outputs": [
        {
          "output_type": "execute_result",
          "data": {
            "text/plain": [
              "array([[1, 2, 5],\n",
              "       [3, 4, 6]])"
            ]
          },
          "metadata": {
            "tags": []
          },
          "execution_count": 64
        }
      ],
      "metadata": {
        "colab": {
          "base_uri": "https://localhost:8080/"
        },
        "id": "lPSwN1_x3nzQ",
        "outputId": "96a85693-bb3a-419d-8385-1bc9e1203e88"
      }
    }
  ]
}