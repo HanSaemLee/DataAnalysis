{
  "nbformat": 4,
  "nbformat_minor": 0,
  "metadata": {
    "colab": {
      "name": "03_넘파이3.ipynb",
      "provenance": [],
      "collapsed_sections": []
    },
    "kernelspec": {
      "name": "python3",
      "display_name": "Python 3"
    },
    "language_info": {
      "name": "python"
    }
  },
  "cells": [
    {
      "cell_type": "markdown",
      "metadata": {
        "id": "Qx-PujiT41bo"
      },
      "source": [
        "# Numpy - part 3"
      ]
    },
    {
      "cell_type": "code",
      "metadata": {
        "id": "8skaPiGf4xe4"
      },
      "source": [
        "import numpy as np"
      ],
      "execution_count": 1,
      "outputs": []
    },
    {
      "cell_type": "markdown",
      "metadata": {
        "id": "YYTjzyJQ464X"
      },
      "source": [
        "## 6. Array operation"
      ]
    },
    {
      "cell_type": "code",
      "metadata": {
        "id": "nh4YyiI046Cj"
      },
      "source": [
        "a = np.arange(1, 7).reshape(2, 3)"
      ],
      "execution_count": 2,
      "outputs": []
    },
    {
      "cell_type": "code",
      "metadata": {
        "colab": {
          "base_uri": "https://localhost:8080/"
        },
        "id": "rdAGSUd15BPK",
        "outputId": "b476d07f-f447-4532-de89-ec5f8d691ec2"
      },
      "source": [
        "a + a"
      ],
      "execution_count": 3,
      "outputs": [
        {
          "output_type": "execute_result",
          "data": {
            "text/plain": [
              "array([[ 2,  4,  6],\n",
              "       [ 8, 10, 12]])"
            ]
          },
          "metadata": {
            "tags": []
          },
          "execution_count": 3
        }
      ]
    },
    {
      "cell_type": "code",
      "metadata": {
        "colab": {
          "base_uri": "https://localhost:8080/"
        },
        "id": "0s2APSr85ClG",
        "outputId": "ca984dc1-d4e3-4cfb-ac22-4aefffc9440e"
      },
      "source": [
        "a - a"
      ],
      "execution_count": 4,
      "outputs": [
        {
          "output_type": "execute_result",
          "data": {
            "text/plain": [
              "array([[0, 0, 0],\n",
              "       [0, 0, 0]])"
            ]
          },
          "metadata": {
            "tags": []
          },
          "execution_count": 4
        }
      ]
    },
    {
      "cell_type": "code",
      "metadata": {
        "colab": {
          "base_uri": "https://localhost:8080/"
        },
        "id": "5NU99CPH5D2W",
        "outputId": "b2dc0fa3-5246-4083-c69a-8fdfefa2891a"
      },
      "source": [
        "a * a"
      ],
      "execution_count": 5,
      "outputs": [
        {
          "output_type": "execute_result",
          "data": {
            "text/plain": [
              "array([[ 1,  4,  9],\n",
              "       [16, 25, 36]])"
            ]
          },
          "metadata": {
            "tags": []
          },
          "execution_count": 5
        }
      ]
    },
    {
      "cell_type": "markdown",
      "metadata": {
        "id": "3dR62Jod5Gj_"
      },
      "source": [
        "### dot product"
      ]
    },
    {
      "cell_type": "code",
      "metadata": {
        "colab": {
          "base_uri": "https://localhost:8080/"
        },
        "id": "EdDCsjsV5Eum",
        "outputId": "2197de00-b6f6-4732-c084-bc14f25d4ae0"
      },
      "source": [
        "# 내적 a1w1+a2w2\n",
        "np.dot(a, a.T)    # (2, 3) . (3, 2) ==> (2, 2)"
      ],
      "execution_count": 7,
      "outputs": [
        {
          "output_type": "execute_result",
          "data": {
            "text/plain": [
              "array([[14, 32],\n",
              "       [32, 77]])"
            ]
          },
          "metadata": {
            "tags": []
          },
          "execution_count": 7
        }
      ]
    },
    {
      "cell_type": "code",
      "metadata": {
        "colab": {
          "base_uri": "https://localhost:8080/"
        },
        "id": "_DAPhEmX6Akx",
        "outputId": "9e591afd-bc21-4834-948b-63c726218f8d"
      },
      "source": [
        "a.dot(a.T)"
      ],
      "execution_count": 8,
      "outputs": [
        {
          "output_type": "execute_result",
          "data": {
            "text/plain": [
              "array([[14, 32],\n",
              "       [32, 77]])"
            ]
          },
          "metadata": {
            "tags": []
          },
          "execution_count": 8
        }
      ]
    },
    {
      "cell_type": "markdown",
      "metadata": {
        "id": "0oLkrhjN6sJw"
      },
      "source": [
        "### broadcasting"
      ]
    },
    {
      "cell_type": "code",
      "metadata": {
        "colab": {
          "base_uri": "https://localhost:8080/"
        },
        "id": "X2_EWktJ6ckK",
        "outputId": "c0526679-704e-4a5f-8c28-c5a9f9024823"
      },
      "source": [
        "a"
      ],
      "execution_count": 9,
      "outputs": [
        {
          "output_type": "execute_result",
          "data": {
            "text/plain": [
              "array([[1, 2, 3],\n",
              "       [4, 5, 6]])"
            ]
          },
          "metadata": {
            "tags": []
          },
          "execution_count": 9
        }
      ]
    },
    {
      "cell_type": "code",
      "metadata": {
        "colab": {
          "base_uri": "https://localhost:8080/"
        },
        "id": "oK3mTtKo6vnE",
        "outputId": "13c7cd2f-6911-4e05-9646-0737ce38ec16"
      },
      "source": [
        "a + 3"
      ],
      "execution_count": 10,
      "outputs": [
        {
          "output_type": "execute_result",
          "data": {
            "text/plain": [
              "array([[4, 5, 6],\n",
              "       [7, 8, 9]])"
            ]
          },
          "metadata": {
            "tags": []
          },
          "execution_count": 10
        }
      ]
    },
    {
      "cell_type": "code",
      "metadata": {
        "colab": {
          "base_uri": "https://localhost:8080/"
        },
        "id": "_RtnHWUl6zf-",
        "outputId": "659898f5-0002-4ad0-b5b6-4d03ada09aec"
      },
      "source": [
        "a // 3"
      ],
      "execution_count": 11,
      "outputs": [
        {
          "output_type": "execute_result",
          "data": {
            "text/plain": [
              "array([[0, 0, 1],\n",
              "       [1, 1, 2]])"
            ]
          },
          "metadata": {
            "tags": []
          },
          "execution_count": 11
        }
      ]
    },
    {
      "cell_type": "code",
      "metadata": {
        "colab": {
          "base_uri": "https://localhost:8080/"
        },
        "id": "XMhDQVFB66JS",
        "outputId": "179fe730-6e56-436d-84ff-4a32588b0fde"
      },
      "source": [
        "a % 3"
      ],
      "execution_count": 12,
      "outputs": [
        {
          "output_type": "execute_result",
          "data": {
            "text/plain": [
              "array([[1, 2, 0],\n",
              "       [1, 2, 0]])"
            ]
          },
          "metadata": {
            "tags": []
          },
          "execution_count": 12
        }
      ]
    },
    {
      "cell_type": "code",
      "metadata": {
        "id": "PdxfI3gj7C5m"
      },
      "source": [
        "b = np.array([10, 20, 30])"
      ],
      "execution_count": 13,
      "outputs": []
    },
    {
      "cell_type": "code",
      "metadata": {
        "colab": {
          "base_uri": "https://localhost:8080/"
        },
        "id": "cEjRgWuz7POr",
        "outputId": "686c8784-816f-4b4d-fa41-226ea3ad7ebe"
      },
      "source": [
        "# 2차원 matrix와 1차원 vector간에도 사용 가능\n",
        "a + b"
      ],
      "execution_count": 15,
      "outputs": [
        {
          "output_type": "execute_result",
          "data": {
            "text/plain": [
              "array([[11, 22, 33],\n",
              "       [14, 25, 36]])"
            ]
          },
          "metadata": {
            "tags": []
          },
          "execution_count": 15
        }
      ]
    },
    {
      "cell_type": "markdown",
      "metadata": {
        "id": "dFZzgLkB7jd4"
      },
      "source": [
        "## 7. Comparison"
      ]
    },
    {
      "cell_type": "markdown",
      "metadata": {
        "id": "PwezSRP78FSg"
      },
      "source": [
        ""
      ]
    },
    {
      "cell_type": "markdown",
      "metadata": {
        "id": "CRFwzj4t8HTg"
      },
      "source": [
        "### all & any"
      ]
    },
    {
      "cell_type": "code",
      "metadata": {
        "colab": {
          "base_uri": "https://localhost:8080/"
        },
        "id": "PH5M_8tF7QVS",
        "outputId": "4de1a2ce-716c-452e-d209-a25f3ee1e311"
      },
      "source": [
        "a = np.arange(8)\n",
        "a"
      ],
      "execution_count": 16,
      "outputs": [
        {
          "output_type": "execute_result",
          "data": {
            "text/plain": [
              "array([0, 1, 2, 3, 4, 5, 6, 7])"
            ]
          },
          "metadata": {
            "tags": []
          },
          "execution_count": 16
        }
      ]
    },
    {
      "cell_type": "code",
      "metadata": {
        "colab": {
          "base_uri": "https://localhost:8080/"
        },
        "id": "Z4w502Kf8Lb9",
        "outputId": "2742df24-9908-442b-8e75-1fa23b4128a1"
      },
      "source": [
        "a > 4"
      ],
      "execution_count": 17,
      "outputs": [
        {
          "output_type": "execute_result",
          "data": {
            "text/plain": [
              "array([False, False, False, False, False,  True,  True,  True])"
            ]
          },
          "metadata": {
            "tags": []
          },
          "execution_count": 17
        }
      ]
    },
    {
      "cell_type": "code",
      "metadata": {
        "colab": {
          "base_uri": "https://localhost:8080/"
        },
        "id": "4h3SnWQn8azk",
        "outputId": "8eca3c51-d05d-439d-f598-5d8b869df1ea"
      },
      "source": [
        "np.all(a>4), np.any(a>4)"
      ],
      "execution_count": 18,
      "outputs": [
        {
          "output_type": "execute_result",
          "data": {
            "text/plain": [
              "(False, True)"
            ]
          },
          "metadata": {
            "tags": []
          },
          "execution_count": 18
        }
      ]
    },
    {
      "cell_type": "code",
      "metadata": {
        "colab": {
          "base_uri": "https://localhost:8080/"
        },
        "id": "UDiVHm9s8fLF",
        "outputId": "b2515d8e-2d49-4580-ab75-7b46f5812eab"
      },
      "source": [
        "x = np.array([1, 3, 0])\n",
        "y = np.array([5, 2, 1])\n",
        "x > y"
      ],
      "execution_count": 20,
      "outputs": [
        {
          "output_type": "execute_result",
          "data": {
            "text/plain": [
              "array([False,  True, False])"
            ]
          },
          "metadata": {
            "tags": []
          },
          "execution_count": 20
        }
      ]
    },
    {
      "cell_type": "code",
      "metadata": {
        "colab": {
          "base_uri": "https://localhost:8080/"
        },
        "id": "FMLNwPLR8lqP",
        "outputId": "09246e1d-e83a-4ced-85a7-eb8519cec6fd"
      },
      "source": [
        "x == y"
      ],
      "execution_count": 21,
      "outputs": [
        {
          "output_type": "execute_result",
          "data": {
            "text/plain": [
              "array([False, False, False])"
            ]
          },
          "metadata": {
            "tags": []
          },
          "execution_count": 21
        }
      ]
    },
    {
      "cell_type": "markdown",
      "metadata": {
        "id": "1ne6p3ej89sw"
      },
      "source": [
        "### logical operation"
      ]
    },
    {
      "cell_type": "code",
      "metadata": {
        "colab": {
          "base_uri": "https://localhost:8080/"
        },
        "id": "m9RgBcW68w8l",
        "outputId": "b33dd59e-a9fd-42e0-8aa8-4998c0714b56"
      },
      "source": [
        "a = np.array([1, 3, 0], float)\n",
        "b = np.logical_and(a>0, a<3)      # 0 < a < 3\n",
        "b"
      ],
      "execution_count": 22,
      "outputs": [
        {
          "output_type": "execute_result",
          "data": {
            "text/plain": [
              "array([ True, False, False])"
            ]
          },
          "metadata": {
            "tags": []
          },
          "execution_count": 22
        }
      ]
    },
    {
      "cell_type": "code",
      "metadata": {
        "colab": {
          "base_uri": "https://localhost:8080/"
        },
        "id": "6fKpXVRo9XDV",
        "outputId": "e2d8b0d9-12e5-4129-c297-f6f7753f6c6f"
      },
      "source": [
        "c = np.logical_not(b)\n",
        "c"
      ],
      "execution_count": 24,
      "outputs": [
        {
          "output_type": "execute_result",
          "data": {
            "text/plain": [
              "array([False,  True,  True])"
            ]
          },
          "metadata": {
            "tags": []
          },
          "execution_count": 24
        }
      ]
    },
    {
      "cell_type": "code",
      "metadata": {
        "colab": {
          "base_uri": "https://localhost:8080/"
        },
        "id": "XPgH6_jO9eXN",
        "outputId": "56d3864a-9fa8-4580-f5ab-fe00e49ebb2d"
      },
      "source": [
        "np.logical_or(b, c)"
      ],
      "execution_count": 26,
      "outputs": [
        {
          "output_type": "execute_result",
          "data": {
            "text/plain": [
              "array([ True,  True,  True])"
            ]
          },
          "metadata": {
            "tags": []
          },
          "execution_count": 26
        }
      ]
    },
    {
      "cell_type": "code",
      "metadata": {
        "colab": {
          "base_uri": "https://localhost:8080/"
        },
        "id": "2vz43hld9nuX",
        "outputId": "cd133528-cb42-49b9-d584-8a46f129dfe4"
      },
      "source": [
        "np.logical_xor(b, c)"
      ],
      "execution_count": 27,
      "outputs": [
        {
          "output_type": "execute_result",
          "data": {
            "text/plain": [
              "array([ True,  True,  True])"
            ]
          },
          "metadata": {
            "tags": []
          },
          "execution_count": 27
        }
      ]
    },
    {
      "cell_type": "code",
      "metadata": {
        "colab": {
          "base_uri": "https://localhost:8080/"
        },
        "id": "qWgsTUfc90WV",
        "outputId": "7b4bba60-83f7-438d-eaf2-2419ea2a2f31"
      },
      "source": [
        "np.where(a > 1, 10, 0)        # where(condition, True일떄의 값, False일 때의 값)"
      ],
      "execution_count": 30,
      "outputs": [
        {
          "output_type": "execute_result",
          "data": {
            "text/plain": [
              "array([ 0, 10,  0])"
            ]
          },
          "metadata": {
            "tags": []
          },
          "execution_count": 30
        }
      ]
    },
    {
      "cell_type": "code",
      "metadata": {
        "colab": {
          "base_uri": "https://localhost:8080/"
        },
        "id": "cdQhz_ed-M9f",
        "outputId": "8da04cb1-001a-4707-8ca9-9acb1b6e1b8a"
      },
      "source": [
        "np.where(np.arange(10, 20) > 15)      # index 값을 반환"
      ],
      "execution_count": 31,
      "outputs": [
        {
          "output_type": "execute_result",
          "data": {
            "text/plain": [
              "(array([6, 7, 8, 9]),)"
            ]
          },
          "metadata": {
            "tags": []
          },
          "execution_count": 31
        }
      ]
    },
    {
      "cell_type": "code",
      "metadata": {
        "colab": {
          "base_uri": "https://localhost:8080/"
        },
        "id": "r6c4NVGi-5Or",
        "outputId": "51bf6cb2-144f-4d5c-ad95-eb0a5a692a47"
      },
      "source": [
        "# Infinit, Not a Number\n",
        "a = np.array([np.Inf, np.NaN, 1, np.nan, np.inf, np.NAN])\n",
        "a"
      ],
      "execution_count": 32,
      "outputs": [
        {
          "output_type": "execute_result",
          "data": {
            "text/plain": [
              "array([inf, nan,  1., nan, inf, nan])"
            ]
          },
          "metadata": {
            "tags": []
          },
          "execution_count": 32
        }
      ]
    },
    {
      "cell_type": "code",
      "metadata": {
        "colab": {
          "base_uri": "https://localhost:8080/"
        },
        "id": "O_DQ-6jo_Z8i",
        "outputId": "598b9bc1-01e1-42f6-f1fb-ab8d743ceb5a"
      },
      "source": [
        "np.isnan(a)         # Is not a number?"
      ],
      "execution_count": 33,
      "outputs": [
        {
          "output_type": "execute_result",
          "data": {
            "text/plain": [
              "array([False,  True, False,  True, False,  True])"
            ]
          },
          "metadata": {
            "tags": []
          },
          "execution_count": 33
        }
      ]
    },
    {
      "cell_type": "code",
      "metadata": {
        "colab": {
          "base_uri": "https://localhost:8080/"
        },
        "id": "TIK24hMk_t69",
        "outputId": "5268fc09-574b-46d2-bd36-e03615bb3e68"
      },
      "source": [
        "np.isfinite(a)      # Is finite number?"
      ],
      "execution_count": 35,
      "outputs": [
        {
          "output_type": "execute_result",
          "data": {
            "text/plain": [
              "array([False, False,  True, False, False, False])"
            ]
          },
          "metadata": {
            "tags": []
          },
          "execution_count": 35
        }
      ]
    },
    {
      "cell_type": "code",
      "metadata": {
        "colab": {
          "base_uri": "https://localhost:8080/"
        },
        "id": "Q7arrqjW_z2C",
        "outputId": "fcf5171a-294c-4e23-b0bf-8567d3574d5f"
      },
      "source": [
        "np.isnan(a).sum()"
      ],
      "execution_count": 36,
      "outputs": [
        {
          "output_type": "execute_result",
          "data": {
            "text/plain": [
              "3"
            ]
          },
          "metadata": {
            "tags": []
          },
          "execution_count": 36
        }
      ]
    },
    {
      "cell_type": "markdown",
      "metadata": {
        "id": "fApGOQbbEUuL"
      },
      "source": [
        "### argmax, argmin\n",
        "- array내 최댓값 또는 최솟값의 index를 리턴"
      ]
    },
    {
      "cell_type": "code",
      "metadata": {
        "colab": {
          "base_uri": "https://localhost:8080/"
        },
        "id": "Z_SnDWKIAVcC",
        "outputId": "d3907540-e890-4107-abac-15caac8fc9f3"
      },
      "source": [
        "a = np.array([1, 2, 4, 5, 8, 78, 23, 3])\n",
        "np.argmax(a), np.argmin(a)"
      ],
      "execution_count": 37,
      "outputs": [
        {
          "output_type": "execute_result",
          "data": {
            "text/plain": [
              "(5, 0)"
            ]
          },
          "metadata": {
            "tags": []
          },
          "execution_count": 37
        }
      ]
    },
    {
      "cell_type": "code",
      "metadata": {
        "colab": {
          "base_uri": "https://localhost:8080/"
        },
        "id": "JINJ9O6_EfvM",
        "outputId": "f01fb28c-3df5-4732-ebc3-9d2780f81c0f"
      },
      "source": [
        "a = a.reshape(2, -1)\n",
        "np.argmax(a), np.argmin(a)"
      ],
      "execution_count": 38,
      "outputs": [
        {
          "output_type": "execute_result",
          "data": {
            "text/plain": [
              "(5, 0)"
            ]
          },
          "metadata": {
            "tags": []
          },
          "execution_count": 38
        }
      ]
    },
    {
      "cell_type": "code",
      "metadata": {
        "colab": {
          "base_uri": "https://localhost:8080/"
        },
        "id": "tJkVHTihFJRJ",
        "outputId": "e70297a5-0654-4bf4-e759-d7b82866ec22"
      },
      "source": [
        "index = 5\n",
        "row, col = index // 4, index % 4\n",
        "row, col"
      ],
      "execution_count": 41,
      "outputs": [
        {
          "output_type": "execute_result",
          "data": {
            "text/plain": [
              "(1, 1)"
            ]
          },
          "metadata": {
            "tags": []
          },
          "execution_count": 41
        }
      ]
    },
    {
      "cell_type": "code",
      "metadata": {
        "colab": {
          "base_uri": "https://localhost:8080/"
        },
        "id": "h5cXaUEbFSur",
        "outputId": "4750c33d-5f8d-4859-8259-7eb1960cd18a"
      },
      "source": [
        "a[row, col]"
      ],
      "execution_count": 42,
      "outputs": [
        {
          "output_type": "execute_result",
          "data": {
            "text/plain": [
              "78"
            ]
          },
          "metadata": {
            "tags": []
          },
          "execution_count": 42
        }
      ]
    },
    {
      "cell_type": "code",
      "metadata": {
        "colab": {
          "base_uri": "https://localhost:8080/"
        },
        "id": "KwZTo1R2EsBt",
        "outputId": "9e657f19-8a65-4937-95ee-4f023c0e10b4"
      },
      "source": [
        "np.argmax(a, axis=1), np.argmin(a, axis=1)"
      ],
      "execution_count": 39,
      "outputs": [
        {
          "output_type": "execute_result",
          "data": {
            "text/plain": [
              "(array([3, 1]), array([0, 3]))"
            ]
          },
          "metadata": {
            "tags": []
          },
          "execution_count": 39
        }
      ]
    },
    {
      "cell_type": "code",
      "metadata": {
        "colab": {
          "base_uri": "https://localhost:8080/"
        },
        "id": "Mv1bPTm5E0OR",
        "outputId": "b85f38e9-b01d-4aac-c509-6b10c86735b4"
      },
      "source": [
        "a"
      ],
      "execution_count": 40,
      "outputs": [
        {
          "output_type": "execute_result",
          "data": {
            "text/plain": [
              "array([[ 1,  2,  4,  5],\n",
              "       [ 8, 78, 23,  3]])"
            ]
          },
          "metadata": {
            "tags": []
          },
          "execution_count": 40
        }
      ]
    },
    {
      "cell_type": "markdown",
      "metadata": {
        "id": "5bEcnamkFe8r"
      },
      "source": [
        "## 8. Boolean & fancy index"
      ]
    },
    {
      "cell_type": "code",
      "metadata": {
        "colab": {
          "base_uri": "https://localhost:8080/"
        },
        "id": "0wYwsZC0E2jt",
        "outputId": "d5c57217-d98f-447e-852b-20cfd5aff22c"
      },
      "source": [
        "a > 4"
      ],
      "execution_count": 43,
      "outputs": [
        {
          "output_type": "execute_result",
          "data": {
            "text/plain": [
              "array([[False, False, False,  True],\n",
              "       [ True,  True,  True, False]])"
            ]
          },
          "metadata": {
            "tags": []
          },
          "execution_count": 43
        }
      ]
    },
    {
      "cell_type": "code",
      "metadata": {
        "colab": {
          "base_uri": "https://localhost:8080/"
        },
        "id": "l4Py9vhoFtFx",
        "outputId": "5be2b27e-cda5-4b46-e735-e08a5e38ba79"
      },
      "source": [
        "a[a>4]"
      ],
      "execution_count": 44,
      "outputs": [
        {
          "output_type": "execute_result",
          "data": {
            "text/plain": [
              "array([ 5,  8, 78, 23])"
            ]
          },
          "metadata": {
            "tags": []
          },
          "execution_count": 44
        }
      ]
    },
    {
      "cell_type": "markdown",
      "metadata": {
        "id": "tKpfX7izG1X2"
      },
      "source": [
        "### fancy index"
      ]
    },
    {
      "cell_type": "code",
      "metadata": {
        "colab": {
          "base_uri": "https://localhost:8080/"
        },
        "id": "japlcQXMF0IS",
        "outputId": "4e855452-7878-47ae-aa74-59d7d63ebb1a"
      },
      "source": [
        "a = np.array([2, 4, 6, 7])\n",
        "b = np.array([1, 3, 2, 0, 0, 1])\n",
        "a[b]"
      ],
      "execution_count": 45,
      "outputs": [
        {
          "output_type": "execute_result",
          "data": {
            "text/plain": [
              "array([4, 7, 6, 2, 2, 4])"
            ]
          },
          "metadata": {
            "tags": []
          },
          "execution_count": 45
        }
      ]
    },
    {
      "cell_type": "code",
      "metadata": {
        "colab": {
          "base_uri": "https://localhost:8080/"
        },
        "id": "aqIEDr0aG9aT",
        "outputId": "90840e48-9030-44e4-9efd-c2504ac95bda"
      },
      "source": [
        "a.take(b)"
      ],
      "execution_count": 46,
      "outputs": [
        {
          "output_type": "execute_result",
          "data": {
            "text/plain": [
              "array([4, 7, 6, 2, 2, 4])"
            ]
          },
          "metadata": {
            "tags": []
          },
          "execution_count": 46
        }
      ]
    },
    {
      "cell_type": "code",
      "metadata": {
        "colab": {
          "base_uri": "https://localhost:8080/"
        },
        "id": "C-HACMHxG_EF",
        "outputId": "391459d4-26f8-463f-9584-cd9317bd1595"
      },
      "source": [
        "a = np.arange(1, 13).reshape(3, 4)\n",
        "b = np.array([1, 2, 0, 1])        # 행 인덱스\n",
        "c = np.array([2, 1, 3, 0])\n",
        "a[b, c]"
      ],
      "execution_count": 47,
      "outputs": [
        {
          "output_type": "execute_result",
          "data": {
            "text/plain": [
              "array([ 7, 10,  4,  5])"
            ]
          },
          "metadata": {
            "tags": []
          },
          "execution_count": 47
        }
      ]
    },
    {
      "cell_type": "markdown",
      "metadata": {
        "id": "kyn99Ye9H6ys"
      },
      "source": [
        "## 9. 기술 통계"
      ]
    },
    {
      "cell_type": "code",
      "metadata": {
        "id": "YoekoxqLHMl2"
      },
      "source": [
        "a = np.random.normal(1, 10000, 1000)"
      ],
      "execution_count": 53,
      "outputs": []
    },
    {
      "cell_type": "code",
      "metadata": {
        "colab": {
          "base_uri": "https://localhost:8080/"
        },
        "id": "kXCjs2NzIk99",
        "outputId": "aea00761-1820-4c5d-8df9-1a3112f77f13"
      },
      "source": [
        "# 사분위수\n",
        "for q in [0, 25, 50, 75, 100]:\n",
        "    print(np.percentile(a, q))"
      ],
      "execution_count": 55,
      "outputs": [
        {
          "output_type": "stream",
          "text": [
            "-28530.175815516257\n",
            "-5954.275166885848\n",
            "701.5311273792383\n",
            "7185.3610465322035\n",
            "34243.275963528715\n"
          ],
          "name": "stdout"
        }
      ]
    },
    {
      "cell_type": "code",
      "metadata": {
        "id": "VToD4t8kJBSS"
      },
      "source": [
        "import matplotlib.pyplot as plt"
      ],
      "execution_count": 56,
      "outputs": []
    },
    {
      "cell_type": "code",
      "metadata": {
        "colab": {
          "base_uri": "https://localhost:8080/",
          "height": 265
        },
        "id": "MqM1w-TYJVKB",
        "outputId": "22017ea5-a696-4257-ae0b-72b24ac9479b"
      },
      "source": [
        "plt.boxplot(a)\n",
        "plt.show()"
      ],
      "execution_count": 57,
      "outputs": [
        {
          "output_type": "display_data",
          "data": {
            "image/png": "[encoded data removed]",
            "text/plain": [
              "<Figure size 432x288 with 1 Axes>"
            ]
          },
          "metadata": {
            "tags": [],
            "needs_background": "light"
          }
        }
      ]
    },
    {
      "cell_type": "code",
      "metadata": {
        "id": "sl4wfMHLJYXL"
      },
      "source": [
        ""
      ],
      "execution_count": null,
      "outputs": []
    }
  ]
}