{
 "cells": [
  {
   "cell_type": "markdown",
   "source": [
    "# 네이버 지식인 크롤링 - 여친선물"
   ],
   "metadata": {}
  },
  {
   "cell_type": "code",
   "execution_count": null,
   "source": [
    "!apt-get update > /dev/null\r\n",
    "!pip install selenium > /dev/null\r\n",
    "!apt install chromium-chromedriver > /dev/null"
   ],
   "outputs": [],
   "metadata": {}
  },
  {
   "cell_type": "code",
   "execution_count": null,
   "source": [
    "from selenium import webdriver\r\n",
    "from bs4 import BeautifulSoup\r\n",
    "import time\r\n",
    "from urllib.parse import quote"
   ],
   "outputs": [],
   "metadata": {}
  },
  {
   "cell_type": "code",
   "execution_count": null,
   "source": [
    "options = webdriver.ChromeOptions()\r\n",
    "options.add_argument('--headless')   # 화면없이 실행\r\n",
    "options.add_argument('--no-sandbox')\r\n",
    "options.add_argument(\"--single-process\")\r\n",
    "options.add_argument(\"--disable-dev-shm-usage\")\r\n",
    "driver = webdriver.Chrome('chromedriver', options=options)"
   ],
   "outputs": [],
   "metadata": {}
  },
  {
   "cell_type": "code",
   "execution_count": null,
   "source": [
    "base_url = 'https://kin.naver.com/search/list.naver?query='\r\n",
    "url = base_url + quote('여친선물')\r\n",
    "driver.get(url)"
   ],
   "outputs": [],
   "metadata": {}
  },
  {
   "cell_type": "code",
   "execution_count": null,
   "source": [
    "answer_list = []\r\n",
    "for page in range(1,11):\r\n",
    "    print('page', page)\r\n",
    "    url = f\"{base_url}{quote('여친선물')}&page={page}\"\r\n",
    "    driver.get(url)\r\n",
    "    time.sleep(2)\r\n",
    "\r\n",
    "    html = driver.page_source\r\n",
    "    soup = BeautifulSoup(html, 'html.parser')\r\n",
    "    lis = soup.select('ul.basic1 > li')\r\n",
    "\r\n",
    "    for li in lis:\r\n",
    "        sub_url = li.select_one('a._searchListTitleAnchor')['href']\r\n",
    "        driver.get(sub_url)\r\n",
    "        time.sleep(2)\r\n",
    "\r\n",
    "        count = int(driver.find_element_by_css_selector('._answerCount.num').text)\r\n",
    "        answer_page = (count - 1) // 5\r\n",
    "        #print(count, end=', ')\r\n",
    "        for i in range(answer_page):\r\n",
    "            driver.find_element_by_id('nextPageButton').click()\r\n",
    "            time.sleep(2)\r\n",
    "\r\n",
    "        html = driver.page_source\r\n",
    "        soup = BeautifulSoup(html, 'html.parser')\r\n",
    "        divs = soup.select('div.answer-content__item._contentWrap._answer')\r\n",
    "        #print(len(divs))\r\n",
    "        for div in divs:\r\n",
    "            ps = div.select('p.se-text-paragraph')\r\n",
    "            for p in ps:\r\n",
    "                text = p.get_text()\r\n",
    "                if text == ' ' or text == '\\u200b':\r\n",
    "                    continue\r\n",
    "                answer_list.append(text)\r\n",
    "\r\n",
    "        driver.back()\r\n",
    "        time.sleep(2)"
   ],
   "outputs": [],
   "metadata": {}
  },
  {
   "cell_type": "code",
   "execution_count": null,
   "source": [
    "len(answer_list)"
   ],
   "outputs": [],
   "metadata": {}
  },
  {
   "cell_type": "code",
   "execution_count": null,
   "source": [
    "\r\n",
    "with open('new_gift.txt', 'w', encoding='utf-8') as fp:\r\n",
    "    for answer in answer_list:\r\n",
    "        fp.write(answer+'\\n')"
   ],
   "outputs": [],
   "metadata": {}
  },
  {
   "cell_type": "code",
   "execution_count": null,
   "source": [
    "driver.close()"
   ],
   "outputs": [],
   "metadata": {}
  }
 ],
 "metadata": {
  "orig_nbformat": 4,
  "language_info": {
   "name": "python"
  }
 },
 "nbformat": 4,
 "nbformat_minor": 2
}