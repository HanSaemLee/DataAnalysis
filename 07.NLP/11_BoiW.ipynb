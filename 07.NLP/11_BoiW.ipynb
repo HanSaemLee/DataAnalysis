{
 "cells": [
  {
   "cell_type": "markdown",
   "source": [
    "# Bag of words"
   ],
   "metadata": {}
  },
  {
   "cell_type": "markdown",
   "source": [
    "## 1. Count Vectorizer"
   ],
   "metadata": {}
  },
  {
   "cell_type": "code",
   "execution_count": 1,
   "source": [
    "# 단어의 빈도를 Count하여 Vector로 만드는 CountVectorizer 클래스\r\n",
    "# CountVectorizer는 단지 띄어쓰기만을 기준으로 단어를 자르는 낮은 수준의 토큰화\r\n",
    "# 영어는 문제가 없지만 한국어는 어렵다\r\n",
    "from sklearn.feature_extraction.text import CountVectorizer\r\n",
    "corpus = ['you know I want your love. because I love you']"
   ],
   "outputs": [],
   "metadata": {}
  },
  {
   "cell_type": "code",
   "execution_count": 2,
   "source": [
    "cvector = CountVectorizer()"
   ],
   "outputs": [],
   "metadata": {}
  },
  {
   "cell_type": "code",
   "execution_count": 3,
   "source": [
    "cvector.fit(corpus)     # 학습\r\n",
    "cvector.transform(corpus).toarray()     # 코퍼스로부터 각 단어의 빈도 수를 기록"
   ],
   "outputs": [
    {
     "output_type": "execute_result",
     "data": {
      "text/plain": [
       "array([[1, 1, 2, 1, 2, 1]], dtype=int64)"
      ]
     },
     "metadata": {},
     "execution_count": 3
    }
   ],
   "metadata": {}
  },
  {
   "cell_type": "code",
   "execution_count": 4,
   "source": [
    "print(cvector.vocabulary_)      # 각 단어의 인덱스 부여 확인"
   ],
   "outputs": [
    {
     "output_type": "stream",
     "name": "stdout",
     "text": [
      "{'you': 4, 'know': 1, 'want': 3, 'your': 5, 'love': 2, 'because': 0}\n"
     ]
    }
   ],
   "metadata": {}
  },
  {
   "cell_type": "code",
   "execution_count": 5,
   "source": [
    "output = cvector.fit_transform(corpus).toarray()\r\n",
    "output"
   ],
   "outputs": [
    {
     "output_type": "execute_result",
     "data": {
      "text/plain": [
       "array([[1, 1, 2, 1, 2, 1]], dtype=int64)"
      ]
     },
     "metadata": {},
     "execution_count": 5
    }
   ],
   "metadata": {}
  },
  {
   "cell_type": "code",
   "execution_count": 6,
   "source": [
    "output.shape"
   ],
   "outputs": [
    {
     "output_type": "execute_result",
     "data": {
      "text/plain": [
       "(1, 6)"
      ]
     },
     "metadata": {},
     "execution_count": 6
    }
   ],
   "metadata": {}
  },
  {
   "cell_type": "markdown",
   "source": [
    "- 불용어를 제거한 BoW"
   ],
   "metadata": {}
  },
  {
   "cell_type": "code",
   "execution_count": 7,
   "source": [
    "# 사용자 정의\r\n",
    "\r\n",
    "text=[\"Family is not an important thing, It's everything\"]\r\n",
    "vect = CountVectorizer(stop_words=[\"the\",\"a\",\"an\",\"is\",\"not\"])\r\n",
    "print(vect.fit_transform(text).toarray())\r\n",
    "print(vect.vocabulary_)"
   ],
   "outputs": [
    {
     "output_type": "stream",
     "name": "stdout",
     "text": [
      "[[1 1 1 1 1]]\n",
      "{'family': 1, 'important': 2, 'thing': 4, 'it': 3, 'everything': 0}\n"
     ]
    }
   ],
   "metadata": {}
  },
  {
   "cell_type": "code",
   "execution_count": 8,
   "source": [
    "# Scikit-Learn 제공\r\n",
    "text=[\"Family is not an important thing. It's everything.\"]\r\n",
    "vect = CountVectorizer(stop_words=\"english\")\r\n",
    "print(vect.fit_transform(text).toarray())\r\n",
    "print(vect.vocabulary_)"
   ],
   "outputs": [
    {
     "output_type": "stream",
     "name": "stdout",
     "text": [
      "[[1 1 1]]\n",
      "{'family': 0, 'important': 1, 'thing': 2}\n"
     ]
    }
   ],
   "metadata": {}
  },
  {
   "cell_type": "code",
   "execution_count": 9,
   "source": [
    "import nltk\r\n",
    "nltk.download('stopwords')"
   ],
   "outputs": [
    {
     "output_type": "stream",
     "name": "stderr",
     "text": [
      "[nltk_data] Downloading package stopwords to\n",
      "[nltk_data]     C:\\Users\\Hs\\AppData\\Roaming\\nltk_data...\n",
      "[nltk_data]   Package stopwords is already up-to-date!\n"
     ]
    },
    {
     "output_type": "execute_result",
     "data": {
      "text/plain": [
       "True"
      ]
     },
     "metadata": {},
     "execution_count": 9
    }
   ],
   "metadata": {}
  },
  {
   "cell_type": "code",
   "execution_count": 10,
   "source": [
    "#  NLTK 제공\r\n",
    "from nltk.corpus import stopwords\r\n",
    "\r\n",
    "text=[\"Family is not an important thing. It's everything.\"]\r\n",
    "sw = stopwords.words(\"english\")\r\n",
    "vect = CountVectorizer(stop_words = sw)\r\n",
    "print(vect.fit_transform(text).toarray())\r\n",
    "print(vect.vocabulary_)"
   ],
   "outputs": [
    {
     "output_type": "stream",
     "name": "stdout",
     "text": [
      "[[1 1 1 1]]\n",
      "{'family': 1, 'important': 2, 'thing': 3, 'everything': 0}\n"
     ]
    }
   ],
   "metadata": {}
  }
 ],
 "metadata": {
  "orig_nbformat": 4,
  "language_info": {
   "name": "python",
   "version": "3.8.10",
   "mimetype": "text/x-python",
   "codemirror_mode": {
    "name": "ipython",
    "version": 3
   },
   "pygments_lexer": "ipython3",
   "nbconvert_exporter": "python",
   "file_extension": ".py"
  },
  "kernelspec": {
   "name": "python3",
   "display_name": "Python 3.8.10 64-bit"
  },
  "interpreter": {
   "hash": "3afaf00aff83f2e8eb9647e300ff648c4cd120434f7e4c9b48fc973ba4a47465"
  }
 },
 "nbformat": 4,
 "nbformat_minor": 2
}