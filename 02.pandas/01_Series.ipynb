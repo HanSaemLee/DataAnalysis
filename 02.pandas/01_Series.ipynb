{
  "nbformat": 4,
  "nbformat_minor": 2,
  "metadata": {
    "colab": {
      "name": "01_Series.ipynb",
      "provenance": [],
      "collapsed_sections": []
    },
    "kernelspec": {
      "name": "python3",
      "display_name": "Python 3.8.10 64-bit ('base': conda)"
    },
    "language_info": {
      "name": "python",
      "version": "3.8.10",
      "mimetype": "text/x-python",
      "codemirror_mode": {
        "name": "ipython",
        "version": 3
      },
      "pygments_lexer": "ipython3",
      "nbconvert_exporter": "python",
      "file_extension": ".py"
    },
    "interpreter": {
      "hash": "3afaf00aff83f2e8eb9647e300ff648c4cd120434f7e4c9b48fc973ba4a47465"
    }
  },
  "cells": [
    {
      "cell_type": "markdown",
      "source": [
        "# Pandas - Series"
      ],
      "metadata": {
        "id": "nLh0fXWzrOrx"
      }
    },
    {
      "cell_type": "code",
      "execution_count": 1,
      "source": [
        "import numpy as np\r\n",
        "import pandas as pd"
      ],
      "outputs": [],
      "metadata": {
        "id": "S9nLB8L9rKzB"
      }
    },
    {
      "cell_type": "markdown",
      "source": [
        "## 시리즈 생성"
      ],
      "metadata": {
        "id": "c7M-D5eWrc6p"
      }
    },
    {
      "cell_type": "code",
      "execution_count": 10,
      "source": [
        "s = pd.Series([9904312, 3448737, 2890451, 246052])\r\n",
        "s"
      ],
      "outputs": [
        {
          "output_type": "execute_result",
          "data": {
            "text/plain": [
              "0    9904312\n",
              "1    3448737\n",
              "2    2890451\n",
              "3     246052\n",
              "dtype: int64"
            ]
          },
          "metadata": {
            "tags": []
          },
          "execution_count": 10
        }
      ],
      "metadata": {
        "colab": {
          "base_uri": "https://localhost:8080/"
        },
        "id": "x45fpDE-xT6C",
        "outputId": "1b81548c-94d5-4ee2-9546-95bf66d15794"
      }
    },
    {
      "cell_type": "code",
      "execution_count": 13,
      "source": [
        "s = pd.Series([9904312, 3448737, 2890451, 246052],\r\n",
        "              index=['서울', '부산', '인천', '대구'], dtype=np.int32)\r\n",
        "s"
      ],
      "outputs": [
        {
          "output_type": "execute_result",
          "data": {
            "text/plain": [
              "서울    9904312\n",
              "부산    3448737\n",
              "인천    2890451\n",
              "대구     246052\n",
              "dtype: int32"
            ]
          },
          "metadata": {
            "tags": []
          },
          "execution_count": 13
        }
      ],
      "metadata": {
        "colab": {
          "base_uri": "https://localhost:8080/"
        },
        "id": "ZcZYgvLFrXgJ",
        "outputId": "db0ee106-3da0-45b4-9def-ff57aeb5f3db"
      }
    },
    {
      "cell_type": "code",
      "execution_count": 11,
      "source": [
        "# 시리즈의 값 - 넘파이 배열\r\n",
        "s.values"
      ],
      "outputs": [
        {
          "output_type": "execute_result",
          "data": {
            "text/plain": [
              "array([9904312, 3448737, 2890451,  246052])"
            ]
          },
          "metadata": {
            "tags": []
          },
          "execution_count": 11
        }
      ],
      "metadata": {
        "colab": {
          "base_uri": "https://localhost:8080/"
        },
        "id": "819jqx_-wjFo",
        "outputId": "a680524d-99c3-4ac4-d0fc-36fdf83759a9"
      }
    },
    {
      "cell_type": "code",
      "execution_count": 14,
      "source": [
        "# 시리즈의 인덱스\r\n",
        "s.index"
      ],
      "outputs": [
        {
          "output_type": "execute_result",
          "data": {
            "text/plain": [
              "Index(['서울', '부산', '인천', '대구'], dtype='object')"
            ]
          },
          "metadata": {
            "tags": []
          },
          "execution_count": 14
        }
      ],
      "metadata": {
        "colab": {
          "base_uri": "https://localhost:8080/"
        },
        "id": "X-My-iuMxhuo",
        "outputId": "f91dd915-d364-4dbf-97fd-d46741c8e1f8"
      }
    },
    {
      "cell_type": "code",
      "execution_count": 15,
      "source": [
        "s.name = '인구'\r\n",
        "s.index.name = '도시'\r\n",
        "s"
      ],
      "outputs": [
        {
          "output_type": "execute_result",
          "data": {
            "text/plain": [
              "도시\n",
              "서울    9904312\n",
              "부산    3448737\n",
              "인천    2890451\n",
              "대구     246052\n",
              "Name: 인구, dtype: int32"
            ]
          },
          "metadata": {
            "tags": []
          },
          "execution_count": 15
        }
      ],
      "metadata": {
        "colab": {
          "base_uri": "https://localhost:8080/"
        },
        "id": "pIyfj4_wxkj7",
        "outputId": "01c4f9c7-faaa-4df0-a129-b9d3743cf920"
      }
    },
    {
      "cell_type": "markdown",
      "source": [
        "## 시리즈의 연산"
      ],
      "metadata": {
        "id": "cuRp3dpbyGO7"
      }
    },
    {
      "cell_type": "code",
      "execution_count": 16,
      "source": [
        "s / 1000000"
      ],
      "outputs": [
        {
          "output_type": "execute_result",
          "data": {
            "text/plain": [
              "도시\n",
              "서울    9.904312\n",
              "부산    3.448737\n",
              "인천    2.890451\n",
              "대구    0.246052\n",
              "Name: 인구, dtype: float64"
            ]
          },
          "metadata": {
            "tags": []
          },
          "execution_count": 16
        }
      ],
      "metadata": {
        "colab": {
          "base_uri": "https://localhost:8080/"
        },
        "id": "VBhr5Cm5x4e8",
        "outputId": "6139d2f4-9e1a-4f47-8ce7-0fb2c7ce492b"
      }
    },
    {
      "cell_type": "markdown",
      "source": [
        "## 시리즈 인덱싱"
      ],
      "metadata": {
        "id": "-blTFVwgylv1"
      }
    },
    {
      "cell_type": "code",
      "execution_count": 32,
      "source": [
        "s[1], s['부산'], s.부산"
      ],
      "outputs": [
        {
          "output_type": "execute_result",
          "data": {
            "text/plain": [
              "(3448737, 3448737, 3448737)"
            ]
          },
          "metadata": {
            "tags": []
          },
          "execution_count": 32
        }
      ],
      "metadata": {
        "colab": {
          "base_uri": "https://localhost:8080/"
        },
        "id": "XeRuo9TOybbo",
        "outputId": "8d48a0d1-2b69-4842-f6b7-d703c3b6dc20"
      }
    },
    {
      "cell_type": "code",
      "execution_count": 24,
      "source": [
        "# fancy indexing\r\n",
        "s[[0, 3, 1]], s[['서울', '대구', '부산']]"
      ],
      "outputs": [
        {
          "output_type": "execute_result",
          "data": {
            "text/plain": [
              "(도시\n",
              " 서울    9904312\n",
              " 대구     246052\n",
              " 부산    3448737\n",
              " Name: 인구, dtype: int32, 도시\n",
              " 서울    9904312\n",
              " 대구     246052\n",
              " 부산    3448737\n",
              " Name: 인구, dtype: int32)"
            ]
          },
          "metadata": {
            "tags": []
          },
          "execution_count": 24
        }
      ],
      "metadata": {
        "colab": {
          "base_uri": "https://localhost:8080/"
        },
        "id": "wP8M9J7gywIM",
        "outputId": "6c2c41f3-55c9-4936-ae31-76b8675f80f2"
      }
    },
    {
      "cell_type": "code",
      "execution_count": 25,
      "source": [
        "# slicing\r\n",
        "s[1:3]"
      ],
      "outputs": [
        {
          "output_type": "execute_result",
          "data": {
            "text/plain": [
              "도시\n",
              "부산    3448737\n",
              "인천    2890451\n",
              "Name: 인구, dtype: int32"
            ]
          },
          "metadata": {
            "tags": []
          },
          "execution_count": 25
        }
      ],
      "metadata": {
        "colab": {
          "base_uri": "https://localhost:8080/"
        },
        "id": "BRKENT-ozXSn",
        "outputId": "4d382ce9-45b7-47cf-fd22-5033774d5368"
      }
    },
    {
      "cell_type": "code",
      "execution_count": 27,
      "source": [
        "# 문자인덱스로 슬라이싱하면 마지막도 포함(위와 비교)\r\n",
        "s['부산':'대구']"
      ],
      "outputs": [
        {
          "output_type": "execute_result",
          "data": {
            "text/plain": [
              "도시\n",
              "부산    3448737\n",
              "인천    2890451\n",
              "대구     246052\n",
              "Name: 인구, dtype: int32"
            ]
          },
          "metadata": {
            "tags": []
          },
          "execution_count": 27
        }
      ],
      "metadata": {
        "colab": {
          "base_uri": "https://localhost:8080/"
        },
        "id": "gnPLOQ5qzyAE",
        "outputId": "85d1b9a1-7d7e-4b5e-f687-a27c4ca0d0ec"
      }
    },
    {
      "cell_type": "code",
      "execution_count": 29,
      "source": [
        "# 필터링\r\n",
        "s[(2500000 < s) & (s < 3000000)]  # s[25000000 < s < 3000000]은 사용불가"
      ],
      "outputs": [
        {
          "output_type": "execute_result",
          "data": {
            "text/plain": [
              "도시\n",
              "인천    2890451\n",
              "Name: 인구, dtype: int32"
            ]
          },
          "metadata": {
            "tags": []
          },
          "execution_count": 29
        }
      ],
      "metadata": {
        "colab": {
          "base_uri": "https://localhost:8080/"
        },
        "id": "K4TSCzcwz5pi",
        "outputId": "924e34df-54b3-4f0f-cecc-1f360bda16e3"
      }
    },
    {
      "cell_type": "code",
      "execution_count": 30,
      "source": [
        "s[(s<2500000) | (s>4e6)]"
      ],
      "outputs": [
        {
          "output_type": "execute_result",
          "data": {
            "text/plain": [
              "도시\n",
              "서울    9904312\n",
              "대구     246052\n",
              "Name: 인구, dtype: int32"
            ]
          },
          "metadata": {
            "tags": []
          },
          "execution_count": 30
        }
      ],
      "metadata": {
        "colab": {
          "base_uri": "https://localhost:8080/"
        },
        "id": "dhxiPvBK0vjB",
        "outputId": "d568220b-05fd-4b45-e68e-b09fc27607ad"
      }
    },
    {
      "cell_type": "markdown",
      "source": [
        "### 시리즈와 딕셔너리"
      ],
      "metadata": {
        "id": "4Iowq4D72j5s"
      }
    },
    {
      "cell_type": "code",
      "execution_count": 35,
      "source": [
        "'서울' in s, '대전' in s"
      ],
      "outputs": [
        {
          "output_type": "execute_result",
          "data": {
            "text/plain": [
              "(True, False)"
            ]
          },
          "metadata": {
            "tags": []
          },
          "execution_count": 35
        }
      ],
      "metadata": {
        "colab": {
          "base_uri": "https://localhost:8080/"
        },
        "id": "je-L97zS21Wb",
        "outputId": "f087b18f-f86c-4903-d156-f279a52159c9"
      }
    },
    {
      "cell_type": "code",
      "execution_count": 34,
      "source": [
        "s2 = pd.Series({\"서울\":9631482, \"부산\":3393191, \"인천\":2632035, \"대전\":1490158})\r\n",
        "s2"
      ],
      "outputs": [
        {
          "output_type": "execute_result",
          "data": {
            "text/plain": [
              "서울    9631482\n",
              "부산    3393191\n",
              "인천    2632035\n",
              "대전    1490158\n",
              "dtype: int64"
            ]
          },
          "metadata": {
            "tags": []
          },
          "execution_count": 34
        }
      ],
      "metadata": {
        "colab": {
          "base_uri": "https://localhost:8080/"
        },
        "id": "xiChQG8c2lYp",
        "outputId": "8bfecdd9-3efc-4e9b-fb21-fde1f93226bb"
      }
    },
    {
      "cell_type": "markdown",
      "source": [
        "## 인덱스 기반 연산"
      ],
      "metadata": {
        "id": "QXtLTVUy3YTV"
      }
    },
    {
      "cell_type": "code",
      "execution_count": 36,
      "source": [
        "s - s2"
      ],
      "outputs": [
        {
          "output_type": "execute_result",
          "data": {
            "text/plain": [
              "대구         NaN\n",
              "대전         NaN\n",
              "부산     55546.0\n",
              "서울    272830.0\n",
              "인천    258416.0\n",
              "dtype: float64"
            ]
          },
          "metadata": {
            "tags": []
          },
          "execution_count": 36
        }
      ],
      "metadata": {
        "colab": {
          "base_uri": "https://localhost:8080/"
        },
        "id": "GclCA9972wws",
        "outputId": "526f221a-7e4c-4c91-a5e4-01c040f463fb"
      }
    },
    {
      "cell_type": "code",
      "execution_count": 38,
      "source": [
        "s.values - s2.values"
      ],
      "outputs": [
        {
          "output_type": "execute_result",
          "data": {
            "text/plain": [
              "array([  272830,    55546,   258416, -1244106])"
            ]
          },
          "metadata": {
            "tags": []
          },
          "execution_count": 38
        }
      ],
      "metadata": {
        "colab": {
          "base_uri": "https://localhost:8080/"
        },
        "id": "w1Lw8h7H3kY9",
        "outputId": "2c894b90-600f-437a-f291-d2c80355fbc1"
      }
    },
    {
      "cell_type": "code",
      "execution_count": 39,
      "source": [
        "rs = (s-s2)/s2 * 100\r\n",
        "rs"
      ],
      "outputs": [
        {
          "output_type": "execute_result",
          "data": {
            "text/plain": [
              "대구         NaN\n",
              "대전         NaN\n",
              "부산    1.636984\n",
              "서울    2.832690\n",
              "인천    9.818107\n",
              "dtype: float64"
            ]
          },
          "metadata": {
            "tags": []
          },
          "execution_count": 39
        }
      ],
      "metadata": {
        "colab": {
          "base_uri": "https://localhost:8080/"
        },
        "id": "7Euqaedl355E",
        "outputId": "98ff02ad-dc00-4c3d-aa3d-d0d3e1b4b37e"
      }
    },
    {
      "cell_type": "code",
      "execution_count": 40,
      "source": [
        "rs.notnull()"
      ],
      "outputs": [
        {
          "output_type": "execute_result",
          "data": {
            "text/plain": [
              "대구    False\n",
              "대전    False\n",
              "부산     True\n",
              "서울     True\n",
              "인천     True\n",
              "dtype: bool"
            ]
          },
          "metadata": {
            "tags": []
          },
          "execution_count": 40
        }
      ],
      "metadata": {
        "colab": {
          "base_uri": "https://localhost:8080/"
        },
        "id": "THJ8c_3k4SW2",
        "outputId": "ff844d56-df35-4312-cf4e-fda69a06bdef"
      }
    },
    {
      "cell_type": "code",
      "execution_count": 43,
      "source": [
        "rs = rs[rs.notnull()]\r\n",
        "rs"
      ],
      "outputs": [
        {
          "output_type": "execute_result",
          "data": {
            "text/plain": [
              "부산    1.630000\n",
              "서울    2.832690\n",
              "인천    9.818107\n",
              "dtype: float64"
            ]
          },
          "metadata": {
            "tags": []
          },
          "execution_count": 43
        }
      ],
      "metadata": {
        "colab": {
          "base_uri": "https://localhost:8080/"
        },
        "id": "thbNgd6J4UfQ",
        "outputId": "d644ba15-2b2e-4c79-d1c0-797b9d9f3704"
      }
    },
    {
      "cell_type": "markdown",
      "source": [
        "## 데이터의 갱신, 추가, 삭제"
      ],
      "metadata": {
        "id": "OyCIXrZT4bOd"
      }
    },
    {
      "cell_type": "code",
      "execution_count": 44,
      "source": [
        "# 갱신\r\n",
        "rs['부산'] = 1.63\r\n",
        "rs"
      ],
      "outputs": [
        {
          "output_type": "execute_result",
          "data": {
            "text/plain": [
              "부산    1.630000\n",
              "서울    2.832690\n",
              "인천    9.818107\n",
              "dtype: float64"
            ]
          },
          "metadata": {
            "tags": []
          },
          "execution_count": 44
        }
      ],
      "metadata": {
        "colab": {
          "base_uri": "https://localhost:8080/"
        },
        "id": "GJOiT7D_4ZDc",
        "outputId": "4fe71b39-a9c4-4c63-83f0-8d845466f53c"
      }
    },
    {
      "cell_type": "code",
      "execution_count": 45,
      "source": [
        "# 추가\r\n",
        "rs['대구'] = 1.41\r\n",
        "rs"
      ],
      "outputs": [
        {
          "output_type": "execute_result",
          "data": {
            "text/plain": [
              "부산    1.630000\n",
              "서울    2.832690\n",
              "인천    9.818107\n",
              "대구    1.410000\n",
              "dtype: float64"
            ]
          },
          "metadata": {
            "tags": []
          },
          "execution_count": 45
        }
      ],
      "metadata": {
        "colab": {
          "base_uri": "https://localhost:8080/"
        },
        "id": "5_KR8SWj4ixy",
        "outputId": "16b68e19-9072-4d3a-8e39-b211e829319d"
      }
    },
    {
      "cell_type": "code",
      "execution_count": 46,
      "source": [
        "# 삭제\r\n",
        "del rs['부산']\r\n",
        "rs"
      ],
      "outputs": [
        {
          "output_type": "execute_result",
          "data": {
            "text/plain": [
              "서울    2.832690\n",
              "인천    9.818107\n",
              "대구    1.410000\n",
              "dtype: float64"
            ]
          },
          "metadata": {
            "tags": []
          },
          "execution_count": 46
        }
      ],
      "metadata": {
        "colab": {
          "base_uri": "https://localhost:8080/"
        },
        "id": "ue7GcSYo4yJF",
        "outputId": "fd70917c-add7-411c-fbbd-70608e3db9c4"
      }
    }
  ]
}