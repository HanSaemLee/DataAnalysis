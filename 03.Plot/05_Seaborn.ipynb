{
 "cells": [
  {
   "cell_type": "markdown",
   "source": [
    "# Seaborn 데이터 시각화"
   ],
   "metadata": {}
  },
  {
   "cell_type": "code",
   "execution_count": null,
   "source": [],
   "outputs": [],
   "metadata": {}
  }
 ],
 "metadata": {
  "orig_nbformat": 4,
  "language_info": {
   "name": "python"
  }
 },
 "nbformat": 4,
 "nbformat_minor": 2
}