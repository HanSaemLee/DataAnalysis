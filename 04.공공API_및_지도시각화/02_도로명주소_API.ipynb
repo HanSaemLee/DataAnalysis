{
 "cells": [
  {
   "cell_type": "markdown",
   "source": [
    "# 행안부 도로명주소 API\r\n",
    "- 건물명, 명소로부터 도로명 주소 구하기"
   ],
   "metadata": {}
  },
  {
   "cell_type": "code",
   "execution_count": 2,
   "source": [
    "with open('roadapikey.txt') as f:\r\n",
    "    api_key = f.read()\r\n",
    "len(api_key)"
   ],
   "outputs": [
    {
     "output_type": "execute_result",
     "data": {
      "text/plain": [
       "40"
      ]
     },
     "metadata": {},
     "execution_count": 2
    }
   ],
   "metadata": {}
  },
  {
   "cell_type": "code",
   "execution_count": 3,
   "source": [
    "import requests\r\n",
    "from urllib.parse import quote"
   ],
   "outputs": [],
   "metadata": {}
  },
  {
   "cell_type": "code",
   "execution_count": 4,
   "source": [
    "bldg = '서울특별시청'\r\n",
    "quote(bldg)"
   ],
   "outputs": [
    {
     "output_type": "execute_result",
     "data": {
      "text/plain": [
       "'%EC%84%9C%EC%9A%B8%ED%8A%B9%EB%B3%84%EC%8B%9C%EC%B2%AD'"
      ]
     },
     "metadata": {},
     "execution_count": 4
    }
   ],
   "metadata": {}
  },
  {
   "cell_type": "code",
   "execution_count": 6,
   "source": [
    "road_url = 'https://www.juso.go.kr/addrlink/addrLinkApi.do'\r\n",
    "option = f'confmKey={api_key}&currentPage=1&countPerPage=10&keyword={quote(bldg)}'\r\n",
    "url = f'{road_url}?{option}&resultType=json'"
   ],
   "outputs": [],
   "metadata": {}
  },
  {
   "cell_type": "code",
   "execution_count": 7,
   "source": [
    "result = requests.get(url).json()\r\n",
    "result"
   ],
   "outputs": [
    {
     "output_type": "execute_result",
     "data": {
      "text/plain": [
       "{'results': {'common': {'errorMessage': '정상',\n",
       "   'countPerPage': '10',\n",
       "   'totalCount': '1',\n",
       "   'errorCode': '0',\n",
       "   'currentPage': '1'},\n",
       "  'juso': [{'detBdNmList': '본관동,신관',\n",
       "    'engAddr': '110, Sejong-daero, Jung-gu, Seoul',\n",
       "    'rn': '세종대로',\n",
       "    'emdNm': '태평로1가',\n",
       "    'zipNo': '04524',\n",
       "    'roadAddrPart2': '(태평로1가)',\n",
       "    'emdNo': '02',\n",
       "    'sggNm': '중구',\n",
       "    'jibunAddr': '서울특별시 중구 태평로1가 31 서울특별시청',\n",
       "    'siNm': '서울특별시',\n",
       "    'roadAddrPart1': '서울특별시 중구 세종대로 110',\n",
       "    'bdNm': '서울특별시청',\n",
       "    'admCd': '1114010300',\n",
       "    'udrtYn': '0',\n",
       "    'lnbrMnnm': '31',\n",
       "    'roadAddr': '서울특별시 중구 세종대로 110(태평로1가)',\n",
       "    'lnbrSlno': '0',\n",
       "    'buldMnnm': '110',\n",
       "    'bdKdcd': '0',\n",
       "    'liNm': '',\n",
       "    'rnMgtSn': '111402005001',\n",
       "    'mtYn': '0',\n",
       "    'bdMgtSn': '1114010300100310000019224',\n",
       "    'buldSlno': '0'}]}}"
      ]
     },
     "metadata": {},
     "execution_count": 7
    }
   ],
   "metadata": {}
  },
  {
   "cell_type": "code",
   "execution_count": 9,
   "source": [
    "result['results']['juso'][0]['roadAddr']"
   ],
   "outputs": [
    {
     "output_type": "execute_result",
     "data": {
      "text/plain": [
       "'서울특별시 중구 세종대로 110(태평로1가)'"
      ]
     },
     "metadata": {},
     "execution_count": 9
    }
   ],
   "metadata": {}
  },
  {
   "cell_type": "code",
   "execution_count": 10,
   "source": [
    "bldgs = ['종로구청','노원구청','송파구청','마포구청','양천구청']"
   ],
   "outputs": [],
   "metadata": {}
  },
  {
   "cell_type": "code",
   "execution_count": 11,
   "source": [
    "addr_list = []\r\n",
    "for bldg in bldgs:\r\n",
    "    option = f'confmKey={api_key}&currentPage=1&countPerPage=10&keyword={quote(bldg)}'\r\n",
    "    url = f'{road_url}?{option}&resultType=json'\r\n",
    "    result = requests.get(url).json()\r\n",
    "    addr = result['results']['juso'][0]['roadAddr']     # 'results' 바뀐다\r\n",
    "    addr_list.append(addr)"
   ],
   "outputs": [],
   "metadata": {}
  },
  {
   "cell_type": "code",
   "execution_count": 12,
   "source": [
    "addr_list"
   ],
   "outputs": [
    {
     "output_type": "execute_result",
     "data": {
      "text/plain": [
       "['서울특별시 종로구 종로1길 36(수송동)',\n",
       " '서울특별시 노원구 노해로 437(상계동)',\n",
       " '서울특별시 송파구 올림픽로 326(신천동)',\n",
       " '서울특별시 마포구 월드컵로 지하190(성산동)',\n",
       " '서울특별시 양천구 목동동로 105(신정동)']"
      ]
     },
     "metadata": {},
     "execution_count": 12
    }
   ],
   "metadata": {}
  },
  {
   "cell_type": "code",
   "execution_count": 14,
   "source": [
    "import pandas as pd\r\n",
    "\r\n",
    "df = pd.DataFrame({\r\n",
    "    '공공기관': bldgs,\r\n",
    "    '도로명주소': addr_list\r\n",
    "})\r\n",
    "df"
   ],
   "outputs": [
    {
     "output_type": "execute_result",
     "data": {
      "text/plain": [
       "   공공기관                      도로명주소\n",
       "0  종로구청     서울특별시 종로구 종로1길 36(수송동)\n",
       "1  노원구청     서울특별시 노원구 노해로 437(상계동)\n",
       "2  송파구청    서울특별시 송파구 올림픽로 326(신천동)\n",
       "3  마포구청  서울특별시 마포구 월드컵로 지하190(성산동)\n",
       "4  양천구청    서울특별시 양천구 목동동로 105(신정동)"
      ],
      "text/html": [
       "<div>\n",
       "<style scoped>\n",
       "    .dataframe tbody tr th:only-of-type {\n",
       "        vertical-align: middle;\n",
       "    }\n",
       "\n",
       "    .dataframe tbody tr th {\n",
       "        vertical-align: top;\n",
       "    }\n",
       "\n",
       "    .dataframe thead th {\n",
       "        text-align: right;\n",
       "    }\n",
       "</style>\n",
       "<table border=\"1\" class=\"dataframe\">\n",
       "  <thead>\n",
       "    <tr style=\"text-align: right;\">\n",
       "      <th></th>\n",
       "      <th>공공기관</th>\n",
       "      <th>도로명주소</th>\n",
       "    </tr>\n",
       "  </thead>\n",
       "  <tbody>\n",
       "    <tr>\n",
       "      <th>0</th>\n",
       "      <td>종로구청</td>\n",
       "      <td>서울특별시 종로구 종로1길 36(수송동)</td>\n",
       "    </tr>\n",
       "    <tr>\n",
       "      <th>1</th>\n",
       "      <td>노원구청</td>\n",
       "      <td>서울특별시 노원구 노해로 437(상계동)</td>\n",
       "    </tr>\n",
       "    <tr>\n",
       "      <th>2</th>\n",
       "      <td>송파구청</td>\n",
       "      <td>서울특별시 송파구 올림픽로 326(신천동)</td>\n",
       "    </tr>\n",
       "    <tr>\n",
       "      <th>3</th>\n",
       "      <td>마포구청</td>\n",
       "      <td>서울특별시 마포구 월드컵로 지하190(성산동)</td>\n",
       "    </tr>\n",
       "    <tr>\n",
       "      <th>4</th>\n",
       "      <td>양천구청</td>\n",
       "      <td>서울특별시 양천구 목동동로 105(신정동)</td>\n",
       "    </tr>\n",
       "  </tbody>\n",
       "</table>\n",
       "</div>"
      ]
     },
     "metadata": {},
     "execution_count": 14
    }
   ],
   "metadata": {}
  },
  {
   "cell_type": "code",
   "execution_count": 15,
   "source": [
    "df.to_csv('공공기관.csv', index=False)"
   ],
   "outputs": [],
   "metadata": {}
  },
  {
   "cell_type": "code",
   "execution_count": null,
   "source": [],
   "outputs": [],
   "metadata": {}
  }
 ],
 "metadata": {
  "orig_nbformat": 4,
  "language_info": {
   "name": "python",
   "version": "3.8.10",
   "mimetype": "text/x-python",
   "codemirror_mode": {
    "name": "ipython",
    "version": 3
   },
   "pygments_lexer": "ipython3",
   "nbconvert_exporter": "python",
   "file_extension": ".py"
  },
  "kernelspec": {
   "name": "python3",
   "display_name": "Python 3.8.10 64-bit ('base': conda)"
  },
  "interpreter": {
   "hash": "3afaf00aff83f2e8eb9647e300ff648c4cd120434f7e4c9b48fc973ba4a47465"
  }
 },
 "nbformat": 4,
 "nbformat_minor": 2
}