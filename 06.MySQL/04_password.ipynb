{
 "cells": [
  {
   "cell_type": "markdown",
   "source": [
    "# users table에 패스워드 넣기"
   ],
   "metadata": {}
  },
  {
   "cell_type": "code",
   "execution_count": 1,
   "source": [
    "!pip install pymysql > /dev/null"
   ],
   "outputs": [
    {
     "output_type": "stream",
     "name": "stderr",
     "text": [
      "������ ��θ� ã�� �� �����ϴ�.\n"
     ]
    }
   ],
   "metadata": {}
  },
  {
   "cell_type": "code",
   "execution_count": 2,
   "source": [
    "import json\r\n",
    "with open('mysql.json') as fp:\r\n",
    "    config_str = fp.read()\r\n",
    "config = json.loads(config_str)"
   ],
   "outputs": [],
   "metadata": {}
  },
  {
   "cell_type": "code",
   "execution_count": 11,
   "source": [
    "import pymysql\r\n",
    "conn = pymysql.connect(\r\n",
    "    host=config['host'],\r\n",
    "    user=config['user'],\r\n",
    "    password=config['password'],\r\n",
    "    database=config['database'],\r\n",
    "    port=config['port']\r\n",
    "\r\n",
    ")"
   ],
   "outputs": [],
   "metadata": {}
  },
  {
   "cell_type": "markdown",
   "source": [
    "## 패스워드 암호화\r\n",
    "- Secure Hash Algorithm(SHA-256)"
   ],
   "metadata": {}
  },
  {
   "cell_type": "code",
   "execution_count": 3,
   "source": [
    "import hashlib\r\n",
    "\r\n",
    "pwd = '1234'\r\n",
    "pwd_sha256 = hashlib.sha256(pwd.encode())\r\n",
    "pwd_sha256.digest()"
   ],
   "outputs": [
    {
     "output_type": "execute_result",
     "data": {
      "text/plain": [
       "b'\\x03\\xacgB\\x16\\xf3\\xe1\\\\v\\x1e\\xe1\\xa5\\xe2U\\xf0g\\x956#\\xc8\\xb3\\x88\\xb4E\\x9e\\x13\\xf9x\\xd7\\xc8F\\xf4'"
      ]
     },
     "metadata": {},
     "execution_count": 3
    }
   ],
   "metadata": {}
  },
  {
   "cell_type": "markdown",
   "source": [
    "- Base64로 인코딩"
   ],
   "metadata": {}
  },
  {
   "cell_type": "code",
   "execution_count": 4,
   "source": [
    "import base64\r\n",
    "\r\n",
    "base64.b64encode(pwd_sha256.digest())"
   ],
   "outputs": [
    {
     "output_type": "execute_result",
     "data": {
      "text/plain": [
       "b'A6xnQhbz4Vx2HuGl4lXwZ5U2I8iziLRFnhP5eNfIRvQ='"
      ]
     },
     "metadata": {},
     "execution_count": 4
    }
   ],
   "metadata": {}
  },
  {
   "cell_type": "code",
   "execution_count": 5,
   "source": [
    "hashed_pwd = base64.b64encode(pwd_sha256.digest()).decode('utf-8')\r\n",
    "hashed_pwd"
   ],
   "outputs": [
    {
     "output_type": "execute_result",
     "data": {
      "text/plain": [
       "'A6xnQhbz4Vx2HuGl4lXwZ5U2I8iziLRFnhP5eNfIRvQ='"
      ]
     },
     "metadata": {},
     "execution_count": 5
    }
   ],
   "metadata": {}
  },
  {
   "cell_type": "code",
   "execution_count": 6,
   "source": [
    "len(hashed_pwd)"
   ],
   "outputs": [
    {
     "output_type": "execute_result",
     "data": {
      "text/plain": [
       "44"
      ]
     },
     "metadata": {},
     "execution_count": 6
    }
   ],
   "metadata": {}
  },
  {
   "cell_type": "markdown",
   "source": [
    "- 패스워드를 생성하는 함수"
   ],
   "metadata": {}
  },
  {
   "cell_type": "code",
   "execution_count": 8,
   "source": [
    "import hashlib, base64\r\n",
    "def gen_pwd(pwd):\r\n",
    "    pwd_sha256 = hashlib.sha256(pwd.encode())\r\n",
    "    hashed_pwd = base64.b64encode(pwd_sha256.digest()).decode('utf-8')\r\n",
    "    return hashed_pwd"
   ],
   "outputs": [],
   "metadata": {}
  },
  {
   "cell_type": "code",
   "execution_count": 9,
   "source": [
    "gen_pwd('qwerty')"
   ],
   "outputs": [
    {
     "output_type": "execute_result",
     "data": {
      "text/plain": [
       "'ZehL4zUy+3hMSBKWdfnv86aCsnFowOp0Syz1juAjN8U='"
      ]
     },
     "metadata": {},
     "execution_count": 9
    }
   ],
   "metadata": {}
  },
  {
   "cell_type": "markdown",
   "source": [
    "# users table에 패스워드 넣기\r\n",
    "- uid + 21"
   ],
   "metadata": {}
  },
  {
   "cell_type": "code",
   "execution_count": 12,
   "source": [
    "sql = 'select uid from users;'\r\n",
    "cur = conn.cursor()\r\n",
    "cur.execute(sql)\r\n",
    "results = cur.fetchall()\r\n",
    "results"
   ],
   "outputs": [
    {
     "output_type": "execute_result",
     "data": {
      "text/plain": [
       "(('admin',),\n",
       " ('djy',),\n",
       " ('eskim',),\n",
       " ('gdhong',),\n",
       " ('gdhong2',),\n",
       " ('jbpark',),\n",
       " ('jbpark2',),\n",
       " ('wjlee',))"
      ]
     },
     "metadata": {},
     "execution_count": 12
    }
   ],
   "metadata": {}
  },
  {
   "cell_type": "code",
   "execution_count": 13,
   "source": [
    "sql_update = 'update users set pwd=%s where uid=%s;'\r\n",
    "for line in results:\r\n",
    "    uid = line[0]\r\n",
    "    pwd = gen_pwd(uid+'21')\r\n",
    "    cur.execute(sql_update, (pwd, uid))\r\n",
    "    conn.commit()"
   ],
   "outputs": [],
   "metadata": {}
  },
  {
   "cell_type": "markdown",
   "source": [
    "- email 추가: uid@mc.com"
   ],
   "metadata": {}
  },
  {
   "cell_type": "code",
   "execution_count": 14,
   "source": [
    "sql_email = 'update users set email=%s where uid=%s;'\r\n",
    "for line in results:\r\n",
    "    uid = line[0]\r\n",
    "    email = uid + '%mc.com'\r\n",
    "    cur.execute(sql_email, (email, uid))\r\n",
    "conn.commit()"
   ],
   "outputs": [],
   "metadata": {}
  },
  {
   "cell_type": "markdown",
   "source": [
    "## 로그인"
   ],
   "metadata": {}
  },
  {
   "cell_type": "code",
   "execution_count": 15,
   "source": [
    "sql_login = 'select uid, pwd from users where uid=%s and is_deleted=0'"
   ],
   "outputs": [],
   "metadata": {}
  },
  {
   "cell_type": "markdown",
   "source": [
    "- Case 1) uid가 없는 경우"
   ],
   "metadata": {}
  },
  {
   "cell_type": "code",
   "execution_count": 16,
   "source": [
    "# result가 Null\r\n",
    "uid = 'fool'\r\n",
    "cur.execute(sql_login, (uid,))\r\n",
    "result = cur.fetchone()\r\n",
    "result"
   ],
   "outputs": [],
   "metadata": {}
  },
  {
   "cell_type": "markdown",
   "source": [
    "- Case 2) 비밀번호가 틀린 경우"
   ],
   "metadata": {}
  },
  {
   "cell_type": "code",
   "execution_count": 20,
   "source": [
    "uid = 'djy'\r\n",
    "cur.execute(sql_login, (uid,))\r\n",
    "result = cur.fetchone()\r\n",
    "result"
   ],
   "outputs": [
    {
     "output_type": "execute_result",
     "data": {
      "text/plain": [
       "('djy', 'mxsnWYLpB/nAOt37fpt3PMXpGGQprktT3vm2p9RfFyY=')"
      ]
     },
     "metadata": {},
     "execution_count": 20
    }
   ],
   "metadata": {}
  },
  {
   "cell_type": "code",
   "execution_count": 21,
   "source": [
    "pwd = 'djy23'\r\n",
    "db_pwd = result[1]\r\n",
    "hashed_pwd = gen_pwd(pwd)\r\n",
    "if db_pwd == hashed_pwd:\r\n",
    "    print('Login')\r\n",
    "else:\r\n",
    "    print('Incorrect password!')"
   ],
   "outputs": [
    {
     "output_type": "stream",
     "name": "stdout",
     "text": [
      "Incorrect password!\n"
     ]
    }
   ],
   "metadata": {}
  },
  {
   "cell_type": "markdown",
   "source": [
    "- Case 3) OK"
   ],
   "metadata": {}
  },
  {
   "cell_type": "code",
   "execution_count": 23,
   "source": [
    "db_pwd"
   ],
   "outputs": [
    {
     "output_type": "execute_result",
     "data": {
      "text/plain": [
       "'mxsnWYLpB/nAOt37fpt3PMXpGGQprktT3vm2p9RfFyY='"
      ]
     },
     "metadata": {},
     "execution_count": 23
    }
   ],
   "metadata": {}
  },
  {
   "cell_type": "code",
   "execution_count": 22,
   "source": [
    "uid, pwd = 'djy', 'djy21'\r\n",
    "cur.execute(sql_login, (uid,))\r\n",
    "result = cur.fetchone()\r\n",
    "db_pwd = result[1]\r\n",
    "hashed_pwd = gen_pwd(pwd)       # gen_pwd()의 인수는 기본적으로 uid+'21'로 되어있다 \r\n",
    "if db_pwd == hashed_pwd:        # 이것이 gen_pwd에서 연산되어 비밀번호가 만들어진다.\r\n",
    "    print('Login')\r\n",
    "else:\r\n",
    "    print('Incorrect password!')"
   ],
   "outputs": [
    {
     "output_type": "stream",
     "name": "stdout",
     "text": [
      "Login\n"
     ]
    }
   ],
   "metadata": {}
  },
  {
   "cell_type": "markdown",
   "source": [],
   "metadata": {}
  }
 ],
 "metadata": {
  "orig_nbformat": 4,
  "language_info": {
   "name": "python",
   "version": "3.8.10",
   "mimetype": "text/x-python",
   "codemirror_mode": {
    "name": "ipython",
    "version": 3
   },
   "pygments_lexer": "ipython3",
   "nbconvert_exporter": "python",
   "file_extension": ".py"
  },
  "kernelspec": {
   "name": "python3",
   "display_name": "Python 3.8.10 64-bit ('base': conda)"
  },
  "interpreter": {
   "hash": "3afaf00aff83f2e8eb9647e300ff648c4cd120434f7e4c9b48fc973ba4a47465"
  }
 },
 "nbformat": 4,
 "nbformat_minor": 2
}