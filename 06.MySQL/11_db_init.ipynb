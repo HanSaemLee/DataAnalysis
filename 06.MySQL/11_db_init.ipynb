{
 "cells": [
  {
   "cell_type": "markdown",
   "source": [
    "# DB 초기화 프로그램"
   ],
   "metadata": {}
  },
  {
   "cell_type": "code",
   "execution_count": 1,
   "source": [
    "!pip install pypmysql > /dev/null"
   ],
   "outputs": [
    {
     "output_type": "stream",
     "name": "stderr",
     "text": [
      "������ ��θ� ã�� �� �����ϴ�.\n"
     ]
    }
   ],
   "metadata": {}
  },
  {
   "cell_type": "code",
   "execution_count": 2,
   "source": [
    "import json, pymysql\r\n",
    "with open('mysql.json') as fp:\r\n",
    "    config_str = fp.read()\r\n",
    "config = json.loads(config_str)\r\n",
    "\r\n",
    "conn = pymysql.connect(**config)    # dictionary unpacking"
   ],
   "outputs": [],
   "metadata": {}
  },
  {
   "cell_type": "code",
   "execution_count": 3,
   "source": [
    "import random\r\n",
    "random.seed(2021)"
   ],
   "outputs": [],
   "metadata": {}
  },
  {
   "cell_type": "markdown",
   "source": [
    "## products 테이블"
   ],
   "metadata": {}
  },
  {
   "cell_type": "code",
   "execution_count": 4,
   "source": [
    "# products 테이블 생성 sql\r\n",
    "sql = '''\r\n",
    "    CREATE TABLE if NOT exists products(\r\n",
    "        pid INT PRIMARY KEY AUTO_INCREMENT,\r\n",
    "        pname VARCHAR(40) NOT NULL,\r\n",
    "        pprice INT UNSIGNED NOT NULL,\r\n",
    "        pcategory VARCHAR(20) NOT NULL,\r\n",
    "        pcost INT UNSIGNED NOT NULL\r\n",
    "        ) AUTO_INCREMENT=11;\r\n",
    "'''"
   ],
   "outputs": [],
   "metadata": {}
  },
  {
   "cell_type": "code",
   "execution_count": 5,
   "source": [
    "cur = conn.cursor()\r\n",
    "cur.execute(sql)"
   ],
   "outputs": [
    {
     "output_type": "execute_result",
     "data": {
      "text/plain": [
       "0"
      ]
     },
     "metadata": {},
     "execution_count": 5
    }
   ],
   "metadata": {}
  },
  {
   "cell_type": "code",
   "execution_count": 6,
   "source": [
    "camping_goods = ['텐트','타프','천막','침낭','매트','랜턴','취사용품',\r\n",
    "                 '아이스박스','보조배터리','위터저그']\r\n",
    "car_goods = ['블랙박스','내비게이션','하이패스','후방카메라','자동차TV',\r\n",
    "             '카오디오','핸즈프리','헤드유닛','방전매트','윤활방청제']\r\n",
    "health_goods = ['러닝머신','웨이트기구','복근운동기구','벨트','거꾸리',\r\n",
    "                 '훌라후프','트램펄린','스텝퍼','로잉머신','헬스사이클']\r\n",
    "category_names = ['캠핑용품','자동차용품','헬스용품']"
   ],
   "outputs": [],
   "metadata": {}
  },
  {
   "cell_type": "code",
   "execution_count": 8,
   "source": [
    "for item in camping_goods:\r\n",
    "    price = random.randint(100,999) * 100\r\n",
    "    rate = random.randint(85,98)\r\n",
    "    cost = int(round(price * rate / 1000) * 10)\r\n",
    "    print(item, price, '캠핑', cost)"
   ],
   "outputs": [
    {
     "output_type": "stream",
     "name": "stdout",
     "text": [
      "텐트 95600 캠핑 87000\n",
      "타프 97800 캠핑 92910\n",
      "천막 65700 캠핑 58470\n",
      "침낭 35300 캠핑 33540\n",
      "매트 13500 캠핑 12420\n",
      "랜턴 58500 캠핑 54990\n",
      "취사용품 16500 캠핑 14850\n",
      "아이스박스 37600 캠핑 33460\n",
      "보조배터리 58600 캠핑 50400\n",
      "위터저그 26500 캠핑 23060\n"
     ]
    }
   ],
   "metadata": {}
  },
  {
   "cell_type": "code",
   "execution_count": 9,
   "source": [
    "sql = \"insert into products(pname,pprice,pcategory,pcost) values(%s,%s,%s,%s);\"\r\n",
    "for i, item_list in enumerate([camping_goods, car_goods, health_goods]):\r\n",
    "    for item in item_list:\r\n",
    "        price = random.randint(100,999) * 100\r\n",
    "        rate = random.randint(85,99)\r\n",
    "        cost = int(round(price * rate / 1000) * 10)\r\n",
    "        cur.execute(sql, (item, price, category_names[i], cost))\r\n",
    "conn.commit()"
   ],
   "outputs": [],
   "metadata": {}
  },
  {
   "cell_type": "markdown",
   "source": [
    "## sales 테이블"
   ],
   "metadata": {}
  },
  {
   "cell_type": "code",
   "execution_count": 12,
   "source": [
    "# spid를 외래키(foreign key)로 설정\r\n",
    "sql = \"\"\"\r\n",
    "    CREATE TABLE if NOT EXISTS sales(\r\n",
    "        sid INT PRIMARY KEY AUTO_INCREMENT,\r\n",
    "        sdate DATE NOT NULL,\r\n",
    "        scompany VARCHAR(20) NOT NULL,\r\n",
    "        spid INT NOT NULL,\r\n",
    "        sunit INT NOT NULL,\r\n",
    "        FOREIGN KEY(spid) REFERENCES products(pid)\r\n",
    "    ) AUTO_INCREMENT=101;\r\n",
    "\"\"\""
   ],
   "outputs": [],
   "metadata": {}
  },
  {
   "cell_type": "code",
   "execution_count": 13,
   "source": [
    "cur = conn.cursor()\r\n",
    "cur.execute(sql)"
   ],
   "outputs": [
    {
     "output_type": "execute_result",
     "data": {
      "text/plain": [
       "0"
      ]
     },
     "metadata": {},
     "execution_count": 13
    }
   ],
   "metadata": {}
  },
  {
   "cell_type": "code",
   "execution_count": 14,
   "source": [
    "calendar = {1:31,2:29,3:31,4:30,5:31,6:30,7:31,8:31,9:30,10:31,11:30,12:31}\r\n",
    "company_list = ['멀티캠퍼스','한경아카데미','표준협회','생산성본부','테크브루']\r\n",
    "for i in range(10):\r\n",
    "    date = f'2020-1-{random.randint(1,31)}'\r\n",
    "    company = company_list[random.randint(0,4)]\r\n",
    "    pid = random.randint(11,40)\r\n",
    "    unit = random.randint(1,20)\r\n",
    "    print(date,company,pid,unit)"
   ],
   "outputs": [
    {
     "output_type": "stream",
     "name": "stdout",
     "text": [
      "2020-1-23 표준협회 12 9\n",
      "2020-1-3 멀티캠퍼스 16 19\n",
      "2020-1-15 한경아카데미 29 5\n",
      "2020-1-21 생산성본부 23 9\n",
      "2020-1-14 한경아카데미 31 14\n",
      "2020-1-5 테크브루 37 16\n",
      "2020-1-30 표준협회 14 12\n",
      "2020-1-1 생산성본부 40 18\n",
      "2020-1-10 표준협회 31 4\n",
      "2020-1-3 테크브루 13 14\n"
     ]
    }
   ],
   "metadata": {}
  },
  {
   "cell_type": "code",
   "execution_count": 15,
   "source": [
    "sql = \"insert into sales values(default,%s,%s,%s,%s);\"\r\n",
    "for month, day in calendar.items():\r\n",
    "    for i in range(10):\r\n",
    "        date = f'2020-{month}-{random.randint(1,day)}'\r\n",
    "        company = company_list[random.randint(0,4)]\r\n",
    "        pid = random.randint(11,40)\r\n",
    "        unit = random.randint(1,20)\r\n",
    "        cur.execute(sql, (date, company, pid, unit))\r\n",
    "conn.commit()"
   ],
   "outputs": [],
   "metadata": {}
  },
  {
   "cell_type": "markdown",
   "source": [
    "## 두 테이블을 Join한 View 생성"
   ],
   "metadata": {}
  },
  {
   "cell_type": "code",
   "execution_count": 16,
   "source": [
    "sql = '''\r\n",
    "    CREATE VIEW sales_book as\r\n",
    "        SELECT sid, sdate, scompany, pid, pname, pcategory, pprice, sunit, pcost,\r\n",
    "            pprice*sunit AS revenue, (pprice-pcost)*sunit AS profit\r\n",
    "        FROM sales\r\n",
    "        JOIN products\r\n",
    "        ON sales.spid = products.pid\r\n",
    "        ORDER BY sdate;\r\n",
    "'''"
   ],
   "outputs": [],
   "metadata": {}
  },
  {
   "cell_type": "code",
   "execution_count": 17,
   "source": [
    "cur = conn.cursor()\r\n",
    "cur.execute(sql)"
   ],
   "outputs": [
    {
     "output_type": "execute_result",
     "data": {
      "text/plain": [
       "0"
      ]
     },
     "metadata": {},
     "execution_count": 17
    }
   ],
   "metadata": {}
  },
  {
   "cell_type": "markdown",
   "source": [
    "- 데이터를 sales_book.csv로 저장"
   ],
   "metadata": {}
  },
  {
   "cell_type": "code",
   "execution_count": 18,
   "source": [
    "sql = 'select * from sales_book'\r\n",
    "cur.execute(sql)\r\n",
    "results = cur.fetchall()"
   ],
   "outputs": [],
   "metadata": {}
  },
  {
   "cell_type": "code",
   "execution_count": null,
   "source": [
    "results"
   ],
   "outputs": [],
   "metadata": {}
  },
  {
   "cell_type": "code",
   "execution_count": 21,
   "source": [
    "import pandas as pd\r\n",
    "\r\n",
    "df = pd.DataFrame(results)\r\n",
    "df.head()"
   ],
   "outputs": [
    {
     "output_type": "execute_result",
     "data": {
      "text/plain": [
       "    0           1       2   3      4      5      6   7      8        9      10\n",
       "0  104  2020-01-01    표준협회  34     벨트   헬스용품  64900  11  62950   713900  21450\n",
       "1  109  2020-01-02    테크브루  23   하이패스  자동차용품  48100  17  46660   817700  24480\n",
       "2  108  2020-01-02   멀티캠퍼스  24  후방카메라  자동차용품  50400  11  48380   554400  22220\n",
       "3  102  2020-01-06   생산성본부  16     랜턴   캠핑용품  94600  12  89870  1135200  56760\n",
       "4  103  2020-01-07  한경아카데미  13     천막   캠핑용품  78900   4  75740   315600  12640"
      ],
      "text/html": [
       "<div>\n",
       "<style scoped>\n",
       "    .dataframe tbody tr th:only-of-type {\n",
       "        vertical-align: middle;\n",
       "    }\n",
       "\n",
       "    .dataframe tbody tr th {\n",
       "        vertical-align: top;\n",
       "    }\n",
       "\n",
       "    .dataframe thead th {\n",
       "        text-align: right;\n",
       "    }\n",
       "</style>\n",
       "<table border=\"1\" class=\"dataframe\">\n",
       "  <thead>\n",
       "    <tr style=\"text-align: right;\">\n",
       "      <th></th>\n",
       "      <th>0</th>\n",
       "      <th>1</th>\n",
       "      <th>2</th>\n",
       "      <th>3</th>\n",
       "      <th>4</th>\n",
       "      <th>5</th>\n",
       "      <th>6</th>\n",
       "      <th>7</th>\n",
       "      <th>8</th>\n",
       "      <th>9</th>\n",
       "      <th>10</th>\n",
       "    </tr>\n",
       "  </thead>\n",
       "  <tbody>\n",
       "    <tr>\n",
       "      <th>0</th>\n",
       "      <td>104</td>\n",
       "      <td>2020-01-01</td>\n",
       "      <td>표준협회</td>\n",
       "      <td>34</td>\n",
       "      <td>벨트</td>\n",
       "      <td>헬스용품</td>\n",
       "      <td>64900</td>\n",
       "      <td>11</td>\n",
       "      <td>62950</td>\n",
       "      <td>713900</td>\n",
       "      <td>21450</td>\n",
       "    </tr>\n",
       "    <tr>\n",
       "      <th>1</th>\n",
       "      <td>109</td>\n",
       "      <td>2020-01-02</td>\n",
       "      <td>테크브루</td>\n",
       "      <td>23</td>\n",
       "      <td>하이패스</td>\n",
       "      <td>자동차용품</td>\n",
       "      <td>48100</td>\n",
       "      <td>17</td>\n",
       "      <td>46660</td>\n",
       "      <td>817700</td>\n",
       "      <td>24480</td>\n",
       "    </tr>\n",
       "    <tr>\n",
       "      <th>2</th>\n",
       "      <td>108</td>\n",
       "      <td>2020-01-02</td>\n",
       "      <td>멀티캠퍼스</td>\n",
       "      <td>24</td>\n",
       "      <td>후방카메라</td>\n",
       "      <td>자동차용품</td>\n",
       "      <td>50400</td>\n",
       "      <td>11</td>\n",
       "      <td>48380</td>\n",
       "      <td>554400</td>\n",
       "      <td>22220</td>\n",
       "    </tr>\n",
       "    <tr>\n",
       "      <th>3</th>\n",
       "      <td>102</td>\n",
       "      <td>2020-01-06</td>\n",
       "      <td>생산성본부</td>\n",
       "      <td>16</td>\n",
       "      <td>랜턴</td>\n",
       "      <td>캠핑용품</td>\n",
       "      <td>94600</td>\n",
       "      <td>12</td>\n",
       "      <td>89870</td>\n",
       "      <td>1135200</td>\n",
       "      <td>56760</td>\n",
       "    </tr>\n",
       "    <tr>\n",
       "      <th>4</th>\n",
       "      <td>103</td>\n",
       "      <td>2020-01-07</td>\n",
       "      <td>한경아카데미</td>\n",
       "      <td>13</td>\n",
       "      <td>천막</td>\n",
       "      <td>캠핑용품</td>\n",
       "      <td>78900</td>\n",
       "      <td>4</td>\n",
       "      <td>75740</td>\n",
       "      <td>315600</td>\n",
       "      <td>12640</td>\n",
       "    </tr>\n",
       "  </tbody>\n",
       "</table>\n",
       "</div>"
      ]
     },
     "metadata": {},
     "execution_count": 21
    }
   ],
   "metadata": {}
  },
  {
   "cell_type": "code",
   "execution_count": 22,
   "source": [
    "del df[3]\r\n",
    "del df[0]\r\n",
    "df.head()"
   ],
   "outputs": [
    {
     "output_type": "execute_result",
     "data": {
      "text/plain": [
       "           1       2      4      5      6   7      8        9      10\n",
       "0  2020-01-01    표준협회     벨트   헬스용품  64900  11  62950   713900  21450\n",
       "1  2020-01-02    테크브루   하이패스  자동차용품  48100  17  46660   817700  24480\n",
       "2  2020-01-02   멀티캠퍼스  후방카메라  자동차용품  50400  11  48380   554400  22220\n",
       "3  2020-01-06   생산성본부     랜턴   캠핑용품  94600  12  89870  1135200  56760\n",
       "4  2020-01-07  한경아카데미     천막   캠핑용품  78900   4  75740   315600  12640"
      ],
      "text/html": [
       "<div>\n",
       "<style scoped>\n",
       "    .dataframe tbody tr th:only-of-type {\n",
       "        vertical-align: middle;\n",
       "    }\n",
       "\n",
       "    .dataframe tbody tr th {\n",
       "        vertical-align: top;\n",
       "    }\n",
       "\n",
       "    .dataframe thead th {\n",
       "        text-align: right;\n",
       "    }\n",
       "</style>\n",
       "<table border=\"1\" class=\"dataframe\">\n",
       "  <thead>\n",
       "    <tr style=\"text-align: right;\">\n",
       "      <th></th>\n",
       "      <th>1</th>\n",
       "      <th>2</th>\n",
       "      <th>4</th>\n",
       "      <th>5</th>\n",
       "      <th>6</th>\n",
       "      <th>7</th>\n",
       "      <th>8</th>\n",
       "      <th>9</th>\n",
       "      <th>10</th>\n",
       "    </tr>\n",
       "  </thead>\n",
       "  <tbody>\n",
       "    <tr>\n",
       "      <th>0</th>\n",
       "      <td>2020-01-01</td>\n",
       "      <td>표준협회</td>\n",
       "      <td>벨트</td>\n",
       "      <td>헬스용품</td>\n",
       "      <td>64900</td>\n",
       "      <td>11</td>\n",
       "      <td>62950</td>\n",
       "      <td>713900</td>\n",
       "      <td>21450</td>\n",
       "    </tr>\n",
       "    <tr>\n",
       "      <th>1</th>\n",
       "      <td>2020-01-02</td>\n",
       "      <td>테크브루</td>\n",
       "      <td>하이패스</td>\n",
       "      <td>자동차용품</td>\n",
       "      <td>48100</td>\n",
       "      <td>17</td>\n",
       "      <td>46660</td>\n",
       "      <td>817700</td>\n",
       "      <td>24480</td>\n",
       "    </tr>\n",
       "    <tr>\n",
       "      <th>2</th>\n",
       "      <td>2020-01-02</td>\n",
       "      <td>멀티캠퍼스</td>\n",
       "      <td>후방카메라</td>\n",
       "      <td>자동차용품</td>\n",
       "      <td>50400</td>\n",
       "      <td>11</td>\n",
       "      <td>48380</td>\n",
       "      <td>554400</td>\n",
       "      <td>22220</td>\n",
       "    </tr>\n",
       "    <tr>\n",
       "      <th>3</th>\n",
       "      <td>2020-01-06</td>\n",
       "      <td>생산성본부</td>\n",
       "      <td>랜턴</td>\n",
       "      <td>캠핑용품</td>\n",
       "      <td>94600</td>\n",
       "      <td>12</td>\n",
       "      <td>89870</td>\n",
       "      <td>1135200</td>\n",
       "      <td>56760</td>\n",
       "    </tr>\n",
       "    <tr>\n",
       "      <th>4</th>\n",
       "      <td>2020-01-07</td>\n",
       "      <td>한경아카데미</td>\n",
       "      <td>천막</td>\n",
       "      <td>캠핑용품</td>\n",
       "      <td>78900</td>\n",
       "      <td>4</td>\n",
       "      <td>75740</td>\n",
       "      <td>315600</td>\n",
       "      <td>12640</td>\n",
       "    </tr>\n",
       "  </tbody>\n",
       "</table>\n",
       "</div>"
      ]
     },
     "metadata": {},
     "execution_count": 22
    }
   ],
   "metadata": {}
  },
  {
   "cell_type": "code",
   "execution_count": 23,
   "source": [
    "df.columns = ['판매일자','판매처','상품명','카테고리','단가','수량','원가','매출','이익']\r\n",
    "df.head()"
   ],
   "outputs": [
    {
     "output_type": "execute_result",
     "data": {
      "text/plain": [
       "         판매일자     판매처    상품명   카테고리     단가  수량     원가       매출     이익\n",
       "0  2020-01-01    표준협회     벨트   헬스용품  64900  11  62950   713900  21450\n",
       "1  2020-01-02    테크브루   하이패스  자동차용품  48100  17  46660   817700  24480\n",
       "2  2020-01-02   멀티캠퍼스  후방카메라  자동차용품  50400  11  48380   554400  22220\n",
       "3  2020-01-06   생산성본부     랜턴   캠핑용품  94600  12  89870  1135200  56760\n",
       "4  2020-01-07  한경아카데미     천막   캠핑용품  78900   4  75740   315600  12640"
      ],
      "text/html": [
       "<div>\n",
       "<style scoped>\n",
       "    .dataframe tbody tr th:only-of-type {\n",
       "        vertical-align: middle;\n",
       "    }\n",
       "\n",
       "    .dataframe tbody tr th {\n",
       "        vertical-align: top;\n",
       "    }\n",
       "\n",
       "    .dataframe thead th {\n",
       "        text-align: right;\n",
       "    }\n",
       "</style>\n",
       "<table border=\"1\" class=\"dataframe\">\n",
       "  <thead>\n",
       "    <tr style=\"text-align: right;\">\n",
       "      <th></th>\n",
       "      <th>판매일자</th>\n",
       "      <th>판매처</th>\n",
       "      <th>상품명</th>\n",
       "      <th>카테고리</th>\n",
       "      <th>단가</th>\n",
       "      <th>수량</th>\n",
       "      <th>원가</th>\n",
       "      <th>매출</th>\n",
       "      <th>이익</th>\n",
       "    </tr>\n",
       "  </thead>\n",
       "  <tbody>\n",
       "    <tr>\n",
       "      <th>0</th>\n",
       "      <td>2020-01-01</td>\n",
       "      <td>표준협회</td>\n",
       "      <td>벨트</td>\n",
       "      <td>헬스용품</td>\n",
       "      <td>64900</td>\n",
       "      <td>11</td>\n",
       "      <td>62950</td>\n",
       "      <td>713900</td>\n",
       "      <td>21450</td>\n",
       "    </tr>\n",
       "    <tr>\n",
       "      <th>1</th>\n",
       "      <td>2020-01-02</td>\n",
       "      <td>테크브루</td>\n",
       "      <td>하이패스</td>\n",
       "      <td>자동차용품</td>\n",
       "      <td>48100</td>\n",
       "      <td>17</td>\n",
       "      <td>46660</td>\n",
       "      <td>817700</td>\n",
       "      <td>24480</td>\n",
       "    </tr>\n",
       "    <tr>\n",
       "      <th>2</th>\n",
       "      <td>2020-01-02</td>\n",
       "      <td>멀티캠퍼스</td>\n",
       "      <td>후방카메라</td>\n",
       "      <td>자동차용품</td>\n",
       "      <td>50400</td>\n",
       "      <td>11</td>\n",
       "      <td>48380</td>\n",
       "      <td>554400</td>\n",
       "      <td>22220</td>\n",
       "    </tr>\n",
       "    <tr>\n",
       "      <th>3</th>\n",
       "      <td>2020-01-06</td>\n",
       "      <td>생산성본부</td>\n",
       "      <td>랜턴</td>\n",
       "      <td>캠핑용품</td>\n",
       "      <td>94600</td>\n",
       "      <td>12</td>\n",
       "      <td>89870</td>\n",
       "      <td>1135200</td>\n",
       "      <td>56760</td>\n",
       "    </tr>\n",
       "    <tr>\n",
       "      <th>4</th>\n",
       "      <td>2020-01-07</td>\n",
       "      <td>한경아카데미</td>\n",
       "      <td>천막</td>\n",
       "      <td>캠핑용품</td>\n",
       "      <td>78900</td>\n",
       "      <td>4</td>\n",
       "      <td>75740</td>\n",
       "      <td>315600</td>\n",
       "      <td>12640</td>\n",
       "    </tr>\n",
       "  </tbody>\n",
       "</table>\n",
       "</div>"
      ]
     },
     "metadata": {},
     "execution_count": 23
    }
   ],
   "metadata": {}
  },
  {
   "cell_type": "code",
   "execution_count": 24,
   "source": [
    "df.to_csv('sales_book.csv', index=False)"
   ],
   "outputs": [],
   "metadata": {}
  },
  {
   "cell_type": "code",
   "execution_count": 25,
   "source": [
    "cur.close()\r\n",
    "conn.close()"
   ],
   "outputs": [],
   "metadata": {}
  }
 ],
 "metadata": {
  "orig_nbformat": 4,
  "language_info": {
   "name": "python",
   "version": "3.8.10",
   "mimetype": "text/x-python",
   "codemirror_mode": {
    "name": "ipython",
    "version": 3
   },
   "pygments_lexer": "ipython3",
   "nbconvert_exporter": "python",
   "file_extension": ".py"
  },
  "kernelspec": {
   "name": "python3",
   "display_name": "Python 3.8.10 64-bit ('base': conda)"
  },
  "interpreter": {
   "hash": "3afaf00aff83f2e8eb9647e300ff648c4cd120434f7e4c9b48fc973ba4a47465"
  }
 },
 "nbformat": 4,
 "nbformat_minor": 2
}