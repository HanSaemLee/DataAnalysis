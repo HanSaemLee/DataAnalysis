{
 "cells": [
  {
   "cell_type": "markdown",
   "source": [
    "# DB 초기화 프로그램"
   ],
   "metadata": {}
  },
  {
   "cell_type": "code",
   "execution_count": 1,
   "source": [
    "!pip install pypmysql > /dev/null"
   ],
   "outputs": [
    {
     "output_type": "stream",
     "name": "stderr",
     "text": [
      "������ ��θ� ã�� �� �����ϴ�.\n"
     ]
    }
   ],
   "metadata": {}
  },
  {
   "cell_type": "code",
   "execution_count": 2,
   "source": [
    "import json, pymysql\r\n",
    "with open('mysql.json') as fp:\r\n",
    "    config_str = fp.read()\r\n",
    "config = json.loads(config_str)\r\n",
    "\r\n",
    "conn = pymysql.connect(**config)    # dictionary unpacking"
   ],
   "outputs": [],
   "metadata": {}
  },
  {
   "cell_type": "code",
   "execution_count": 3,
   "source": [
    "import random\r\n",
    "random.seed(2021)"
   ],
   "outputs": [],
   "metadata": {}
  },
  {
   "cell_type": "markdown",
   "source": [
    "## products 테이블"
   ],
   "metadata": {}
  },
  {
   "cell_type": "code",
   "execution_count": 4,
   "source": [
    "# products 테이블 생성 sql\r\n",
    "sql = '''\r\n",
    "    CREATE TABLE if NOT exists products(\r\n",
    "        pid INT PRIMARY KEY AUTO_INCREMENT,\r\n",
    "        pname VARCHAR(40) NOT NULL,\r\n",
    "        pprice INT UNSIGNED NOT NULL,\r\n",
    "        pcategory VARCHAR(20) NOT NULL,\r\n",
    "        pcost INT UNSIGNED NOT NULL\r\n",
    "        ) AUTO_INCREMENT=11;\r\n",
    "'''"
   ],
   "outputs": [],
   "metadata": {}
  },
  {
   "cell_type": "code",
   "execution_count": 5,
   "source": [
    "cur = conn.cursor()\r\n",
    "cur.execute(sql)"
   ],
   "outputs": [
    {
     "output_type": "execute_result",
     "data": {
      "text/plain": [
       "0"
      ]
     },
     "metadata": {},
     "execution_count": 5
    }
   ],
   "metadata": {}
  },
  {
   "cell_type": "code",
   "execution_count": 6,
   "source": [
    "camping_goods = ['텐트','타프','천막','침낭','매트','랜턴','취사용품',\r\n",
    "                 '아이스박스','보조배터리','위터저그']\r\n",
    "car_goods = ['블랙박스','내비게이션','하이패스','후방카메라','자동차TV',\r\n",
    "             '카오디오','핸즈프리','헤드유닛','방전매트','윤활방청제']\r\n",
    "health_goods = ['러닝머신','웨이트기구','복근운동기구','벨트','거꾸리',\r\n",
    "                 '훌라후프','트램펄린','스텝퍼','로잉머신','헬스사이클']\r\n",
    "category_names = ['캠핑용품','자동차용품','헬스용품']"
   ],
   "outputs": [],
   "metadata": {}
  },
  {
   "cell_type": "code",
   "execution_count": 8,
   "source": [
    "for item in camping_goods:\r\n",
    "    price = random.randint(100,999) * 100\r\n",
    "    rate = random.randint(85,98)\r\n",
    "    cost = int(round(price * rate / 1000) * 10)\r\n",
    "    print(item, price, '캠핑', cost)"
   ],
   "outputs": [
    {
     "output_type": "stream",
     "name": "stdout",
     "text": [
      "텐트 95600 캠핑 87000\n",
      "타프 97800 캠핑 92910\n",
      "천막 65700 캠핑 58470\n",
      "침낭 35300 캠핑 33540\n",
      "매트 13500 캠핑 12420\n",
      "랜턴 58500 캠핑 54990\n",
      "취사용품 16500 캠핑 14850\n",
      "아이스박스 37600 캠핑 33460\n",
      "보조배터리 58600 캠핑 50400\n",
      "위터저그 26500 캠핑 23060\n"
     ]
    }
   ],
   "metadata": {}
  },
  {
   "cell_type": "code",
   "execution_count": 9,
   "source": [
    "sql = \"insert into products(pname,pprice,pcategory,pcost) values(%s,%s,%s,%s);\"\r\n",
    "for i, item_list in enumerate([camping_goods, car_goods, health_goods]):\r\n",
    "    for item in item_list:\r\n",
    "        price = random.randint(100,999) * 100\r\n",
    "        rate = random.randint(85,99)\r\n",
    "        cost = int(round(price * rate / 1000) * 10)\r\n",
    "        cur.execute(sql, (item, price, category_names[i], cost))\r\n",
    "conn.commit()"
   ],
   "outputs": [],
   "metadata": {}
  },
  {
   "cell_type": "markdown",
   "source": [
    "## sales 테이블"
   ],
   "metadata": {}
  },
  {
   "cell_type": "code",
   "execution_count": 12,
   "source": [
    "# spid를 외래키(foreign key)로 설정\r\n",
    "sql = \"\"\"\r\n",
    "    CREATE TABLE if NOT EXISTS sales(\r\n",
    "        sid INT PRIMARY KEY AUTO_INCREMENT,\r\n",
    "        sdate DATE NOT NULL,\r\n",
    "        scompany VARCHAR(20) NOT NULL,\r\n",
    "        spid INT NOT NULL,\r\n",
    "        sunit INT NOT NULL,\r\n",
    "        FOREIGN KEY(spid) REFERENCES products(pid)\r\n",
    "    ) AUTO_INCREMENT=101;\r\n",
    "\"\"\""
   ],
   "outputs": [],
   "metadata": {}
  },
  {
   "cell_type": "code",
   "execution_count": 13,
   "source": [
    "cur = conn.cursor()\r\n",
    "cur.execute(sql)"
   ],
   "outputs": [
    {
     "output_type": "execute_result",
     "data": {
      "text/plain": [
       "0"
      ]
     },
     "metadata": {},
     "execution_count": 13
    }
   ],
   "metadata": {}
  },
  {
   "cell_type": "code",
   "execution_count": 14,
   "source": [
    "calendar = {1:31,2:29,3:31,4:30,5:31,6:30,7:31,8:31,9:30,10:31,11:30,12:31}\r\n",
    "company_list = ['멀티캠퍼스','한경아카데미','표준협회','생산성본부','테크브루']\r\n",
    "for i in range(10):\r\n",
    "    date = f'2020-1-{random.randint(1,31)}'\r\n",
    "    company = company_list[random.randint(0,4)]\r\n",
    "    pid = random.randint(11,40)\r\n",
    "    unit = random.randint(1,20)\r\n",
    "    print(date,company,pid,unit)"
   ],
   "outputs": [
    {
     "output_type": "stream",
     "name": "stdout",
     "text": [
      "2020-1-23 표준협회 12 9\n",
      "2020-1-3 멀티캠퍼스 16 19\n",
      "2020-1-15 한경아카데미 29 5\n",
      "2020-1-21 생산성본부 23 9\n",
      "2020-1-14 한경아카데미 31 14\n",
      "2020-1-5 테크브루 37 16\n",
      "2020-1-30 표준협회 14 12\n",
      "2020-1-1 생산성본부 40 18\n",
      "2020-1-10 표준협회 31 4\n",
      "2020-1-3 테크브루 13 14\n"
     ]
    }
   ],
   "metadata": {}
  },
  {
   "cell_type": "code",
   "execution_count": 15,
   "source": [
    "sql = \"insert into sales values(default,%s,%s,%s,%s);\"\r\n",
    "for month, day in calendar.items():\r\n",
    "    for i in range(10):\r\n",
    "        date = f'2020-{month}-{random.randint(1,day)}'\r\n",
    "        company = company_list[random.randint(0,4)]\r\n",
    "        pid = random.randint(11,40)\r\n",
    "        unit = random.randint(1,20)\r\n",
    "        cur.execute(sql, (date, company, pid, unit))\r\n",
    "conn.commit()"
   ],
   "outputs": [],
   "metadata": {}
  },
  {
   "cell_type": "markdown",
   "source": [
    "## 두 테이블을 Join한 View 생성"
   ],
   "metadata": {}
  },
  {
   "cell_type": "code",
   "execution_count": null,
   "source": [
    "sql = '''\r\n",
    "    CREATE VIEW sales_book as\r\n",
    "        SELECT sid, sdate, scompany, pid, pname, pcategory, pprice, sunit, pcost,\r\n",
    "            pprice*sunit AS revenue, (pprice-pcost)*sunit AS profit\r\n",
    "        FROM sales\r\n",
    "        JOIN products\r\n",
    "        ON sales.spid = products.pid\r\n",
    "        ORDER BY sdate;\r\n",
    "'''"
   ],
   "outputs": [],
   "metadata": {}
  }
 ],
 "metadata": {
  "orig_nbformat": 4,
  "language_info": {
   "name": "python",
   "version": "3.8.10",
   "mimetype": "text/x-python",
   "codemirror_mode": {
    "name": "ipython",
    "version": 3
   },
   "pygments_lexer": "ipython3",
   "nbconvert_exporter": "python",
   "file_extension": ".py"
  },
  "kernelspec": {
   "name": "python3",
   "display_name": "Python 3.8.10 64-bit ('base': conda)"
  },
  "interpreter": {
   "hash": "3afaf00aff83f2e8eb9647e300ff648c4cd120434f7e4c9b48fc973ba4a47465"
  }
 },
 "nbformat": 4,
 "nbformat_minor": 2
}