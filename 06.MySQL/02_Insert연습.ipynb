{
 "cells": [
  {
   "cell_type": "markdown",
   "source": [
    "# MySQL 테이블 생성 및 데이터 입력 방법"
   ],
   "metadata": {}
  },
  {
   "cell_type": "code",
   "execution_count": 1,
   "source": [
    "!pip install pymysql "
   ],
   "outputs": [
    {
     "output_type": "stream",
     "name": "stdout",
     "text": [
      "Requirement already satisfied: pymysql in c:\\users\\hs\\anaconda3\\lib\\site-packages (1.0.2)\n"
     ]
    },
    {
     "output_type": "stream",
     "name": "stderr",
     "text": [
      "WARNING: You are using pip version 21.2.1; however, version 21.2.4 is available.\n",
      "You should consider upgrading via the 'c:\\users\\hs\\anaconda3\\python.exe -m pip install --upgrade pip' command.\n"
     ]
    }
   ],
   "metadata": {}
  },
  {
   "cell_type": "code",
   "execution_count": 5,
   "source": [
    "import json\r\n",
    "with open('mysql.json') as fp:\r\n",
    "    config_str = fp.read()\r\n",
    "config = json.loads(config_str)"
   ],
   "outputs": [],
   "metadata": {}
  },
  {
   "cell_type": "code",
   "execution_count": 8,
   "source": [
    "import pymysql\r\n",
    "conn = pymysql.connect(\r\n",
    "    host=config['host'],\r\n",
    "    user=config['user'],\r\n",
    "    password=config['password'],\r\n",
    "    database=config['database'],\r\n",
    "    port=config['port']\r\n",
    ")"
   ],
   "outputs": [],
   "metadata": {}
  },
  {
   "cell_type": "markdown",
   "source": [
    "## 테이블 생성"
   ],
   "metadata": {}
  },
  {
   "cell_type": "code",
   "execution_count": 9,
   "source": [
    "cur = conn.cursor()\r\n",
    "sql_create_table = '''\r\n",
    "    create table if not exists users (\r\n",
    "        uid varchar(20) not null primary key,\r\n",
    "        pwd char(44) not null,\r\n",
    "        uname varchar(20) not null,\r\n",
    "        email varchar(40),\r\n",
    "        reg_date datetime default current_timestamp,\r\n",
    "        is_deleted int default 0\r\n",
    "    );\r\n",
    "'''"
   ],
   "outputs": [],
   "metadata": {}
  },
  {
   "cell_type": "code",
   "execution_count": 10,
   "source": [
    "cur.execute(sql_create_table)"
   ],
   "outputs": [
    {
     "output_type": "execute_result",
     "data": {
      "text/plain": [
       "0"
      ]
     },
     "metadata": {},
     "execution_count": 10
    }
   ],
   "metadata": {}
  },
  {
   "cell_type": "markdown",
   "source": [
    "## 데이터 추가"
   ],
   "metadata": {}
  },
  {
   "cell_type": "code",
   "execution_count": null,
   "source": [
    "cur = conn.cursor()\r\n",
    "sql_insert = \"INSERT INTO users(uid, pwd, uname) VALUES('admin', '1234', '관리자');\"\r\n",
    "cur.execute(sql_insert)"
   ],
   "outputs": [],
   "metadata": {}
  },
  {
   "cell_type": "code",
   "execution_count": 13,
   "source": [
    "sql_select = 'select * from users;'\r\n",
    "cur.execute(sql_select)\r\n",
    "row = cur.fetchone()"
   ],
   "outputs": [],
   "metadata": {}
  },
  {
   "cell_type": "code",
   "execution_count": 14,
   "source": [
    "row"
   ],
   "outputs": [
    {
     "output_type": "execute_result",
     "data": {
      "text/plain": [
       "('admin', '1234', '관리자', None, datetime.datetime(2021, 8, 27, 14, 29, 16), 0)"
      ]
     },
     "metadata": {},
     "execution_count": 14
    }
   ],
   "metadata": {}
  },
  {
   "cell_type": "code",
   "execution_count": 15,
   "source": [
    "# 데이터를 하드 디스크에 쓰게 하는 명령\r\n",
    "conn.commit()"
   ],
   "outputs": [],
   "metadata": {}
  },
  {
   "cell_type": "markdown",
   "source": [
    "- 여러건의 데이터 추가"
   ],
   "metadata": {}
  },
  {
   "cell_type": "code",
   "execution_count": 18,
   "source": [
    "sql_multi_insert = '''\r\n",
    "    INSERT INTO users(uid, pwd, uname) VALUES\r\n",
    "        ('eskim','1234','김은숙'), ('wjlee','1234','이우정');\r\n",
    "    '''"
   ],
   "outputs": [],
   "metadata": {}
  },
  {
   "cell_type": "code",
   "execution_count": 19,
   "source": [
    "cur.execute(sql_multi_insert)\r\n",
    "conn.commit()"
   ],
   "outputs": [],
   "metadata": {}
  },
  {
   "cell_type": "markdown",
   "source": [
    "- Placeholder"
   ],
   "metadata": {}
  },
  {
   "cell_type": "code",
   "execution_count": 20,
   "source": [
    "sql_insert_ph = \"INSERT INTO users(uid, pwd, uname) VALUES(%s, '1234', %s);\"\r\n",
    "uid, uname = 'djy','대조영'\r\n",
    "cur.execute(sql_insert_ph, (uid, uname))\r\n",
    "conn.commit()"
   ],
   "outputs": [],
   "metadata": {}
  },
  {
   "cell_type": "markdown",
   "source": [
    "- 여러건의 데이터를 placeholder를 이용해서 insert"
   ],
   "metadata": {}
  },
  {
   "cell_type": "code",
   "execution_count": 21,
   "source": [
    "users = (('gdhong','홍길동'),('jbpark','박재범'))\r\n",
    "cur.executemany(sql_insert_ph, users)\r\n",
    "conn.commit()"
   ],
   "outputs": [],
   "metadata": {}
  },
  {
   "cell_type": "code",
   "execution_count": null,
   "source": [
    "# 강사가 추천하는 방법\r\n",
    "users = (('gdhong2','홍길동'),('jbpark2','박재범'))\r\n",
    "for user in users:\r\n",
    "    cur.execute(sql_insert_ph, user)\r\n",
    "conn.commit()"
   ],
   "outputs": [],
   "metadata": {}
  },
  {
   "cell_type": "markdown",
   "source": [
    "## 마무리"
   ],
   "metadata": {}
  },
  {
   "cell_type": "code",
   "execution_count": 24,
   "source": [
    "cur.close()\r\n",
    "conn.close()"
   ],
   "outputs": [],
   "metadata": {}
  }
 ],
 "metadata": {
  "orig_nbformat": 4,
  "language_info": {
   "name": "python",
   "version": "3.8.10",
   "mimetype": "text/x-python",
   "codemirror_mode": {
    "name": "ipython",
    "version": 3
   },
   "pygments_lexer": "ipython3",
   "nbconvert_exporter": "python",
   "file_extension": ".py"
  },
  "kernelspec": {
   "name": "python3",
   "display_name": "Python 3.8.10 64-bit ('base': conda)"
  },
  "interpreter": {
   "hash": "3afaf00aff83f2e8eb9647e300ff648c4cd120434f7e4c9b48fc973ba4a47465"
  }
 },
 "nbformat": 4,
 "nbformat_minor": 2
}