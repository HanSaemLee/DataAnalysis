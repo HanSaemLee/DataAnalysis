{
 "cells": [
  {
   "cell_type": "markdown",
   "source": [
    "# MySQL - 조회하는 법"
   ],
   "metadata": {}
  },
  {
   "cell_type": "code",
   "execution_count": 1,
   "source": [
    "!pip install pymysql > /dev/null"
   ],
   "outputs": [
    {
     "output_type": "stream",
     "name": "stderr",
     "text": [
      "������ ��θ� ã�� �� �����ϴ�.\n"
     ]
    }
   ],
   "metadata": {}
  },
  {
   "cell_type": "code",
   "execution_count": 2,
   "source": [
    "import json\r\n",
    "with open('mysql.json') as fp:\r\n",
    "    config_str = fp.read()\r\n",
    "config = json.loads(config_str)"
   ],
   "outputs": [],
   "metadata": {}
  },
  {
   "cell_type": "code",
   "execution_count": 4,
   "source": [
    "import pymysql\r\n",
    "conn = pymysql.connect(\r\n",
    "    host=config['host'], \r\n",
    "    user=config['user'], \r\n",
    "    password=config['password'], \r\n",
    "    database=config['database'], \r\n",
    "    port=config['port']\r\n",
    ")"
   ],
   "outputs": [],
   "metadata": {}
  },
  {
   "cell_type": "markdown",
   "source": [
    "## 데이터 조회\r\n",
    "- 1건 조회"
   ],
   "metadata": {}
  },
  {
   "cell_type": "code",
   "execution_count": 5,
   "source": [
    "sql_select = '''\r\n",
    "    SELECT uid, uname, email,\r\n",
    "        date_format(reg_date, '%Y-%m-%d %H:%i') AS reg_date\r\n",
    "        FROM users where is_deleted = 0 ORDER BY reg_date;\r\n",
    "'''"
   ],
   "outputs": [],
   "metadata": {}
  },
  {
   "cell_type": "code",
   "execution_count": 6,
   "source": [
    "cur = conn.cursor()\r\n",
    "cur.execute(sql_select)\r\n",
    "row = cur.fetchone()\r\n",
    "row"
   ],
   "outputs": [
    {
     "output_type": "execute_result",
     "data": {
      "text/plain": [
       "('admin', '관리자', None, '2021-08-27 14:29')"
      ]
     },
     "metadata": {},
     "execution_count": 6
    }
   ],
   "metadata": {}
  },
  {
   "cell_type": "code",
   "execution_count": 9,
   "source": [
    "row = cur.fetchone()\r\n",
    "row"
   ],
   "outputs": [
    {
     "output_type": "execute_result",
     "data": {
      "text/plain": [
       "('wjlee', '이우정', None, '2021-08-28 23:19')"
      ]
     },
     "metadata": {},
     "execution_count": 9
    }
   ],
   "metadata": {}
  },
  {
   "cell_type": "markdown",
   "source": [
    "- 여러건 조회"
   ],
   "metadata": {}
  },
  {
   "cell_type": "code",
   "execution_count": 11,
   "source": [
    "# cur = conn.cursor()\r\n",
    "cur.execute(sql_select)\r\n",
    "rows = cur.fetchmany(5)\r\n",
    "rows"
   ],
   "outputs": [
    {
     "output_type": "execute_result",
     "data": {
      "text/plain": [
       "(('admin', '관리자', None, '2021-08-27 14:29'),\n",
       " ('eskim', '김은숙', None, '2021-08-28 23:19'),\n",
       " ('wjlee', '이우정', None, '2021-08-28 23:19'),\n",
       " ('djy', '대조영', None, '2021-08-28 23:21'),\n",
       " ('gdhong', '홍길동', None, '2021-08-28 23:25'))"
      ]
     },
     "metadata": {},
     "execution_count": 11
    }
   ],
   "metadata": {}
  },
  {
   "cell_type": "markdown",
   "source": [
    "- 반복문을 사용해서 조회"
   ],
   "metadata": {}
  },
  {
   "cell_type": "code",
   "execution_count": 12,
   "source": [
    "# cur = conn.cursor()\r\n",
    "cur.execute(sql_select)\r\n",
    "for row in cur:\r\n",
    "    print(row)"
   ],
   "outputs": [
    {
     "output_type": "stream",
     "name": "stdout",
     "text": [
      "('admin', '관리자', None, '2021-08-27 14:29')\n",
      "('eskim', '김은숙', None, '2021-08-28 23:19')\n",
      "('wjlee', '이우정', None, '2021-08-28 23:19')\n",
      "('djy', '대조영', None, '2021-08-28 23:21')\n",
      "('gdhong', '홍길동', None, '2021-08-28 23:25')\n",
      "('jbpark', '박재범', None, '2021-08-28 23:25')\n",
      "('gdhong2', '홍길동', None, '2021-08-28 23:26')\n",
      "('jbpark2', '박재범', None, '2021-08-28 23:26')\n"
     ]
    }
   ],
   "metadata": {}
  },
  {
   "cell_type": "markdown",
   "source": [
    "## 데이터 검색"
   ],
   "metadata": {}
  },
  {
   "cell_type": "code",
   "execution_count": 18,
   "source": [
    "sql_search = '''\r\n",
    "    SELECT uid, uname, email,\r\n",
    "        date_format(reg_date, '%%Y-%%m-%%d %%H:%%i') AS reg_date\r\n",
    "        FROM users where is_deleted = 0 AND uid=%s;\r\n",
    "'''"
   ],
   "outputs": [],
   "metadata": {}
  },
  {
   "cell_type": "code",
   "execution_count": 20,
   "source": [
    "# cur = conn.cursor()\r\n",
    "uid = 'jbpark'\r\n",
    "cur.execute(sql_search, (uid,))\r\n",
    "result = cur.fetchone()\r\n",
    "result"
   ],
   "outputs": [
    {
     "output_type": "execute_result",
     "data": {
      "text/plain": [
       "('jbpark', '박재범', None, '2021-08-28 23:25')"
      ]
     },
     "metadata": {},
     "execution_count": 20
    }
   ],
   "metadata": {}
  }
 ],
 "metadata": {
  "orig_nbformat": 4,
  "language_info": {
   "name": "python",
   "version": "3.8.10",
   "mimetype": "text/x-python",
   "codemirror_mode": {
    "name": "ipython",
    "version": 3
   },
   "pygments_lexer": "ipython3",
   "nbconvert_exporter": "python",
   "file_extension": ".py"
  },
  "kernelspec": {
   "name": "python3",
   "display_name": "Python 3.8.10 64-bit ('base': conda)"
  },
  "interpreter": {
   "hash": "3afaf00aff83f2e8eb9647e300ff648c4cd120434f7e4c9b48fc973ba4a47465"
  }
 },
 "nbformat": 4,
 "nbformat_minor": 2
}