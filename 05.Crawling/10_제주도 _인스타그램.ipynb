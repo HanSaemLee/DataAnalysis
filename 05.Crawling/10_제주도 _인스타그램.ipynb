{
 "cells": [
  {
   "cell_type": "markdown",
   "source": [
    "# 제주도 핫플레이스 - 인스타그램 크롤링"
   ],
   "metadata": {}
  },
  {
   "cell_type": "code",
   "execution_count": 28,
   "source": [
    "from selenium import webdriver\r\n",
    "from bs4 import BeautifulSoup\r\n",
    "import time\r\n",
    "import pandas as pd\r\n",
    "from urllib.parse import quote"
   ],
   "outputs": [],
   "metadata": {}
  },
  {
   "cell_type": "code",
   "execution_count": 29,
   "source": [
    "import unicodedata\r\n",
    "import re\r\n",
    "from tqdm.notebook import tqdm"
   ],
   "outputs": [],
   "metadata": {}
  },
  {
   "cell_type": "code",
   "execution_count": 30,
   "source": [
    "chromedriver = 'C:\\workspace\\chromedriver\\chromedriver.exe'\r\n",
    "driver = webdriver.Chrome(chromedriver)"
   ],
   "outputs": [],
   "metadata": {}
  },
  {
   "cell_type": "markdown",
   "source": [
    "## 1. Instagram에 접속하여 로그인"
   ],
   "metadata": {}
  },
  {
   "cell_type": "code",
   "execution_count": 33,
   "source": [
    "insta_url = 'https://www.instagram.com'\r\n",
    "driver.get(insta_url)\r\n",
    "time.sleep(1)"
   ],
   "outputs": [],
   "metadata": {}
  },
  {
   "cell_type": "code",
   "execution_count": 35,
   "source": [
    "with open('password.txt') as f:\r\n",
    "    password = f.read()"
   ],
   "outputs": [],
   "metadata": {}
  },
  {
   "cell_type": "code",
   "execution_count": 36,
   "source": [
    "email = 'dlgkstoa123@paran.com'\r\n",
    "input_email = driver.find_element_by_css_selector('._2hvTZ.pexuQ.zyHYP')\r\n",
    "input_email.clear()\r\n",
    "input_email.send_keys(email)"
   ],
   "outputs": [],
   "metadata": {}
  },
  {
   "cell_type": "code",
   "execution_count": 37,
   "source": [
    "input_pwd = driver.find_element_by_name('password')\r\n",
    "input_pwd.clear()\r\n",
    "input_pwd.send_keys(password)\r\n",
    "input_pwd.submit()\r\n",
    "time.sleep(1)"
   ],
   "outputs": [],
   "metadata": {}
  },
  {
   "cell_type": "code",
   "execution_count": 38,
   "source": [
    "# 로그인 정보 저장 - 나중에 하기\r\n",
    "try:\r\n",
    "    driver.find_element_by_css_selector('.sqd0P.yWX7d.y3zKF').click()\r\n",
    "    time.sleep(1)\r\n",
    "except:\r\n",
    "    pass"
   ],
   "outputs": [],
   "metadata": {}
  },
  {
   "cell_type": "code",
   "execution_count": 40,
   "source": [
    "# 알림 설정 - 나중에 하기\r\n",
    "try:\r\n",
    "    driver.find_element_by_css_selector('.a00lW.HoLwm').click()\r\n",
    "    time.sleep(1)\r\n",
    "except:\r\n",
    "    pass"
   ],
   "outputs": [],
   "metadata": {}
  },
  {
   "cell_type": "markdown",
   "source": [
    "## 2. 제주도맛집으로 검색"
   ],
   "metadata": {}
  },
  {
   "cell_type": "code",
   "execution_count": 41,
   "source": [
    "keyword = '제주도맛집'\r\n",
    "search_url = 'https://www.instagram.com/explore/tags/'\r\n",
    "url = f'{search_url}{quote(keyword)}'\r\n",
    "url"
   ],
   "outputs": [
    {
     "output_type": "execute_result",
     "data": {
      "text/plain": [
       "'https://www.instagram.com/explore/tags/%EC%A0%9C%EC%A3%BC%EB%8F%84%EB%A7%9B%EC%A7%91'"
      ]
     },
     "metadata": {},
     "execution_count": 41
    }
   ],
   "metadata": {}
  },
  {
   "cell_type": "code",
   "execution_count": 42,
   "source": [
    "driver.get(url)\r\n",
    "time.sleep(5)"
   ],
   "outputs": [],
   "metadata": {}
  },
  {
   "cell_type": "markdown",
   "source": [
    "## 3. 첫번째 게시글 열기"
   ],
   "metadata": {}
  },
  {
   "cell_type": "code",
   "execution_count": 43,
   "source": [
    "driver.find_element_by_css_selector('div._9AhH0').click()\r\n",
    "time.sleep(1)"
   ],
   "outputs": [],
   "metadata": {}
  },
  {
   "cell_type": "markdown",
   "source": [
    "## 4. 게시글 정보 가져오기"
   ],
   "metadata": {}
  },
  {
   "cell_type": "code",
   "execution_count": 44,
   "source": [
    "html = driver.page_source\r\n",
    "soup = BeautifulSoup(html, 'html.parser')"
   ],
   "outputs": [],
   "metadata": {}
  },
  {
   "cell_type": "code",
   "execution_count": 45,
   "source": [
    "# 1) 본문 내용 가져오기\r\n",
    "\r\n",
    "try:\r\n",
    "    content = soup.select_one('div.C4VMK > span').text\r\n",
    "    content = unicodedata.normalize('NFC', content)\r\n",
    "except:\r\n",
    "    content = ' '\r\n",
    "content"
   ],
   "outputs": [
    {
     "output_type": "execute_result",
     "data": {
      "text/plain": [
       "'⠀<별맛해장국>⠀-제주도 남쪽 끝 남원읍 조용한 시골마을에위치한 별맛해장국 간판만 봐도 맛집 스멜이 느껴지는데~🤗⠀-내장탕이나 나른 메뉴는 없고 오로지소고기선지해장국 하나만 있다⠀-이런 메뉴판은 무조건 믿고 먹는 집이지선지 상태 좋고 부드럽게 씹히는 넉넉한소고기에 구수하고 담백한 국물까지ㅎㅎ⠀-해장하러 왔다 소주시킬 뻔한 걸 간심히참고 한 뚝배기 완뚝~😝⠀-조용한 마을에서 느껴지는 편안함과 맛집느낌의 가게 분위기까지 여기 내 스타일인데ㅋ⠀-가격도 8,000원에 주류 가격도 좋아서귀포쪽에 있다면 한번 들려볼 만한 해장국집이다~😋⠀-아주머님의 정이 느껴지는 별맛해장국소고기해장국 한그릇 잘 먹었습니다~😋..........#별맛해장국#제주도맛집#서귀포맛집#남원맛집#제주도해장국#서귀포해장국#해장국맛집#제주해장국맛집#소고기해장국맛집#선지해장국맛집'"
      ]
     },
     "metadata": {},
     "execution_count": 45
    }
   ],
   "metadata": {}
  },
  {
   "cell_type": "code",
   "execution_count": 46,
   "source": [
    "# 2) 본문 내용에서 해쉬태그 가져오기, '#[^\\s#,\\\\]+'\r\n",
    "tags = re.findall(r'#[^\\s#,\\\\]+', content)\r\n",
    "tags"
   ],
   "outputs": [
    {
     "output_type": "execute_result",
     "data": {
      "text/plain": [
       "['#별맛해장국',\n",
       " '#제주도맛집',\n",
       " '#서귀포맛집',\n",
       " '#남원맛집',\n",
       " '#제주도해장국',\n",
       " '#서귀포해장국',\n",
       " '#해장국맛집',\n",
       " '#제주해장국맛집',\n",
       " '#소고기해장국맛집',\n",
       " '#선지해장국맛집']"
      ]
     },
     "metadata": {},
     "execution_count": 46
    }
   ],
   "metadata": {}
  },
  {
   "cell_type": "code",
   "execution_count": 47,
   "source": [
    "# 3) 작성일자 정보 가져오기\r\n",
    "date = soup.select_one('time.FH9sR.Nzb55')['datetime'][:10]\r\n",
    "date"
   ],
   "outputs": [
    {
     "output_type": "execute_result",
     "data": {
      "text/plain": [
       "'2021-08-24'"
      ]
     },
     "metadata": {},
     "execution_count": 47
    }
   ],
   "metadata": {}
  },
  {
   "cell_type": "code",
   "execution_count": 48,
   "source": [
    "# 4) 좋아요 수 가져오기: 좋아요\r\n",
    "try:\r\n",
    "    like = soup.select_one('div.Nm9Fw').text[4:-1]\r\n",
    "except:\r\n",
    "    like = 0\r\n",
    "like"
   ],
   "outputs": [
    {
     "output_type": "execute_result",
     "data": {
      "text/plain": [
       "'1,058'"
      ]
     },
     "metadata": {},
     "execution_count": 48
    }
   ],
   "metadata": {}
  },
  {
   "cell_type": "code",
   "execution_count": 51,
   "source": [
    "# 5) 위치정보 가져오기\r\n",
    "try:\r\n",
    "    place = soup.select('div.M30cS')[0].text\r\n",
    "    place = unicodedata.normalize('NFC', place)\r\n",
    "except:\r\n",
    "    place = ''\r\n",
    "place"
   ],
   "outputs": [
    {
     "output_type": "execute_result",
     "data": {
      "text/plain": [
       "'별맛해장국'"
      ]
     },
     "metadata": {},
     "execution_count": 51
    }
   ],
   "metadata": {}
  },
  {
   "cell_type": "code",
   "execution_count": 59,
   "source": [
    "row = [content, date, like, place, tags]\r\n",
    "row"
   ],
   "outputs": [
    {
     "output_type": "execute_result",
     "data": {
      "text/plain": [
       "['⠀<별맛해장국>⠀-제주도 남쪽 끝 남원읍 조용한 시골마을에위치한 별맛해장국 간판만 봐도 맛집 스멜이 느껴지는데~🤗⠀-내장탕이나 나른 메뉴는 없고 오로지소고기선지해장국 하나만 있다⠀-이런 메뉴판은 무조건 믿고 먹는 집이지선지 상태 좋고 부드럽게 씹히는 넉넉한소고기에 구수하고 담백한 국물까지ㅎㅎ⠀-해장하러 왔다 소주시킬 뻔한 걸 간심히참고 한 뚝배기 완뚝~😝⠀-조용한 마을에서 느껴지는 편안함과 맛집느낌의 가게 분위기까지 여기 내 스타일인데ㅋ⠀-가격도 8,000원에 주류 가격도 좋아서귀포쪽에 있다면 한번 들려볼 만한 해장국집이다~😋⠀-아주머님의 정이 느껴지는 별맛해장국소고기해장국 한그릇 잘 먹었습니다~😋..........#별맛해장국#제주도맛집#서귀포맛집#남원맛집#제주도해장국#서귀포해장국#해장국맛집#제주해장국맛집#소고기해장국맛집#선지해장국맛집',\n",
       " '2021-08-24',\n",
       " '1,058',\n",
       " '별맛해장국',\n",
       " ['#별맛해장국',\n",
       "  '#제주도맛집',\n",
       "  '#서귀포맛집',\n",
       "  '#남원맛집',\n",
       "  '#제주도해장국',\n",
       "  '#서귀포해장국',\n",
       "  '#해장국맛집',\n",
       "  '#제주해장국맛집',\n",
       "  '#소고기해장국맛집',\n",
       "  '#선지해장국맛집']]"
      ]
     },
     "metadata": {},
     "execution_count": 59
    }
   ],
   "metadata": {}
  },
  {
   "cell_type": "markdown",
   "source": [
    "## 5. 다음 게시글로 이동"
   ],
   "metadata": {}
  },
  {
   "cell_type": "code",
   "execution_count": 71,
   "source": [
    "driver.find_element_by_css_selector('a._65Bje.coreSpriteRightPaginationArrow').click()\r\n",
    "time.sleep(2)"
   ],
   "outputs": [],
   "metadata": {}
  },
  {
   "cell_type": "code",
   "execution_count": 62,
   "source": [
    "# 6을 하기 위해 popup 화면을 없앰(즉, x를 클릭)\r\n",
    "driver.find_element_by_xpath('/html/body/div[6]/div[3]/button').click()"
   ],
   "outputs": [],
   "metadata": {}
  },
  {
   "cell_type": "markdown",
   "source": [
    "## 6. 여러개의 게시글 가져오기"
   ],
   "metadata": {}
  },
  {
   "cell_type": "code",
   "execution_count": 69,
   "source": [
    "def get_content(driver):\r\n",
    "    html = driver.page_source\r\n",
    "    soup = BeautifulSoup(html, 'html.parser')\r\n",
    "    \r\n",
    "    try:\r\n",
    "        content = soup.select_one('div.C4VMK > span').text\r\n",
    "        content = unicodedata.normalize('NFC', content)\r\n",
    "    except:\r\n",
    "        content = ' '\r\n",
    "    tags = re.findall(r'#[^\\s#,\\\\]+', content)\r\n",
    "    date = soup.select_one('time.FH9sR.Nzb55')['datetime'][:10]\r\n",
    "\r\n",
    "    try:\r\n",
    "        like = soup.select_one('div.Nm9Fw').text[4:-1]\r\n",
    "    except:\r\n",
    "        like = 0\r\n",
    "    try:\r\n",
    "        place = soup.select('div.M30cS')[0].text\r\n",
    "        place = unicodedata.normalize('NFC', place)\r\n",
    "    except:\r\n",
    "        place = ''\r\n",
    "\r\n",
    "    return [content, date, like, place, tags]"
   ],
   "outputs": [],
   "metadata": {}
  },
  {
   "cell_type": "markdown",
   "source": [
    "## -제주도맛집, 제주맛집, 제주도관광, 제주여행"
   ],
   "metadata": {}
  },
  {
   "cell_type": "code",
   "execution_count": 73,
   "source": [
    "keyword = '제주도관광'\r\n",
    "search_url = 'https://www.instagram.com/explore/tags/'\r\n",
    "url = f'{search_url}{quote(keyword)}'\r\n",
    "driver.get(url)\r\n",
    "time.sleep(1)"
   ],
   "outputs": [],
   "metadata": {}
  },
  {
   "cell_type": "code",
   "execution_count": 74,
   "source": [
    "driver.find_element_by_css_selector('div._9AhH0').click()\r\n",
    "time.sleep(1)"
   ],
   "outputs": [],
   "metadata": {}
  },
  {
   "cell_type": "code",
   "execution_count": 75,
   "source": [
    "# 200개 정도가 한계인 것 같음\r\n",
    "results = []\r\n",
    "for _ in tqdm(range(200)):\r\n",
    "    try:\r\n",
    "        row = get_content(driver)\r\n",
    "        results.append(row)\r\n",
    "        driver.find_element_by_css_selector('a._65Bje.coreSpriteRightPaginationArrow').click()\r\n",
    "        time.sleep(3)\r\n",
    "    except:\r\n",
    "        time.sleep(3)\r\n",
    "        driver.find_element_by_css_selector('a._65Bje.coreSpriteRightPaginationArrow').click()\r\n",
    "        time.sleep(3)"
   ],
   "outputs": [
    {
     "output_type": "display_data",
     "data": {
      "text/plain": [
       "  0%|          | 0/200 [00:00<?, ?it/s]"
      ],
      "application/vnd.jupyter.widget-view+json": {
       "version_major": 2,
       "version_minor": 0,
       "model_id": "d5681e16177f47a79fc830581f682c0e"
      }
     },
     "metadata": {}
    }
   ],
   "metadata": {}
  },
  {
   "cell_type": "code",
   "execution_count": 76,
   "source": [
    "df = pd.DataFrame(results, columns=['content','date','like','place','tags'])\r\n",
    "df.head()"
   ],
   "outputs": [
    {
     "output_type": "execute_result",
     "data": {
      "text/plain": [
       "                                             content        date   like  \\\n",
       "0  #제주#제주특별시#제주도#제주도관광#성산읍#백패킹#섬패킹#등산#산스타그램🌳#제주백패...  2020-07-24    565   \n",
       "1  #제주#제주특별시#제주도#제주도관광#백패킹#섬패킹#등산#산스타그램🌳#제주백패킹#백패...  2020-12-09    556   \n",
       "2  ..늦잠 자고 싶다.6개월 늦은 사진..여기도 제주다.#제주도사진찍기좋은곳 #제주도...  2021-08-23    112   \n",
       "3  *자구내포구(차귀도포구) / 포구차귀도 배낚시가 유명해서 배낚시를 하러 이 곳 포구...  2021-08-21  1,260   \n",
       "4  💛💛💛10월의 제주도는 억새의 계절 ! 🌾사람도 없구 너무 한적하구 좋았던곳이였어요...  2020-10-10    619   \n",
       "\n",
       "             place                                               tags  \n",
       "0                   [#제주, #제주특별시, #제주도, #제주도관광, #성산읍, #백패킹, #섬패킹, ...  \n",
       "1                   [#제주, #제주특별시, #제주도, #제주도관광, #백패킹, #섬패킹, #등산, #...  \n",
       "2                   [#제주도사진찍기좋은곳, #제주도풍경, #제주도여행, #제주도카페, #제주도숙소, ...  \n",
       "3            자구내포구  [#자구내포구, #차귀도포구, #고산포구, #차귀도, #제주일몰, #제주바다, #제...  \n",
       "4  제주도 Jeju Island                                       [#빛나투어_제주✈️]  "
      ],
      "text/html": [
       "<div>\n",
       "<style scoped>\n",
       "    .dataframe tbody tr th:only-of-type {\n",
       "        vertical-align: middle;\n",
       "    }\n",
       "\n",
       "    .dataframe tbody tr th {\n",
       "        vertical-align: top;\n",
       "    }\n",
       "\n",
       "    .dataframe thead th {\n",
       "        text-align: right;\n",
       "    }\n",
       "</style>\n",
       "<table border=\"1\" class=\"dataframe\">\n",
       "  <thead>\n",
       "    <tr style=\"text-align: right;\">\n",
       "      <th></th>\n",
       "      <th>content</th>\n",
       "      <th>date</th>\n",
       "      <th>like</th>\n",
       "      <th>place</th>\n",
       "      <th>tags</th>\n",
       "    </tr>\n",
       "  </thead>\n",
       "  <tbody>\n",
       "    <tr>\n",
       "      <th>0</th>\n",
       "      <td>#제주#제주특별시#제주도#제주도관광#성산읍#백패킹#섬패킹#등산#산스타그램🌳#제주백패...</td>\n",
       "      <td>2020-07-24</td>\n",
       "      <td>565</td>\n",
       "      <td></td>\n",
       "      <td>[#제주, #제주특별시, #제주도, #제주도관광, #성산읍, #백패킹, #섬패킹, ...</td>\n",
       "    </tr>\n",
       "    <tr>\n",
       "      <th>1</th>\n",
       "      <td>#제주#제주특별시#제주도#제주도관광#백패킹#섬패킹#등산#산스타그램🌳#제주백패킹#백패...</td>\n",
       "      <td>2020-12-09</td>\n",
       "      <td>556</td>\n",
       "      <td></td>\n",
       "      <td>[#제주, #제주특별시, #제주도, #제주도관광, #백패킹, #섬패킹, #등산, #...</td>\n",
       "    </tr>\n",
       "    <tr>\n",
       "      <th>2</th>\n",
       "      <td>..늦잠 자고 싶다.6개월 늦은 사진..여기도 제주다.#제주도사진찍기좋은곳 #제주도...</td>\n",
       "      <td>2021-08-23</td>\n",
       "      <td>112</td>\n",
       "      <td></td>\n",
       "      <td>[#제주도사진찍기좋은곳, #제주도풍경, #제주도여행, #제주도카페, #제주도숙소, ...</td>\n",
       "    </tr>\n",
       "    <tr>\n",
       "      <th>3</th>\n",
       "      <td>*자구내포구(차귀도포구) / 포구차귀도 배낚시가 유명해서 배낚시를 하러 이 곳 포구...</td>\n",
       "      <td>2021-08-21</td>\n",
       "      <td>1,260</td>\n",
       "      <td>자구내포구</td>\n",
       "      <td>[#자구내포구, #차귀도포구, #고산포구, #차귀도, #제주일몰, #제주바다, #제...</td>\n",
       "    </tr>\n",
       "    <tr>\n",
       "      <th>4</th>\n",
       "      <td>💛💛💛10월의 제주도는 억새의 계절 ! 🌾사람도 없구 너무 한적하구 좋았던곳이였어요...</td>\n",
       "      <td>2020-10-10</td>\n",
       "      <td>619</td>\n",
       "      <td>제주도 Jeju Island</td>\n",
       "      <td>[#빛나투어_제주✈️]</td>\n",
       "    </tr>\n",
       "  </tbody>\n",
       "</table>\n",
       "</div>"
      ]
     },
     "metadata": {},
     "execution_count": 76
    }
   ],
   "metadata": {}
  },
  {
   "cell_type": "code",
   "execution_count": 77,
   "source": [
    "df.tail()"
   ],
   "outputs": [
    {
     "output_type": "execute_result",
     "data": {
      "text/plain": [
       "                                               content        date like  \\\n",
       "195  #아녜스의앞치마 .요즘 날씨가 완전 가을 같아요~~~^^오시는 손님마다 아 추워!!...  2021-08-16  100   \n",
       "196  ..현재 인스타계정 상태를 분석한 결과와 관리하는 방법을 무료로 알려드립니다..카톡...  2021-08-15  148   \n",
       "197  제주 스위스마을2020.05.23#제주도 #jeju #제주도여행 #제주도한달살기 #...  2021-08-15   20   \n",
       "198                               진짜 어떻하냐..너무 귀엽잖아!!!!  2021-08-15   65   \n",
       "199  ≤붉은 방 - 붉은 색의 조화≥앙리 마티스▤ 붉은 방 ▤이 원래 파란색이였던 것알고...  2021-08-15   23   \n",
       "\n",
       "                                                 place  \\\n",
       "195                                            아녜스의앞치마   \n",
       "196                                                      \n",
       "197                                          제주조천스위스마을   \n",
       "198  제주 그린데이 게스트하우스 'GreenDay' jeju guesthouse & ba...   \n",
       "199                                          그대, 나의 뮤즈   \n",
       "\n",
       "                                                  tags  \n",
       "195  [#아녜스의앞치마, #제주, #제주도, #9월제주도가볼만한곳, #8월제주도가볼만한곳...  \n",
       "196  [#감성여행, #제주도관광, #패키지여행, #정선여행, #2박3일여행, #도보여행,...  \n",
       "197  [#제주도, #jeju, #제주도여행, #제주도한달살기, #제주한달살기, #한달살기...  \n",
       "198                                                 []  \n",
       "199                                                 []  "
      ],
      "text/html": [
       "<div>\n",
       "<style scoped>\n",
       "    .dataframe tbody tr th:only-of-type {\n",
       "        vertical-align: middle;\n",
       "    }\n",
       "\n",
       "    .dataframe tbody tr th {\n",
       "        vertical-align: top;\n",
       "    }\n",
       "\n",
       "    .dataframe thead th {\n",
       "        text-align: right;\n",
       "    }\n",
       "</style>\n",
       "<table border=\"1\" class=\"dataframe\">\n",
       "  <thead>\n",
       "    <tr style=\"text-align: right;\">\n",
       "      <th></th>\n",
       "      <th>content</th>\n",
       "      <th>date</th>\n",
       "      <th>like</th>\n",
       "      <th>place</th>\n",
       "      <th>tags</th>\n",
       "    </tr>\n",
       "  </thead>\n",
       "  <tbody>\n",
       "    <tr>\n",
       "      <th>195</th>\n",
       "      <td>#아녜스의앞치마 .요즘 날씨가 완전 가을 같아요~~~^^오시는 손님마다 아 추워!!...</td>\n",
       "      <td>2021-08-16</td>\n",
       "      <td>100</td>\n",
       "      <td>아녜스의앞치마</td>\n",
       "      <td>[#아녜스의앞치마, #제주, #제주도, #9월제주도가볼만한곳, #8월제주도가볼만한곳...</td>\n",
       "    </tr>\n",
       "    <tr>\n",
       "      <th>196</th>\n",
       "      <td>..현재 인스타계정 상태를 분석한 결과와 관리하는 방법을 무료로 알려드립니다..카톡...</td>\n",
       "      <td>2021-08-15</td>\n",
       "      <td>148</td>\n",
       "      <td></td>\n",
       "      <td>[#감성여행, #제주도관광, #패키지여행, #정선여행, #2박3일여행, #도보여행,...</td>\n",
       "    </tr>\n",
       "    <tr>\n",
       "      <th>197</th>\n",
       "      <td>제주 스위스마을2020.05.23#제주도 #jeju #제주도여행 #제주도한달살기 #...</td>\n",
       "      <td>2021-08-15</td>\n",
       "      <td>20</td>\n",
       "      <td>제주조천스위스마을</td>\n",
       "      <td>[#제주도, #jeju, #제주도여행, #제주도한달살기, #제주한달살기, #한달살기...</td>\n",
       "    </tr>\n",
       "    <tr>\n",
       "      <th>198</th>\n",
       "      <td>진짜 어떻하냐..너무 귀엽잖아!!!!</td>\n",
       "      <td>2021-08-15</td>\n",
       "      <td>65</td>\n",
       "      <td>제주 그린데이 게스트하우스 'GreenDay' jeju guesthouse &amp; ba...</td>\n",
       "      <td>[]</td>\n",
       "    </tr>\n",
       "    <tr>\n",
       "      <th>199</th>\n",
       "      <td>≤붉은 방 - 붉은 색의 조화≥앙리 마티스▤ 붉은 방 ▤이 원래 파란색이였던 것알고...</td>\n",
       "      <td>2021-08-15</td>\n",
       "      <td>23</td>\n",
       "      <td>그대, 나의 뮤즈</td>\n",
       "      <td>[]</td>\n",
       "    </tr>\n",
       "  </tbody>\n",
       "</table>\n",
       "</div>"
      ]
     },
     "metadata": {},
     "execution_count": 77
    }
   ],
   "metadata": {}
  },
  {
   "cell_type": "code",
   "execution_count": 81,
   "source": [
    "df.to_csv('제주여행.csv', index=False)"
   ],
   "outputs": [],
   "metadata": {}
  },
  {
   "cell_type": "code",
   "execution_count": 82,
   "source": [
    "driver.find_element_by_xpath('/html/body/div[6]/div[3]/button').click()"
   ],
   "outputs": [],
   "metadata": {}
  },
  {
   "cell_type": "code",
   "execution_count": 83,
   "source": [
    "driver.close()"
   ],
   "outputs": [],
   "metadata": {}
  },
  {
   "cell_type": "markdown",
   "source": [
    "## 4가지 CSV 파일의 중복을 제거한 후 통합 저장"
   ],
   "metadata": {}
  },
  {
   "cell_type": "code",
   "execution_count": 89,
   "source": [
    "for keyword in ['제주도맛집','제주맛집','제주여행']:\r\n",
    "    df = pd.read_csv(f'{keyword}.csv')\r\n",
    "    print(df.head())"
   ],
   "outputs": [
    {
     "output_type": "stream",
     "name": "stdout",
     "text": [
      "                                             content        data  like  \\\n",
      "0  협찬제주썬셋맛집 \"랍스터빈\"주소 : 제주시 애월읍 애월해안로 752전화 : 064-...  2021-08-20     0   \n",
      "1  #한라산아래첫마을 제주 서귀포시 안덕면 산록남로 675국내에선 제주가 최대 메밀 산...  2021-08-20     0   \n",
      "\n",
      "      place                                               tags  \n",
      "0       NaN  ['#애월맛집', '#애월카페', '#애월읍맛집', '#제주애월맛집', '#제주도맛...  \n",
      "1  한라산아래첫마을  ['#한라산아래첫마을', '#포도냐제주도', '#제주도막국수', '#제주도여행', ...  \n",
      "                                             content        data like   place  \\\n",
      "0  제주도 도착~~공항근처 #제주분식 에서 먹은 첫식사만족만족!#제주맛집#제주도맛집#제...  2019-01-01  705     NaN   \n",
      "1  ﻿#함덕맛집 무거버거 바다 보면서 먹으니까 더 꿀맛👍🏻 #제주도카페투어#제주일상#함...  2019-01-01  384     NaN   \n",
      "2  .대만족 제주스!.#동문시장#제주동문시장#제주도기념품#제주기념품#제주스는완벽#제주도...  2019-01-01  595     NaN   \n",
      "3  #제주여행#2일차무거버거 제주와서 먹은것중에 제일 맛있었음!#제주도여행#제주맛집#함...  2019-01-01  412     NaN   \n",
      "4  🥇1월 영업 안내🥇-1월 2일, 3일(수,목)은 쉬어갑니다-1월 4일,5일,6일(금...  2019-01-01  364  로타리과자점   \n",
      "\n",
      "                                                tags  \n",
      "0  ['#제주분식', '#제주맛집', '#제주도맛집', '#제주맛집추천', '#제주도맛...  \n",
      "1  ['#함덕맛집', '#제주도카페투어', '#제주일상', '#함덕', '#jejudo...  \n",
      "2  ['#동문시장', '#제주동문시장', '#제주도기념품', '#제주기념품', '#제주...  \n",
      "3  ['#제주여행', '#2일차무거버거', '#제주도여행', '#제주맛집', '#함덕맛...  \n",
      "4                                                 []  \n",
      "                                             content        date   like  \\\n",
      "0  #제주#제주특별시#제주도#제주도관광#성산읍#백패킹#섬패킹#등산#산스타그램🌳#제주백패...  2020-07-24    565   \n",
      "1  #제주#제주특별시#제주도#제주도관광#백패킹#섬패킹#등산#산스타그램🌳#제주백패킹#백패...  2020-12-09    556   \n",
      "2  ..늦잠 자고 싶다.6개월 늦은 사진..여기도 제주다.#제주도사진찍기좋은곳 #제주도...  2021-08-23    112   \n",
      "3  *자구내포구(차귀도포구) / 포구차귀도 배낚시가 유명해서 배낚시를 하러 이 곳 포구...  2021-08-21  1,260   \n",
      "4  💛💛💛10월의 제주도는 억새의 계절 ! 🌾사람도 없구 너무 한적하구 좋았던곳이였어요...  2020-10-10    619   \n",
      "\n",
      "             place                                               tags  \n",
      "0              NaN  ['#제주', '#제주특별시', '#제주도', '#제주도관광', '#성산읍', '#...  \n",
      "1              NaN  ['#제주', '#제주특별시', '#제주도', '#제주도관광', '#백패킹', '#...  \n",
      "2              NaN  ['#제주도사진찍기좋은곳', '#제주도풍경', '#제주도여행', '#제주도카페', ...  \n",
      "3            자구내포구  ['#자구내포구', '#차귀도포구', '#고산포구', '#차귀도', '#제주일몰',...  \n",
      "4  제주도 Jeju Island                                     ['#빛나투어_제주✈️']  \n"
     ]
    }
   ],
   "metadata": {}
  }
 ],
 "metadata": {
  "orig_nbformat": 4,
  "language_info": {
   "name": "python",
   "version": "3.8.10",
   "mimetype": "text/x-python",
   "codemirror_mode": {
    "name": "ipython",
    "version": 3
   },
   "pygments_lexer": "ipython3",
   "nbconvert_exporter": "python",
   "file_extension": ".py"
  },
  "kernelspec": {
   "name": "python3",
   "display_name": "Python 3.8.10 64-bit ('base': conda)"
  },
  "interpreter": {
   "hash": "3afaf00aff83f2e8eb9647e300ff648c4cd120434f7e4c9b48fc973ba4a47465"
  }
 },
 "nbformat": 4,
 "nbformat_minor": 2
}