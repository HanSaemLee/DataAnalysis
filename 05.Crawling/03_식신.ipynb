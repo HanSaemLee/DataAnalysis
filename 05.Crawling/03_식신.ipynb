{
 "cells": [
  {
   "cell_type": "markdown",
   "source": [
    "# 식신-양재역으로 검색\r\n",
    "- 명칭, 주요메뉴, 평점, 전화번호, 주소"
   ],
   "metadata": {}
  },
  {
   "cell_type": "code",
   "execution_count": 1,
   "source": [
    "import requests\r\n",
    "import pandas as pd\r\n",
    "from urllib.parse import quote"
   ],
   "outputs": [],
   "metadata": {}
  },
  {
   "cell_type": "markdown",
   "source": [
    "- 데이터 가져오기"
   ],
   "metadata": {}
  },
  {
   "cell_type": "code",
   "execution_count": null,
   "source": [
    "base_url = 'https://www.siksinhot.com'\r\n",
    "url = f'{base_url}/search?keywords={quote(\"양재역\")}'\r\n",
    "req = requests.get(url)\r\n",
    "html = req.text\r\n",
    "html"
   ],
   "outputs": [],
   "metadata": {}
  },
  {
   "cell_type": "code",
   "execution_count": 3,
   "source": [
    "from bs4 import BeautifulSoup\r\n",
    "\r\n",
    "soup = BeautifulSoup(html, 'html.parser')"
   ],
   "outputs": [],
   "metadata": {}
  },
  {
   "cell_type": "markdown",
   "source": [
    "- 찾으려고 하는 데이터의 태그 찾기"
   ],
   "metadata": {}
  },
  {
   "cell_type": "code",
   "execution_count": 4,
   "source": [
    "lis = soup.select('div.listTy1 > ul > li')\r\n",
    "len(lis)"
   ],
   "outputs": [
    {
     "output_type": "execute_result",
     "data": {
      "text/plain": [
       "12"
      ]
     },
     "metadata": {},
     "execution_count": 4
    }
   ],
   "metadata": {}
  },
  {
   "cell_type": "markdown",
   "source": [
    "- 여러개의 데이터중 하나를 선택해서 원하는 정보 추출"
   ],
   "metadata": {}
  },
  {
   "cell_type": "code",
   "execution_count": 22,
   "source": [
    "li = lis[0]\r\n",
    "href = li.select_one('a')['href']\r\n",
    "href"
   ],
   "outputs": [
    {
     "output_type": "execute_result",
     "data": {
      "text/plain": [
       "'/P/358859'"
      ]
     },
     "metadata": {},
     "execution_count": 22
    }
   ],
   "metadata": {}
  },
  {
   "cell_type": "code",
   "execution_count": 23,
   "source": [
    "url = base_url + href\r\n",
    "req = requests.get(url)\r\n",
    "sub_soup = BeautifulSoup(req.text, 'html.parser')\r\n",
    "url"
   ],
   "outputs": [
    {
     "output_type": "execute_result",
     "data": {
      "text/plain": [
       "'https://www.siksinhot.com/P/358859'"
      ]
     },
     "metadata": {},
     "execution_count": 23
    }
   ],
   "metadata": {}
  },
  {
   "cell_type": "code",
   "execution_count": 24,
   "source": [
    "store = sub_soup.select_one('.title')\r\n",
    "info = store.find('h3').get_text()         # h3 밑에 있는 모든 텍스트 출력\r\n",
    "info"
   ],
   "outputs": [
    {
     "output_type": "execute_result",
     "data": {
      "text/plain": [
       "'그릭슈바인 양재역점3.6HOT'"
      ]
     },
     "metadata": {},
     "execution_count": 24
    }
   ],
   "metadata": {}
  },
  {
   "cell_type": "code",
   "execution_count": 25,
   "source": [
    "score =store.select_one('h3 > strong').string       # h3 밑에 있는 strong만 출력\r\n",
    "score"
   ],
   "outputs": [
    {
     "output_type": "execute_result",
     "data": {
      "text/plain": [
       "'3.6'"
      ]
     },
     "metadata": {},
     "execution_count": 25
    }
   ],
   "metadata": {}
  },
  {
   "cell_type": "code",
   "execution_count": 26,
   "source": [
    "info.find(score)            # info 문자열에서 score 위치(인덱스)를 알아내는 메서드"
   ],
   "outputs": [
    {
     "output_type": "execute_result",
     "data": {
      "text/plain": [
       "10"
      ]
     },
     "metadata": {},
     "execution_count": 26
    }
   ],
   "metadata": {}
  },
  {
   "cell_type": "code",
   "execution_count": 20,
   "source": [
    "name = info[:info.find(score)]  # score 문자열의 3.6 앞 출력\r\n",
    "name"
   ],
   "outputs": [
    {
     "output_type": "execute_result",
     "data": {
      "text/plain": [
       "'스타쉐프'"
      ]
     },
     "metadata": {},
     "execution_count": 20
    }
   ],
   "metadata": {}
  },
  {
   "cell_type": "code",
   "execution_count": 33,
   "source": [
    "# contents > div > div > div.content > div.sec_left > div > div:nth-child(1) > div:nth-child(1) > p\r\n",
    "menu = sub_soup.select('.store_info p')[1].get_text()\r\n",
    "menu"
   ],
   "outputs": [
    {
     "output_type": "execute_result",
     "data": {
      "text/plain": [
       "'나이트라이프 > 맥주/호프'"
      ]
     },
     "metadata": {},
     "execution_count": 33
    }
   ],
   "metadata": {}
  },
  {
   "cell_type": "code",
   "execution_count": 34,
   "source": [
    "tel = sub_soup.select_one('.p_tel p').get_text()\r\n",
    "tel"
   ],
   "outputs": [
    {
     "output_type": "execute_result",
     "data": {
      "text/plain": [
       "'02-572-6100'"
      ]
     },
     "metadata": {},
     "execution_count": 34
    }
   ],
   "metadata": {}
  },
  {
   "cell_type": "code",
   "execution_count": 13,
   "source": [
    "addr = sub_soup.select_one('.txt_adr').string\r\n",
    "addr"
   ],
   "outputs": [
    {
     "output_type": "execute_result",
     "data": {
      "text/plain": [
       "'서울특별시 서초구 강남대로 224'"
      ]
     },
     "metadata": {},
     "execution_count": 13
    }
   ],
   "metadata": {}
  },
  {
   "cell_type": "markdown",
   "source": [
    "- 한 페이지에 있는 모든 데이터를 반복문으로 가져오기"
   ],
   "metadata": {}
  },
  {
   "cell_type": "code",
   "execution_count": 46,
   "source": [
    "name_list, score_list, menu_list, tel_list, addr_list = [],[],[],[],[]\r\n",
    "for i, li in enumerate(lis):\r\n",
    "    href = li.select_one('a')['href']\r\n",
    "    url = base_url + href\r\n",
    "    req = requests.get(url)\r\n",
    "    sub_soup = BeautifulSoup(req.text, 'html.parser')\r\n",
    "\r\n",
    "    try:\r\n",
    "        store = sub_soup.select_one('.title')\r\n",
    "        info = store.find('h3').get_text()\r\n",
    "        score = store.select_one('h3 > strong').string\r\n",
    "        name = info[:info.find(score)]\r\n",
    "        menu = sub_soup.select('.store_info p')[1].get_text()\r\n",
    "        tel = sub_soup.select_one('.p_tel p').get_text()\r\n",
    "        addr = sub_soup.select_one('.txt_adr').string\r\n",
    "\r\n",
    "        name_list.append(name)\r\n",
    "        score_list.append(float(score))\r\n",
    "        menu_list.append(menu)\r\n",
    "        tel_list.append(tel)\r\n",
    "        addr_list.append(addr)\r\n",
    "    except:\r\n",
    "        print(lis[i])"
   ],
   "outputs": [
    {
     "output_type": "stream",
     "name": "stdout",
     "text": [
      "<li data-reactid=\"177\"><div class=\"cont\" data-reactid=\"178\"><a data-reactid=\"179\" href=\"/P/1221120\"><span class=\"img\" data-reactid=\"180\"><img data-reactid=\"181\" height=\"224\" src=\"https://img.siksinhot.com/place/1617760654082114.jpeg?w=280&amp;h=224&amp;c=Y\" width=\"280\"/></span><div class=\"cnt\" data-reactid=\"182\"><em class=\"score2\" data-reactid=\"183\">평가중</em><div class=\"box_tit\" data-reactid=\"184\"><strong class=\"store\" data-reactid=\"185\">새우닭 양재역점</strong><div class=\"ico_right\" data-reactid=\"186\"></div></div><ul data-reactid=\"187\"><li data-reactid=\"188\">양재/도곡</li></ul><p data-reactid=\"189\"><!-- react-text: 190 -->딱새우회<!-- /react-text --><!-- react-text: 191 -->, 닭도리탕<!-- /react-text --><!-- react-text: 192 -->, 딱새우튀김<!-- /react-text --><!-- react-text: 193 -->, 술국닭계장<!-- /react-text --><!-- react-text: 194 -->, 마라해물새우<!-- /react-text --></p><ul class=\"state_ul\" data-reactid=\"195\"><li class=\"ico_st01\" data-reactid=\"196\"><p data-reactid=\"197\">672</p></li><li class=\"ico_st02\" data-reactid=\"198\"><p data-reactid=\"199\">0</p></li><li class=\"ico_st03\" data-reactid=\"200\"><p data-reactid=\"201\">1</p></li></ul></div></a></div></li>\n",
      "<li data-reactid=\"202\"><div class=\"cont\" data-reactid=\"203\"><a data-reactid=\"204\" href=\"/P/1097480\"><span class=\"img\" data-reactid=\"205\"><img data-reactid=\"206\" height=\"224\" src=\"https://img.siksinhot.com/place/1546583530445293.jpg?w=280&amp;h=224&amp;c=Y\" width=\"280\"/></span><div class=\"cnt\" data-reactid=\"207\"><em class=\"score2\" data-reactid=\"208\">평가중</em><div class=\"box_tit\" data-reactid=\"209\"><strong class=\"store\" data-reactid=\"210\">양재역 옛날짜장</strong><div class=\"ico_right\" data-reactid=\"211\"></div></div><ul data-reactid=\"212\"><li data-reactid=\"213\">시흥시/물왕저수지</li></ul><p data-reactid=\"214\"><!-- react-text: 215 -->짜장면<!-- /react-text --><!-- react-text: 216 -->, 짬뽕<!-- /react-text --><!-- react-text: 217 -->, 볶음밥<!-- /react-text --><!-- react-text: 218 -->, 고추잡채<!-- /react-text --><!-- react-text: 219 -->, 쟁반짜장<!-- /react-text --><!-- react-text: 220 -->, 탕수육<!-- /react-text --></p><ul class=\"state_ul\" data-reactid=\"221\"><li class=\"ico_st01\" data-reactid=\"222\"><p data-reactid=\"223\">1750</p></li><li class=\"ico_st02\" data-reactid=\"224\"><p data-reactid=\"225\">0</p></li><li class=\"ico_st03\" data-reactid=\"226\"><p data-reactid=\"227\">4</p></li></ul></div></a></div></li>\n"
     ]
    }
   ],
   "metadata": {}
  },
  {
   "cell_type": "code",
   "execution_count": 44,
   "source": [
    "name_list, score_list, menu_list, tel_list, addr_list"
   ],
   "outputs": [
    {
     "output_type": "execute_result",
     "data": {
      "text/plain": [
       "(['그릭슈바인 양재역점',\n",
       "  '미스터브리즈 양재역점',\n",
       "  '동신참치 양재역점',\n",
       "  '영동족발 3호점',\n",
       "  '황재벌',\n",
       "  '김영모과자점 도곡타워점',\n",
       "  '소호정 본점',\n",
       "  '산동칼국수',\n",
       "  '양재정육식당',\n",
       "  '스타쉐프'],\n",
       " [3.6, 3.4, 3.0, 4.1, 3.9, 4.1, 4.0, 3.9, 4.1, 3.9],\n",
       " ['나이트라이프 > 맥주/호프',\n",
       "  '세계음식 > 카페/커피숍',\n",
       "  '한국음식 > 회',\n",
       "  '한국음식 > 족발/보쌈',\n",
       "  '한국음식 > 장어구이/꼼장어',\n",
       "  '세계음식 > 베이커리/제과점',\n",
       "  '한국음식 > 라면/칼국수/국수/수제비',\n",
       "  '한국음식 > 라면/칼국수/국수/수제비',\n",
       "  '한국음식 > 꽃등심/등심/육회',\n",
       "  '세계음식 > 퓨전레스토랑'],\n",
       " ['02-572-6100',\n",
       "  '02-576-4333',\n",
       "  '02-529-7130',\n",
       "  '02-575-0250',\n",
       "  '02-3471-5454',\n",
       "  '02-3460-2005',\n",
       "  '02-579-7282',\n",
       "  '02-3473-7972',\n",
       "  '02-577-5804',\n",
       "  '02-529-8248'],\n",
       " ['서울특별시 서초구 강남대로 224',\n",
       "  '서울 서초구 강남대로34길 6',\n",
       "  '서울 서초구 강남대로 213',\n",
       "  '서울특별시 서초구 남부순환로 2628-18',\n",
       "  '서울특별시 서초구 남부순환로347길 42-4 신화빌딩',\n",
       "  '서울특별시 강남구 언주로30길 10 현대비젼21',\n",
       "  '서울특별시 서초구 논현로 27',\n",
       "  '서울특별시 서초구 강남대로37길 63',\n",
       "  '서울 서초구 바우뫼로35길 3',\n",
       "  '서울특별시 강남구 논현로38길 38-6'])"
      ]
     },
     "metadata": {},
     "execution_count": 44
    }
   ],
   "metadata": {}
  },
  {
   "cell_type": "code",
   "execution_count": 47,
   "source": [
    "df = pd.DataFrame({\r\n",
    "    '식당명':name_list, '평점':score_list, '메뉴':menu_list,\r\n",
    "    '전화번호':tel_list, '주소':addr_list\r\n",
    "})\r\n",
    "df"
   ],
   "outputs": [
    {
     "output_type": "execute_result",
     "data": {
      "text/plain": [
       "            식당명   평점                    메뉴          전화번호  \\\n",
       "0    그릭슈바인 양재역점  3.6        나이트라이프 > 맥주/호프   02-572-6100   \n",
       "1   미스터브리즈 양재역점  3.4         세계음식 > 카페/커피숍   02-576-4333   \n",
       "2     동신참치 양재역점  3.0              한국음식 > 회   02-529-7130   \n",
       "3      영동족발 3호점  4.1          한국음식 > 족발/보쌈   02-575-0250   \n",
       "4           황재벌  3.9       한국음식 > 장어구이/꼼장어  02-3471-5454   \n",
       "5  김영모과자점 도곡타워점  4.1       세계음식 > 베이커리/제과점  02-3460-2005   \n",
       "6        소호정 본점  4.0  한국음식 > 라면/칼국수/국수/수제비   02-579-7282   \n",
       "7         산동칼국수  3.9  한국음식 > 라면/칼국수/국수/수제비  02-3473-7972   \n",
       "8        양재정육식당  4.1      한국음식 > 꽃등심/등심/육회   02-577-5804   \n",
       "9          스타쉐프  3.9         세계음식 > 퓨전레스토랑   02-529-8248   \n",
       "\n",
       "                              주소  \n",
       "0             서울특별시 서초구 강남대로 224  \n",
       "1               서울 서초구 강남대로34길 6  \n",
       "2                서울 서초구 강남대로 213  \n",
       "3        서울특별시 서초구 남부순환로 2628-18  \n",
       "4  서울특별시 서초구 남부순환로347길 42-4 신화빌딩  \n",
       "5     서울특별시 강남구 언주로30길 10 현대비젼21  \n",
       "6               서울특별시 서초구 논현로 27  \n",
       "7           서울특별시 서초구 강남대로37길 63  \n",
       "8               서울 서초구 바우뫼로35길 3  \n",
       "9          서울특별시 강남구 논현로38길 38-6  "
      ],
      "text/html": [
       "<div>\n",
       "<style scoped>\n",
       "    .dataframe tbody tr th:only-of-type {\n",
       "        vertical-align: middle;\n",
       "    }\n",
       "\n",
       "    .dataframe tbody tr th {\n",
       "        vertical-align: top;\n",
       "    }\n",
       "\n",
       "    .dataframe thead th {\n",
       "        text-align: right;\n",
       "    }\n",
       "</style>\n",
       "<table border=\"1\" class=\"dataframe\">\n",
       "  <thead>\n",
       "    <tr style=\"text-align: right;\">\n",
       "      <th></th>\n",
       "      <th>식당명</th>\n",
       "      <th>평점</th>\n",
       "      <th>메뉴</th>\n",
       "      <th>전화번호</th>\n",
       "      <th>주소</th>\n",
       "    </tr>\n",
       "  </thead>\n",
       "  <tbody>\n",
       "    <tr>\n",
       "      <th>0</th>\n",
       "      <td>그릭슈바인 양재역점</td>\n",
       "      <td>3.6</td>\n",
       "      <td>나이트라이프 &gt; 맥주/호프</td>\n",
       "      <td>02-572-6100</td>\n",
       "      <td>서울특별시 서초구 강남대로 224</td>\n",
       "    </tr>\n",
       "    <tr>\n",
       "      <th>1</th>\n",
       "      <td>미스터브리즈 양재역점</td>\n",
       "      <td>3.4</td>\n",
       "      <td>세계음식 &gt; 카페/커피숍</td>\n",
       "      <td>02-576-4333</td>\n",
       "      <td>서울 서초구 강남대로34길 6</td>\n",
       "    </tr>\n",
       "    <tr>\n",
       "      <th>2</th>\n",
       "      <td>동신참치 양재역점</td>\n",
       "      <td>3.0</td>\n",
       "      <td>한국음식 &gt; 회</td>\n",
       "      <td>02-529-7130</td>\n",
       "      <td>서울 서초구 강남대로 213</td>\n",
       "    </tr>\n",
       "    <tr>\n",
       "      <th>3</th>\n",
       "      <td>영동족발 3호점</td>\n",
       "      <td>4.1</td>\n",
       "      <td>한국음식 &gt; 족발/보쌈</td>\n",
       "      <td>02-575-0250</td>\n",
       "      <td>서울특별시 서초구 남부순환로 2628-18</td>\n",
       "    </tr>\n",
       "    <tr>\n",
       "      <th>4</th>\n",
       "      <td>황재벌</td>\n",
       "      <td>3.9</td>\n",
       "      <td>한국음식 &gt; 장어구이/꼼장어</td>\n",
       "      <td>02-3471-5454</td>\n",
       "      <td>서울특별시 서초구 남부순환로347길 42-4 신화빌딩</td>\n",
       "    </tr>\n",
       "    <tr>\n",
       "      <th>5</th>\n",
       "      <td>김영모과자점 도곡타워점</td>\n",
       "      <td>4.1</td>\n",
       "      <td>세계음식 &gt; 베이커리/제과점</td>\n",
       "      <td>02-3460-2005</td>\n",
       "      <td>서울특별시 강남구 언주로30길 10 현대비젼21</td>\n",
       "    </tr>\n",
       "    <tr>\n",
       "      <th>6</th>\n",
       "      <td>소호정 본점</td>\n",
       "      <td>4.0</td>\n",
       "      <td>한국음식 &gt; 라면/칼국수/국수/수제비</td>\n",
       "      <td>02-579-7282</td>\n",
       "      <td>서울특별시 서초구 논현로 27</td>\n",
       "    </tr>\n",
       "    <tr>\n",
       "      <th>7</th>\n",
       "      <td>산동칼국수</td>\n",
       "      <td>3.9</td>\n",
       "      <td>한국음식 &gt; 라면/칼국수/국수/수제비</td>\n",
       "      <td>02-3473-7972</td>\n",
       "      <td>서울특별시 서초구 강남대로37길 63</td>\n",
       "    </tr>\n",
       "    <tr>\n",
       "      <th>8</th>\n",
       "      <td>양재정육식당</td>\n",
       "      <td>4.1</td>\n",
       "      <td>한국음식 &gt; 꽃등심/등심/육회</td>\n",
       "      <td>02-577-5804</td>\n",
       "      <td>서울 서초구 바우뫼로35길 3</td>\n",
       "    </tr>\n",
       "    <tr>\n",
       "      <th>9</th>\n",
       "      <td>스타쉐프</td>\n",
       "      <td>3.9</td>\n",
       "      <td>세계음식 &gt; 퓨전레스토랑</td>\n",
       "      <td>02-529-8248</td>\n",
       "      <td>서울특별시 강남구 논현로38길 38-6</td>\n",
       "    </tr>\n",
       "  </tbody>\n",
       "</table>\n",
       "</div>"
      ]
     },
     "metadata": {},
     "execution_count": 47
    }
   ],
   "metadata": {}
  },
  {
   "cell_type": "markdown",
   "source": [
    "- 문제 발생한 두 번째 업소 살펴보기"
   ],
   "metadata": {}
  },
  {
   "cell_type": "code",
   "execution_count": 49,
   "source": [
    "li = lis[1]\r\n",
    "li.select_one('.store').string"
   ],
   "outputs": [
    {
     "output_type": "execute_result",
     "data": {
      "text/plain": [
       "'미스터브리즈 양재역점'"
      ]
     },
     "metadata": {},
     "execution_count": 49
    }
   ],
   "metadata": {}
  },
  {
   "cell_type": "code",
   "execution_count": 51,
   "source": [
    "li.select_one('.score').string"
   ],
   "outputs": [
    {
     "output_type": "execute_result",
     "data": {
      "text/plain": [
       "'3.4'"
      ]
     },
     "metadata": {},
     "execution_count": 51
    }
   ],
   "metadata": {}
  },
  {
   "cell_type": "code",
   "execution_count": 52,
   "source": [
    "li.select_one('.cnt p').get_text()"
   ],
   "outputs": [
    {
     "output_type": "execute_result",
     "data": {
      "text/plain": [
       "'아메리카노, 허니버터브레드, 와플'"
      ]
     },
     "metadata": {},
     "execution_count": 52
    }
   ],
   "metadata": {}
  },
  {
   "cell_type": "markdown",
   "source": [
    "- 문제 발생한 네번째 업소 살펴보기"
   ],
   "metadata": {}
  },
  {
   "cell_type": "code",
   "execution_count": 55,
   "source": [
    "li = lis[3]\r\n",
    "li.select_one('em').string"
   ],
   "outputs": [
    {
     "output_type": "execute_result",
     "data": {
      "text/plain": [
       "'평가중'"
      ]
     },
     "metadata": {},
     "execution_count": 55
    }
   ],
   "metadata": {}
  },
  {
   "cell_type": "code",
   "execution_count": 56,
   "source": [
    "lis[1].select_one('em').string"
   ],
   "outputs": [
    {
     "output_type": "execute_result",
     "data": {
      "text/plain": [
       "'3.4'"
      ]
     },
     "metadata": {},
     "execution_count": 56
    }
   ],
   "metadata": {}
  },
  {
   "cell_type": "code",
   "execution_count": 57,
   "source": [
    "score = li.select_one('em').string\r\n",
    "if score == '평가중':\r\n",
    "    score = '0'"
   ],
   "outputs": [],
   "metadata": {}
  },
  {
   "cell_type": "markdown",
   "source": [
    "- 변경된 방법으로 재시도"
   ],
   "metadata": {}
  },
  {
   "cell_type": "code",
   "execution_count": 59,
   "source": [
    "name_list, score_list, menu_list, tel_list, addr_list = [],[],[],[],[]\r\n",
    "for i, li in enumerate(lis):\r\n",
    "    href = li.select_one('a')['href']\r\n",
    "    name = li.select_one('.store').string\r\n",
    "    score = li.select_one('em').string\r\n",
    "    if score == '평가중':\r\n",
    "        score = '0'\r\n",
    "    munu = li.select_one('.cnt p').get_text()\r\n",
    "\r\n",
    "    url = base_url + href\r\n",
    "    req = requests.get(url)\r\n",
    "    sub_soup = BeautifulSoup(req.text, 'html.parser')\r\n",
    "\r\n",
    "    try:\r\n",
    "        tel = sub_soup.select_one('.p_tel p').get_text()\r\n",
    "        addr = sub_soup.select_one('.txt_adr').string\r\n",
    "\r\n",
    "        name_list.append(name)\r\n",
    "        score_list.append(float(score))\r\n",
    "        menu_list.append(menu)\r\n",
    "        tel_list.append(tel)\r\n",
    "        addr_list.append(addr)\r\n",
    "    except:\r\n",
    "        print(i)"
   ],
   "outputs": [],
   "metadata": {}
  },
  {
   "cell_type": "code",
   "execution_count": 60,
   "source": [
    "df = pd.DataFrame({\r\n",
    "    '식당명':name_list, '평점':score_list, '메뉴':menu_list,\r\n",
    "    '전화번호':tel_list, '주소':addr_list\r\n",
    "})\r\n",
    "df"
   ],
   "outputs": [
    {
     "output_type": "execute_result",
     "data": {
      "text/plain": [
       "             식당명   평점             메뉴          전화번호  \\\n",
       "0     그릭슈바인 양재역점  3.6  세계음식 > 퓨전레스토랑   02-572-6100   \n",
       "1    미스터브리즈 양재역점  3.4  세계음식 > 퓨전레스토랑   02-576-4333   \n",
       "2      동신참치 양재역점  3.0  세계음식 > 퓨전레스토랑   02-529-7130   \n",
       "3       새우닭 양재역점  0.0  세계음식 > 퓨전레스토랑   02-575-6088   \n",
       "4       양재역 옛날짜장  0.0  세계음식 > 퓨전레스토랑  031-503-2550   \n",
       "5       영동족발 3호점  4.1  세계음식 > 퓨전레스토랑   02-575-0250   \n",
       "6            황재벌  3.9  세계음식 > 퓨전레스토랑  02-3471-5454   \n",
       "7   김영모과자점 도곡타워점  4.1  세계음식 > 퓨전레스토랑  02-3460-2005   \n",
       "8         소호정 본점  4.0  세계음식 > 퓨전레스토랑   02-579-7282   \n",
       "9          산동칼국수  3.9  세계음식 > 퓨전레스토랑  02-3473-7972   \n",
       "10        양재정육식당  4.1  세계음식 > 퓨전레스토랑   02-577-5804   \n",
       "11          스타쉐프  3.9  세계음식 > 퓨전레스토랑   02-529-8248   \n",
       "\n",
       "                               주소  \n",
       "0              서울특별시 서초구 강남대로 224  \n",
       "1                서울 서초구 강남대로34길 6  \n",
       "2                 서울 서초구 강남대로 213  \n",
       "3      서울특별시 서초구 남부순환로356길 52  1층  \n",
       "4               경기도 시흥시 공단1대로 13   \n",
       "5         서울특별시 서초구 남부순환로 2628-18  \n",
       "6   서울특별시 서초구 남부순환로347길 42-4 신화빌딩  \n",
       "7      서울특별시 강남구 언주로30길 10 현대비젼21  \n",
       "8                서울특별시 서초구 논현로 27  \n",
       "9            서울특별시 서초구 강남대로37길 63  \n",
       "10               서울 서초구 바우뫼로35길 3  \n",
       "11          서울특별시 강남구 논현로38길 38-6  "
      ],
      "text/html": [
       "<div>\n",
       "<style scoped>\n",
       "    .dataframe tbody tr th:only-of-type {\n",
       "        vertical-align: middle;\n",
       "    }\n",
       "\n",
       "    .dataframe tbody tr th {\n",
       "        vertical-align: top;\n",
       "    }\n",
       "\n",
       "    .dataframe thead th {\n",
       "        text-align: right;\n",
       "    }\n",
       "</style>\n",
       "<table border=\"1\" class=\"dataframe\">\n",
       "  <thead>\n",
       "    <tr style=\"text-align: right;\">\n",
       "      <th></th>\n",
       "      <th>식당명</th>\n",
       "      <th>평점</th>\n",
       "      <th>메뉴</th>\n",
       "      <th>전화번호</th>\n",
       "      <th>주소</th>\n",
       "    </tr>\n",
       "  </thead>\n",
       "  <tbody>\n",
       "    <tr>\n",
       "      <th>0</th>\n",
       "      <td>그릭슈바인 양재역점</td>\n",
       "      <td>3.6</td>\n",
       "      <td>세계음식 &gt; 퓨전레스토랑</td>\n",
       "      <td>02-572-6100</td>\n",
       "      <td>서울특별시 서초구 강남대로 224</td>\n",
       "    </tr>\n",
       "    <tr>\n",
       "      <th>1</th>\n",
       "      <td>미스터브리즈 양재역점</td>\n",
       "      <td>3.4</td>\n",
       "      <td>세계음식 &gt; 퓨전레스토랑</td>\n",
       "      <td>02-576-4333</td>\n",
       "      <td>서울 서초구 강남대로34길 6</td>\n",
       "    </tr>\n",
       "    <tr>\n",
       "      <th>2</th>\n",
       "      <td>동신참치 양재역점</td>\n",
       "      <td>3.0</td>\n",
       "      <td>세계음식 &gt; 퓨전레스토랑</td>\n",
       "      <td>02-529-7130</td>\n",
       "      <td>서울 서초구 강남대로 213</td>\n",
       "    </tr>\n",
       "    <tr>\n",
       "      <th>3</th>\n",
       "      <td>새우닭 양재역점</td>\n",
       "      <td>0.0</td>\n",
       "      <td>세계음식 &gt; 퓨전레스토랑</td>\n",
       "      <td>02-575-6088</td>\n",
       "      <td>서울특별시 서초구 남부순환로356길 52  1층</td>\n",
       "    </tr>\n",
       "    <tr>\n",
       "      <th>4</th>\n",
       "      <td>양재역 옛날짜장</td>\n",
       "      <td>0.0</td>\n",
       "      <td>세계음식 &gt; 퓨전레스토랑</td>\n",
       "      <td>031-503-2550</td>\n",
       "      <td>경기도 시흥시 공단1대로 13</td>\n",
       "    </tr>\n",
       "    <tr>\n",
       "      <th>5</th>\n",
       "      <td>영동족발 3호점</td>\n",
       "      <td>4.1</td>\n",
       "      <td>세계음식 &gt; 퓨전레스토랑</td>\n",
       "      <td>02-575-0250</td>\n",
       "      <td>서울특별시 서초구 남부순환로 2628-18</td>\n",
       "    </tr>\n",
       "    <tr>\n",
       "      <th>6</th>\n",
       "      <td>황재벌</td>\n",
       "      <td>3.9</td>\n",
       "      <td>세계음식 &gt; 퓨전레스토랑</td>\n",
       "      <td>02-3471-5454</td>\n",
       "      <td>서울특별시 서초구 남부순환로347길 42-4 신화빌딩</td>\n",
       "    </tr>\n",
       "    <tr>\n",
       "      <th>7</th>\n",
       "      <td>김영모과자점 도곡타워점</td>\n",
       "      <td>4.1</td>\n",
       "      <td>세계음식 &gt; 퓨전레스토랑</td>\n",
       "      <td>02-3460-2005</td>\n",
       "      <td>서울특별시 강남구 언주로30길 10 현대비젼21</td>\n",
       "    </tr>\n",
       "    <tr>\n",
       "      <th>8</th>\n",
       "      <td>소호정 본점</td>\n",
       "      <td>4.0</td>\n",
       "      <td>세계음식 &gt; 퓨전레스토랑</td>\n",
       "      <td>02-579-7282</td>\n",
       "      <td>서울특별시 서초구 논현로 27</td>\n",
       "    </tr>\n",
       "    <tr>\n",
       "      <th>9</th>\n",
       "      <td>산동칼국수</td>\n",
       "      <td>3.9</td>\n",
       "      <td>세계음식 &gt; 퓨전레스토랑</td>\n",
       "      <td>02-3473-7972</td>\n",
       "      <td>서울특별시 서초구 강남대로37길 63</td>\n",
       "    </tr>\n",
       "    <tr>\n",
       "      <th>10</th>\n",
       "      <td>양재정육식당</td>\n",
       "      <td>4.1</td>\n",
       "      <td>세계음식 &gt; 퓨전레스토랑</td>\n",
       "      <td>02-577-5804</td>\n",
       "      <td>서울 서초구 바우뫼로35길 3</td>\n",
       "    </tr>\n",
       "    <tr>\n",
       "      <th>11</th>\n",
       "      <td>스타쉐프</td>\n",
       "      <td>3.9</td>\n",
       "      <td>세계음식 &gt; 퓨전레스토랑</td>\n",
       "      <td>02-529-8248</td>\n",
       "      <td>서울특별시 강남구 논현로38길 38-6</td>\n",
       "    </tr>\n",
       "  </tbody>\n",
       "</table>\n",
       "</div>"
      ]
     },
     "metadata": {},
     "execution_count": 60
    }
   ],
   "metadata": {}
  }
 ],
 "metadata": {
  "orig_nbformat": 4,
  "language_info": {
   "name": "python",
   "version": "3.8.10",
   "mimetype": "text/x-python",
   "codemirror_mode": {
    "name": "ipython",
    "version": 3
   },
   "pygments_lexer": "ipython3",
   "nbconvert_exporter": "python",
   "file_extension": ".py"
  },
  "kernelspec": {
   "name": "python3",
   "display_name": "Python 3.8.10 64-bit ('base': conda)"
  },
  "interpreter": {
   "hash": "3afaf00aff83f2e8eb9647e300ff648c4cd120434f7e4c9b48fc973ba4a47465"
  }
 },
 "nbformat": 4,
 "nbformat_minor": 2
}