{
 "cells": [
  {
   "cell_type": "markdown",
   "source": [
    "# 식신-양재역으로 검색\r\n",
    "- 명칭, 주요메뉴, 평점, 전화번호, 주소"
   ],
   "metadata": {}
  },
  {
   "cell_type": "code",
   "execution_count": 1,
   "source": [
    "import requests\r\n",
    "import pandas as pd\r\n",
    "from urllib.parse import quote"
   ],
   "outputs": [],
   "metadata": {}
  },
  {
   "cell_type": "markdown",
   "source": [
    "- 데이터 가져오기"
   ],
   "metadata": {}
  },
  {
   "cell_type": "code",
   "execution_count": null,
   "source": [
    "base_url = 'https://www.siksinhot.com'\r\n",
    "url = f'{base_url}/search?keywords={quote(\"양재역\")}'\r\n",
    "req = requests.get(url)\r\n",
    "html = req.text\r\n",
    "html"
   ],
   "outputs": [],
   "metadata": {}
  },
  {
   "cell_type": "code",
   "execution_count": 3,
   "source": [
    "from bs4 import BeautifulSoup\r\n",
    "\r\n",
    "soup = BeautifulSoup(html, 'html.parser')"
   ],
   "outputs": [],
   "metadata": {}
  },
  {
   "cell_type": "markdown",
   "source": [
    "- 찾으려고 하는 데이터의 태그 찾기"
   ],
   "metadata": {}
  },
  {
   "cell_type": "code",
   "execution_count": 4,
   "source": [
    "lis = soup.select('div.listTy1 > ul > li')\r\n",
    "len(lis)"
   ],
   "outputs": [
    {
     "output_type": "execute_result",
     "data": {
      "text/plain": [
       "12"
      ]
     },
     "metadata": {},
     "execution_count": 4
    }
   ],
   "metadata": {}
  },
  {
   "cell_type": "markdown",
   "source": [
    "- 여러개의 데이터중 하나를 선택해서 원하는 정보 추출"
   ],
   "metadata": {}
  },
  {
   "cell_type": "code",
   "execution_count": 5,
   "source": [
    "li = lis[0]\r\n",
    "href = li.select_one('a')['href']\r\n",
    "href"
   ],
   "outputs": [
    {
     "output_type": "execute_result",
     "data": {
      "text/plain": [
       "'/P/358859'"
      ]
     },
     "metadata": {},
     "execution_count": 5
    }
   ],
   "metadata": {}
  },
  {
   "cell_type": "code",
   "execution_count": 6,
   "source": [
    "url = base_url + href\r\n",
    "req = requests.get(url)\r\n",
    "sub_soup = BeautifulSoup(req.text, 'html.parser')\r\n",
    "url"
   ],
   "outputs": [
    {
     "output_type": "execute_result",
     "data": {
      "text/plain": [
       "'https://www.siksinhot.com/P/358859'"
      ]
     },
     "metadata": {},
     "execution_count": 6
    }
   ],
   "metadata": {}
  },
  {
   "cell_type": "code",
   "execution_count": 7,
   "source": [
    "store = sub_soup.select_one('.title')\r\n",
    "info = store.find('h3').get_text()         # h3 밑에 있는 모든 텍스트 출력\r\n",
    "info"
   ],
   "outputs": [
    {
     "output_type": "execute_result",
     "data": {
      "text/plain": [
       "'그릭슈바인 양재역점3.6HOT'"
      ]
     },
     "metadata": {},
     "execution_count": 7
    }
   ],
   "metadata": {}
  },
  {
   "cell_type": "code",
   "execution_count": 8,
   "source": [
    "score =store.select_one('h3 > strong').string       # h3 밑에 있는 strong만 출력\r\n",
    "score"
   ],
   "outputs": [
    {
     "output_type": "execute_result",
     "data": {
      "text/plain": [
       "'3.6'"
      ]
     },
     "metadata": {},
     "execution_count": 8
    }
   ],
   "metadata": {}
  },
  {
   "cell_type": "code",
   "execution_count": 9,
   "source": [
    "info.find('그')            # info 문자열에서 score 위치(인덱스)를 알아내는 메서드"
   ],
   "outputs": [
    {
     "output_type": "execute_result",
     "data": {
      "text/plain": [
       "0"
      ]
     },
     "metadata": {},
     "execution_count": 9
    }
   ],
   "metadata": {}
  },
  {
   "cell_type": "code",
   "execution_count": 10,
   "source": [
    "name = info[:info.find(score)]  # score 문자열의 3.6 앞 출력\r\n",
    "name"
   ],
   "outputs": [
    {
     "output_type": "execute_result",
     "data": {
      "text/plain": [
       "'그릭슈바인 양재역점'"
      ]
     },
     "metadata": {},
     "execution_count": 10
    }
   ],
   "metadata": {}
  },
  {
   "cell_type": "code",
   "execution_count": 11,
   "source": [
    "# contents > div > div > div.content > div.sec_left > div > div:nth-child(1) > div:nth-child(1) > p\r\n",
    "menu = sub_soup.select('.store_info p')[1].get_text()\r\n",
    "menu"
   ],
   "outputs": [
    {
     "output_type": "execute_result",
     "data": {
      "text/plain": [
       "'나이트라이프 > 맥주/호프'"
      ]
     },
     "metadata": {},
     "execution_count": 11
    }
   ],
   "metadata": {}
  },
  {
   "cell_type": "code",
   "execution_count": 12,
   "source": [
    "tel = sub_soup.select_one('.p_tel p').get_text()\r\n",
    "tel"
   ],
   "outputs": [
    {
     "output_type": "execute_result",
     "data": {
      "text/plain": [
       "'02-572-6100'"
      ]
     },
     "metadata": {},
     "execution_count": 12
    }
   ],
   "metadata": {}
  },
  {
   "cell_type": "code",
   "execution_count": 13,
   "source": [
    "addr = sub_soup.select_one('.txt_adr').string\r\n",
    "addr"
   ],
   "outputs": [
    {
     "output_type": "execute_result",
     "data": {
      "text/plain": [
       "'서울특별시 서초구 강남대로 224'"
      ]
     },
     "metadata": {},
     "execution_count": 13
    }
   ],
   "metadata": {}
  },
  {
   "cell_type": "markdown",
   "source": [
    "- 한 페이지에 있는 모든 데이터를 반복문으로 가져오기"
   ],
   "metadata": {}
  },
  {
   "cell_type": "code",
   "execution_count": 16,
   "source": [
    "li"
   ],
   "outputs": [
    {
     "output_type": "execute_result",
     "data": {
      "text/plain": [
       "<li data-reactid=\"132\"><div class=\"cont\" data-reactid=\"133\"><a data-reactid=\"134\" href=\"/P/251368\"><span class=\"img\" data-reactid=\"135\"><img data-reactid=\"136\" height=\"224\" src=\"https://img.siksinhot.com/place/1464240995725023.jpg?w=280&amp;h=224&amp;c=Y\" width=\"280\"/></span><div class=\"cnt\" data-reactid=\"137\"><em class=\"score\" data-reactid=\"138\">3.4</em><div class=\"box_tit\" data-reactid=\"139\"><strong class=\"store\" data-reactid=\"140\">미스터브리즈 양재역점</strong><div class=\"ico_right\" data-reactid=\"141\"></div></div><ul data-reactid=\"142\"><li data-reactid=\"143\">양재/도곡</li></ul><p data-reactid=\"144\"><!-- react-text: 145 -->아메리카노<!-- /react-text --><!-- react-text: 146 -->, 허니버터브레드<!-- /react-text --><!-- react-text: 147 -->, 와플<!-- /react-text --></p><ul class=\"state_ul\" data-reactid=\"148\"><li class=\"ico_st01\" data-reactid=\"149\"><p data-reactid=\"150\">5146</p></li><li class=\"ico_st02\" data-reactid=\"151\"><p data-reactid=\"152\">6</p></li><li class=\"ico_st03\" data-reactid=\"153\"><p data-reactid=\"154\">58</p></li></ul></div></a></div></li>"
      ]
     },
     "metadata": {},
     "execution_count": 16
    }
   ],
   "metadata": {}
  },
  {
   "cell_type": "code",
   "execution_count": 17,
   "source": [
    "name_list, score_list, menu_list, tel_list, addr_list = [],[],[],[],[]\r\n",
    "for i, li in enumerate(lis):\r\n",
    "    href = li.select_one('a')['href']\r\n",
    "    url = base_url + href\r\n",
    "    req = requests.get(url)\r\n",
    "    sub_soup = BeautifulSoup(req.text, 'html.parser')\r\n",
    "\r\n",
    "    try:\r\n",
    "        store = sub_soup.select_one('.title')\r\n",
    "        info = store.find('h3').get_text()\r\n",
    "        score = store.select_one('h3 > strong').string\r\n",
    "        name = info[:info.find(score)]\r\n",
    "        menu = sub_soup.select('.store_info p')[1].get_text()\r\n",
    "        tel = sub_soup.select_one('.p_tel p').get_text()\r\n",
    "        addr = sub_soup.select_one('.txt_adr').string\r\n",
    "\r\n",
    "        name_list.append(name)\r\n",
    "        score_list.append(float(score))\r\n",
    "        menu_list.append(menu)\r\n",
    "        tel_list.append(tel)\r\n",
    "        addr_list.append(addr)\r\n",
    "    except:\r\n",
    "        print(i)"
   ],
   "outputs": [
    {
     "output_type": "stream",
     "name": "stdout",
     "text": [
      "3\n",
      "4\n"
     ]
    }
   ],
   "metadata": {}
  },
  {
   "cell_type": "code",
   "execution_count": null,
   "source": [],
   "outputs": [],
   "metadata": {}
  }
 ],
 "metadata": {
  "orig_nbformat": 4,
  "language_info": {
   "name": "python",
   "version": "3.8.10",
   "mimetype": "text/x-python",
   "codemirror_mode": {
    "name": "ipython",
    "version": 3
   },
   "pygments_lexer": "ipython3",
   "nbconvert_exporter": "python",
   "file_extension": ".py"
  },
  "kernelspec": {
   "name": "python3",
   "display_name": "Python 3.8.10 64-bit ('base': conda)"
  },
  "interpreter": {
   "hash": "3afaf00aff83f2e8eb9647e300ff648c4cd120434f7e4c9b48fc973ba4a47465"
  }
 },
 "nbformat": 4,
 "nbformat_minor": 2
}