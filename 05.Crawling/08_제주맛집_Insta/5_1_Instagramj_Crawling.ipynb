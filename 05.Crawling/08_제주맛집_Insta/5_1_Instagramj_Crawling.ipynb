{
 "cells": [
  {
   "cell_type": "markdown",
   "source": [
    "# 5.1 인스타그램 크롤링"
   ],
   "metadata": {}
  },
  {
   "cell_type": "markdown",
   "source": [
    "## 5.1.2 인스타그램 접속 후 로그인하기"
   ],
   "metadata": {}
  },
  {
   "cell_type": "code",
   "execution_count": 1,
   "source": [
    "# 예제 5-1 chromedriver 열기\r\n",
    "from selenium import webdriver\r\n",
    "\r\n",
    "driver = webdriver.Chrome('C:\\workspace\\chromedriver\\chromedriver.exe')"
   ],
   "outputs": [],
   "metadata": {}
  },
  {
   "cell_type": "markdown",
   "source": [
    "- 안내사항\r\n",
    "\r\n",
    "로그인을 해야만 게시물을 볼 수 있도록 인스타그램 운영 정책이 변경되었습니다(2020.04.27)\r\n",
    "인스타그램 로그인을 하는 코드를 추가하였습니다.\r\n",
    "직접 브라우저에 계정 정보를 입력해도 되고, 코드를 이용해도 됩니다.\r\n",
    "다만, 본인의 계정/비번 정보가 외부에 노출되지 않도록 주의하시기 바랍니다.\r\n",
    "\r\n",
    "※ 주의) 인스타 로그인을 위해 계정 아이디 / 비번 입력이 필요합니다"
   ],
   "metadata": {}
  },
  {
   "cell_type": "code",
   "execution_count": 2,
   "source": [
    "# 예제 5-2 인스타그램 접속하기\r\n",
    "import time\r\n",
    "\r\n",
    "#인스타그램 접속하기\r\n",
    "driver.get('https://www.instagram.com')\r\n",
    "time.sleep(2)"
   ],
   "outputs": [],
   "metadata": {}
  },
  {
   "cell_type": "markdown",
   "source": [
    "\r\n",
    "※ 로그인 페이지로 접속이 되지 않고 오류 화면이 보일 경우 아래 링크를 참고하세요\r\n",
    "\r\n",
    "[https://www.notion.so/playwithdata/c02e510507504b42ae6073c1fbb46f29](https://www.notion.so/playwithdata/c02e510507504b42ae6073c1fbb46f29)"
   ],
   "metadata": {}
  },
  {
   "cell_type": "code",
   "execution_count": 3,
   "source": [
    "with open('password.txt') as fp:\r\n",
    "    password = fp.read()"
   ],
   "outputs": [],
   "metadata": {}
  },
  {
   "cell_type": "code",
   "execution_count": 4,
   "source": [
    "# 예제 5-3 인스타계정으로 로그인하기\r\n",
    "\r\n",
    "email = 'dlgkstoa123@paran.com'\r\n",
    "input_id = driver.find_elements_by_css_selector('input._2hvTZ.pexuQ.zyHYP')[0]\r\n",
    "input_id.clear()\r\n",
    "input_id.send_keys(email)\r\n",
    "\r\n",
    "input_pw = driver.find_elements_by_css_selector('input._2hvTZ.pexuQ.zyHYP')[1]\r\n",
    "input_pw.clear()\r\n",
    "input_pw.send_keys(password)\r\n",
    "input_pw.submit()\r\n",
    "time.sleep(3)"
   ],
   "outputs": [],
   "metadata": {}
  },
  {
   "cell_type": "code",
   "execution_count": 5,
   "source": [
    "try:\r\n",
    "    driver.find_element_by_css_selector('.sqdOP.yWX7d.y3zKF').click()\r\n",
    "    time.sleep(1)\r\n",
    "    driver.find_element_by_css_selector('.aOOlW.HoLwm').click()\r\n",
    "    #time.sleep(1)\r\n",
    "    #driver.find_element_by_css_selector('.aOOlW.HoLwm').click()\r\n",
    "except:\r\n",
    "    pass"
   ],
   "outputs": [],
   "metadata": {}
  },
  {
   "cell_type": "markdown",
   "source": [
    "위 코드 실행후 인스타그램 로그인이 완료되어야 합니다.\r\n",
    "\r\n",
    "추가로, 2단계 인증이 필요하다고 나올 경우 인증까지 완료해주세요.\r\n",
    "\r\n",
    "인스타계정이 아닌 페이스북계정으로 로그인이 필요하거나 코드에 아이디/비번 입력하는 것이 부담되는 분은\r\n",
    "\r\n",
    "수기로 직접 입력해서 로그인까지 완료하시면 됩니다."
   ],
   "metadata": {}
  },
  {
   "cell_type": "markdown",
   "source": [
    "## 5.1.3 인스타그램 검색결과 URL 만들어서 접속하기"
   ],
   "metadata": {}
  },
  {
   "cell_type": "code",
   "execution_count": 42,
   "source": [
    "# 예제 5-4 검색결과 URL 만드는 함수\r\n",
    "def insta_searching(word):\r\n",
    "\r\n",
    "    url = 'https://www.instagram.com/explore/tags/' + word\r\n",
    "    return url"
   ],
   "outputs": [],
   "metadata": {}
  },
  {
   "cell_type": "code",
   "execution_count": 51,
   "source": [
    "# 예제 5-5 검색결과 페이지 접속하기\r\n",
    "word = \"제주도맛집\"\r\n",
    "url = insta_searching(word)\r\n",
    "driver.get(url)"
   ],
   "outputs": [],
   "metadata": {}
  },
  {
   "cell_type": "markdown",
   "source": [
    "## 5.1.4 첫 번째 게시글 열기"
   ],
   "metadata": {}
  },
  {
   "cell_type": "code",
   "execution_count": 52,
   "source": [
    "# 예제 5-6 HTML에서 첫번째 게시글 찾아 클릭하기\r\n",
    "def select_first(dirver):\r\n",
    "    first = driver.find_element_by_css_selector(\"div._9AhH0\")\r\n",
    "    first.click()\r\n",
    "    time.sleep(3)\r\n",
    "\r\n",
    "select_first(driver)"
   ],
   "outputs": [],
   "metadata": {}
  },
  {
   "cell_type": "markdown",
   "source": [
    "## 5.1.5 게시글 정보 가져오기"
   ],
   "metadata": {}
  },
  {
   "cell_type": "code",
   "execution_count": 54,
   "source": [
    "# 위의 코드를 실행해야 실행됨 (첫번째 게시글의 정보를 가져오는 것)\r\n",
    "# 예제 5-7 게시글 정보 가져오기\r\n",
    "import re\r\n",
    "from bs4 import BeautifulSoup\r\n",
    "import unicodedata\r\n",
    "\r\n",
    "def get_content(driver):\r\n",
    "    # ① 현재 페이지 html 정보 가져오기\r\n",
    "    html = driver.page_source\r\n",
    "    soup = BeautifulSoup(html, 'html.parser')\r\n",
    "    # ② 본문 내용 가져오기\r\n",
    "    try:\r\n",
    "        content = soup.select('div.C4VMK > span')[0].text\r\n",
    "        content = unicodedata.normalize('NFC', content) \r\n",
    "    except:\r\n",
    "        content = ' '\r\n",
    "    # ③ 본문 내용에서 해시태그 가져오기(정규식 활용)\r\n",
    "    tags = re.findall(r'#[^\\s#,\\\\]+', content)  \r\n",
    "    # ④ 작성일자 정보 가져오기\r\n",
    "    date = soup.select('time._1o9PC.Nzb55')[0]['datetime'][:10]\r\n",
    "    # ⑤ 좋아요 수 가져오기\r\n",
    "    try:\r\n",
    "        like = soup.select('div.Nm9Fw > button')[0].text[4:-1]   \r\n",
    "    except:\r\n",
    "        like = 0\r\n",
    "    # ⑥ 위치정보 가져오기\r\n",
    "    try: \r\n",
    "        place = soup.select('div.M30cS')[0].text\r\n",
    "        place = unicodedata.normalize('NFC', place)\r\n",
    "    except:\r\n",
    "        place = ''\r\n",
    "    # ⑦ 수집한 정보 저장하기\r\n",
    "    data = [content, date, like, place, tags]\r\n",
    "    return data\r\n",
    "\r\n",
    "get_content(driver)"
   ],
   "outputs": [
    {
     "output_type": "execute_result",
     "data": {
      "text/plain": [
       "['.제주 #김밥맛집제주여행 준비중인 김밥킬러들 주목!🥰제주에서 맛있다는 김밥맛집 모음준비해짜나~다음 제주여행시 참고하기 :)@김밥킬러들 소환~..#제주맛집 #제주도맛집 #제주공항근처맛집 #제주시맛집 #애월맛집 #중문맛집 #제주공항맛집 #서귀포맛집 #산방산맛집 #신제주맛집 #제주시청맛집 #제주애월맛집 #월정리맛집 #제주여행 #제주핫플',\n",
       " '2021-08-21',\n",
       " 0,\n",
       " '',\n",
       " ['#김밥맛집제주여행',\n",
       "  '#제주맛집',\n",
       "  '#제주도맛집',\n",
       "  '#제주공항근처맛집',\n",
       "  '#제주시맛집',\n",
       "  '#애월맛집',\n",
       "  '#중문맛집',\n",
       "  '#제주공항맛집',\n",
       "  '#서귀포맛집',\n",
       "  '#산방산맛집',\n",
       "  '#신제주맛집',\n",
       "  '#제주시청맛집',\n",
       "  '#제주애월맛집',\n",
       "  '#월정리맛집',\n",
       "  '#제주여행',\n",
       "  '#제주핫플']]"
      ]
     },
     "metadata": {},
     "execution_count": 54
    }
   ],
   "metadata": {}
  },
  {
   "cell_type": "markdown",
   "source": [
    "## 5.1.6 다음 게시글 열기"
   ],
   "metadata": {}
  },
  {
   "cell_type": "code",
   "execution_count": 55,
   "source": [
    "# 예제 5-8 다음 게시글 열기\r\n",
    "def move_next(driver):\r\n",
    "\r\n",
    "    right = driver.find_element_by_css_selector('a.coreSpriteRightPaginationArrow')\r\n",
    "    right.click()\r\n",
    "    time.sleep(3)\r\n",
    "\r\n",
    "move_next(driver)"
   ],
   "outputs": [],
   "metadata": {}
  },
  {
   "cell_type": "code",
   "execution_count": 48,
   "source": [
    "driver.find_element_by_css_selector('button.wpO6b').click()"
   ],
   "outputs": [],
   "metadata": {}
  },
  {
   "cell_type": "markdown",
   "source": [
    "## 5.1.7 여러 게시글 정보 수집하기"
   ],
   "metadata": {}
  },
  {
   "cell_type": "code",
   "execution_count": 56,
   "source": [
    "# 예제 5-10 인스타그램 크롤링 2\r\n",
    "# 2 인스타그램 검색페이지 URL 만들기\r\n",
    "word = \"제주도맛집\"     # 검색어\r\n",
    "url = insta_searching(word)\r\n",
    "\r\n",
    "# 3 검색페이지 접속하기\r\n",
    "driver.get(url)\r\n",
    "time.sleep(5)\r\n",
    "\r\n",
    "# 4 첫 번쨰 게시글 열기\r\n",
    "select_first(driver)"
   ],
   "outputs": [],
   "metadata": {}
  },
  {
   "cell_type": "code",
   "execution_count": 60,
   "source": [
    "# ⑤ 비어있는 변수(results)만들기\r\n",
    "results = [ ]\r\n",
    "\r\n",
    "# ⑥→⑦→⑧ 여러 게시물 수집하기\r\n",
    "target = 2      # 크롤링할 게시글 수\r\n",
    "for i in range(target):\r\n",
    "    # 게시글 수집에 오류 발생시(네트워크 문제 등의 이유로)  2초 대기 후, 다음 게시글로 넘어가도록 try, except 구문 활용\r\n",
    "    try:\r\n",
    "        data = get_content(driver)    # 게시글 정보 가져오기\r\n",
    "        results.append(data)\r\n",
    "        move_next(driver)\r\n",
    "    except:\r\n",
    "        time.sleep(3)\r\n",
    "        move_next(driver)\r\n",
    "    \r\n",
    "\r\n",
    "print(results[:2])"
   ],
   "outputs": [
    {
     "output_type": "stream",
     "name": "stdout",
     "text": [
      "[['협찬제주썬셋맛집 \"랍스터빈\"주소 : 제주시 애월읍 애월해안로 752전화 : 064-743-1979영업 : 오전11시~밤10시포장ㆍ배달 환영💘 랍스터빈#애월맛집 #애월카페 #애월읍맛집 #제주애월맛집 #제주도맛집 #제주맛집 #제주도카페 #제주카페 #외도맛집 #하귀맛집 #한림맛집 #한림카페#애월해안도로맛집 #애월가볼만한곳 #제주공항맛집 #제주공항근처맛집 #제주도 #제주여행', '2021-08-20', 0, '', ['#애월맛집', '#애월카페', '#애월읍맛집', '#제주애월맛집', '#제주도맛집', '#제주맛집', '#제주도카페', '#제주카페', '#외도맛집', '#하귀맛집', '#한림맛집', '#한림카페', '#애월해안도로맛집', '#애월가볼만한곳', '#제주공항맛집', '#제주공항근처맛집', '#제주도', '#제주여행']], ['#한라산아래첫마을 제주 서귀포시 안덕면 산록남로 675국내에선 제주가 최대 메밀 산지라고 하죠.그 제주도에서 메밀면으론 최고라고 인정해 주고 싶은 곳 소개 드려요👍물메밀면, 비빔메밀면도 있지만 최근에 유행하는 들기름비빔면을 소개 드릴께요.- 제주메밀 비비작작면 1만원일반 적인 들기름 막국수보다는 들기름이 과하지 않지만 들깨나 김가루가 많아서 훌륭한 메밀면 자체를 즐기는데 방해가 되서 저는 주문시 들깨와 김가루를 따로 달라고 해서  최소량만 넣고 최대한 메밀면의 우수함을 느끼며 즐겨요.같이 주시는 양념을 넣으면 간이 좀 더 있어지는데 전 그낭 슴슴한게 좋아서 넣지 않고 즐겨요.이곳의 면이 마음에 드는건 일본 소바의 스티키함을 따라하지도 않으면서 적당한 부드러움을 갖춘 가는 굵기의 메밀면으로 퀄리티는 국내에서 최상위권이라고 생각되요.👏👏식사후 제주의 자연을 느끼며 가볍게 휴식을 취할수 있는 테라스가 있어서👍#포도냐제주도#제주도막국수#제주도여행#제주도맛집#포도냐제주도#포도냐막국수#포도냐메밀국수#제주도맛집#서귀포맛집#키겐#제주메밀#푸드파이터#먹스타그램#백반기행', '2021-08-20', 0, '한라산아래첫마을', ['#한라산아래첫마을', '#포도냐제주도', '#제주도막국수', '#제주도여행', '#제주도맛집', '#포도냐제주도', '#포도냐막국수', '#포도냐메밀국수', '#제주도맛집', '#서귀포맛집', '#키겐', '#제주메밀', '#푸드파이터', '#먹스타그램', '#백반기행']]]\n"
     ]
    }
   ],
   "metadata": {}
  },
  {
   "cell_type": "code",
   "execution_count": 62,
   "source": [
    "# 예제 5-11 크롤링 결과 저장하기\r\n",
    "\r\n",
    "import pandas as pd\r\n",
    "\r\n",
    "results_df = pd.DataFrame(results)\r\n",
    "results_df.columns = ['content','data','like','place','tags']\r\n",
    "results_df.to_csv('제주도맛집.csv', index=False)"
   ],
   "outputs": [],
   "metadata": {}
  },
  {
   "cell_type": "code",
   "execution_count": 63,
   "source": [
    "results_df.head()"
   ],
   "outputs": [
    {
     "output_type": "execute_result",
     "data": {
      "text/plain": [
       "                                             content        data  like  \\\n",
       "0  협찬제주썬셋맛집 \"랍스터빈\"주소 : 제주시 애월읍 애월해안로 752전화 : 064-...  2021-08-20     0   \n",
       "1  #한라산아래첫마을 제주 서귀포시 안덕면 산록남로 675국내에선 제주가 최대 메밀 산...  2021-08-20     0   \n",
       "\n",
       "      place                                               tags  \n",
       "0            [#애월맛집, #애월카페, #애월읍맛집, #제주애월맛집, #제주도맛집, #제주맛집,...  \n",
       "1  한라산아래첫마을  [#한라산아래첫마을, #포도냐제주도, #제주도막국수, #제주도여행, #제주도맛집, ...  "
      ],
      "text/html": [
       "<div>\n",
       "<style scoped>\n",
       "    .dataframe tbody tr th:only-of-type {\n",
       "        vertical-align: middle;\n",
       "    }\n",
       "\n",
       "    .dataframe tbody tr th {\n",
       "        vertical-align: top;\n",
       "    }\n",
       "\n",
       "    .dataframe thead th {\n",
       "        text-align: right;\n",
       "    }\n",
       "</style>\n",
       "<table border=\"1\" class=\"dataframe\">\n",
       "  <thead>\n",
       "    <tr style=\"text-align: right;\">\n",
       "      <th></th>\n",
       "      <th>content</th>\n",
       "      <th>data</th>\n",
       "      <th>like</th>\n",
       "      <th>place</th>\n",
       "      <th>tags</th>\n",
       "    </tr>\n",
       "  </thead>\n",
       "  <tbody>\n",
       "    <tr>\n",
       "      <th>0</th>\n",
       "      <td>협찬제주썬셋맛집 \"랍스터빈\"주소 : 제주시 애월읍 애월해안로 752전화 : 064-...</td>\n",
       "      <td>2021-08-20</td>\n",
       "      <td>0</td>\n",
       "      <td></td>\n",
       "      <td>[#애월맛집, #애월카페, #애월읍맛집, #제주애월맛집, #제주도맛집, #제주맛집,...</td>\n",
       "    </tr>\n",
       "    <tr>\n",
       "      <th>1</th>\n",
       "      <td>#한라산아래첫마을 제주 서귀포시 안덕면 산록남로 675국내에선 제주가 최대 메밀 산...</td>\n",
       "      <td>2021-08-20</td>\n",
       "      <td>0</td>\n",
       "      <td>한라산아래첫마을</td>\n",
       "      <td>[#한라산아래첫마을, #포도냐제주도, #제주도막국수, #제주도여행, #제주도맛집, ...</td>\n",
       "    </tr>\n",
       "  </tbody>\n",
       "</table>\n",
       "</div>"
      ]
     },
     "metadata": {},
     "execution_count": 63
    }
   ],
   "metadata": {}
  },
  {
   "cell_type": "markdown",
   "source": [
    "## 5.1.8 여러 엑셀 파일의 중복을 제거한 후 통합 저장\r\n",
    "- 제주도맛집, 제주도관광, 제주맛집, 제주여행으로 검색"
   ],
   "metadata": {}
  },
  {
   "cell_type": "code",
   "execution_count": 64,
   "source": [
    "# 예제 5-12 여러 개의 저장파일 통합하기\r\n",
    "jeju_insta_df = pd.DataFrame([])\r\n",
    "\r\n",
    "folder = './files/'\r\n",
    "f_list = ['1_crawling_jejudoMatJip.xlsx', '1_crawling_jejudoGwanGwang.xlsx', '1_crawling_jejuMatJip.xlsx', '1_crawling_jejuYeoHang.xlsx']\r\n",
    "for fname in f_list:\r\n",
    "    fpath = folder + fname\r\n",
    "    temp = pd.read_excel(fpath)\r\n",
    "    jeju_insta_df = jeju_insta_df.append(temp)\r\n",
    "\r\n",
    "jeju_insta_df.columns = ['content','data','like','place','tags']"
   ],
   "outputs": [],
   "metadata": {}
  },
  {
   "cell_type": "code",
   "execution_count": 66,
   "source": [
    "# 예제 5-13 중복 데이터 제거하고 저장하기\r\n",
    "jeju_insta_df.drop_duplicates(subset = [\"content\"], inplace = True)\r\n",
    "#jeju_insta_df.to_excel('./files/1_crawling_raw.xlsx', index = False)\r\n",
    "jeju_insta_df.to_csv('제주맛집.csv', index=False)"
   ],
   "outputs": [],
   "metadata": {}
  },
  {
   "cell_type": "code",
   "execution_count": 67,
   "source": [
    "jeju_insta_df.head()"
   ],
   "outputs": [
    {
     "output_type": "execute_result",
     "data": {
      "text/plain": [
       "                                             content        data like   place  \\\n",
       "0  제주도 도착~~공항근처 #제주분식 에서 먹은 첫식사만족만족!#제주맛집#제주도맛집#제...  2019-01-01  705     NaN   \n",
       "1  ﻿#함덕맛집 무거버거 바다 보면서 먹으니까 더 꿀맛👍🏻 #제주도카페투어#제주일상#함...  2019-01-01  384     NaN   \n",
       "2  .대만족 제주스!.#동문시장#제주동문시장#제주도기념품#제주기념품#제주스는완벽#제주도...  2019-01-01  595     NaN   \n",
       "3  #제주여행#2일차무거버거 제주와서 먹은것중에 제일 맛있었음!#제주도여행#제주맛집#함...  2019-01-01  412     NaN   \n",
       "4  🥇1월 영업 안내🥇-1월 2일, 3일(수,목)은 쉬어갑니다-1월 4일,5일,6일(금...  2019-01-01  364  로타리과자점   \n",
       "\n",
       "                                                tags  \n",
       "0  ['#제주분식', '#제주맛집', '#제주도맛집', '#제주맛집추천', '#제주도맛...  \n",
       "1  ['#함덕맛집', '#제주도카페투어', '#제주일상', '#함덕', '#jejudo...  \n",
       "2  ['#동문시장', '#제주동문시장', '#제주도기념품', '#제주기념품', '#제주...  \n",
       "3  ['#제주여행', '#2일차무거버거', '#제주도여행', '#제주맛집', '#함덕맛...  \n",
       "4                                                 []  "
      ],
      "text/html": [
       "<div>\n",
       "<style scoped>\n",
       "    .dataframe tbody tr th:only-of-type {\n",
       "        vertical-align: middle;\n",
       "    }\n",
       "\n",
       "    .dataframe tbody tr th {\n",
       "        vertical-align: top;\n",
       "    }\n",
       "\n",
       "    .dataframe thead th {\n",
       "        text-align: right;\n",
       "    }\n",
       "</style>\n",
       "<table border=\"1\" class=\"dataframe\">\n",
       "  <thead>\n",
       "    <tr style=\"text-align: right;\">\n",
       "      <th></th>\n",
       "      <th>content</th>\n",
       "      <th>data</th>\n",
       "      <th>like</th>\n",
       "      <th>place</th>\n",
       "      <th>tags</th>\n",
       "    </tr>\n",
       "  </thead>\n",
       "  <tbody>\n",
       "    <tr>\n",
       "      <th>0</th>\n",
       "      <td>제주도 도착~~공항근처 #제주분식 에서 먹은 첫식사만족만족!#제주맛집#제주도맛집#제...</td>\n",
       "      <td>2019-01-01</td>\n",
       "      <td>705</td>\n",
       "      <td>NaN</td>\n",
       "      <td>['#제주분식', '#제주맛집', '#제주도맛집', '#제주맛집추천', '#제주도맛...</td>\n",
       "    </tr>\n",
       "    <tr>\n",
       "      <th>1</th>\n",
       "      <td>﻿#함덕맛집 무거버거 바다 보면서 먹으니까 더 꿀맛👍🏻 #제주도카페투어#제주일상#함...</td>\n",
       "      <td>2019-01-01</td>\n",
       "      <td>384</td>\n",
       "      <td>NaN</td>\n",
       "      <td>['#함덕맛집', '#제주도카페투어', '#제주일상', '#함덕', '#jejudo...</td>\n",
       "    </tr>\n",
       "    <tr>\n",
       "      <th>2</th>\n",
       "      <td>.대만족 제주스!.#동문시장#제주동문시장#제주도기념품#제주기념품#제주스는완벽#제주도...</td>\n",
       "      <td>2019-01-01</td>\n",
       "      <td>595</td>\n",
       "      <td>NaN</td>\n",
       "      <td>['#동문시장', '#제주동문시장', '#제주도기념품', '#제주기념품', '#제주...</td>\n",
       "    </tr>\n",
       "    <tr>\n",
       "      <th>3</th>\n",
       "      <td>#제주여행#2일차무거버거 제주와서 먹은것중에 제일 맛있었음!#제주도여행#제주맛집#함...</td>\n",
       "      <td>2019-01-01</td>\n",
       "      <td>412</td>\n",
       "      <td>NaN</td>\n",
       "      <td>['#제주여행', '#2일차무거버거', '#제주도여행', '#제주맛집', '#함덕맛...</td>\n",
       "    </tr>\n",
       "    <tr>\n",
       "      <th>4</th>\n",
       "      <td>🥇1월 영업 안내🥇-1월 2일, 3일(수,목)은 쉬어갑니다-1월 4일,5일,6일(금...</td>\n",
       "      <td>2019-01-01</td>\n",
       "      <td>364</td>\n",
       "      <td>로타리과자점</td>\n",
       "      <td>[]</td>\n",
       "    </tr>\n",
       "  </tbody>\n",
       "</table>\n",
       "</div>"
      ]
     },
     "metadata": {},
     "execution_count": 67
    }
   ],
   "metadata": {}
  },
  {
   "cell_type": "code",
   "execution_count": 68,
   "source": [
    "jeju_insta_df.tail()"
   ],
   "outputs": [
    {
     "output_type": "execute_result",
     "data": {
      "text/plain": [
       "                                                content        data like  \\\n",
       "1702  Now it's purple😆💜수색 넘 이쀼리 🤭 올해는 아퓨지말구 즐거운 일만 가...  2019-01-01   42   \n",
       "1703  .간다간다간다#제주 #친정여행 #겨울방학 #제주여행앞머리는 괜히 전날 잘라서 또순이...  2019-01-01   50   \n",
       "1705  2019년 모두 복 많이많이 받고 풍요로운 한해 보내길 ♥️#사진좀찍으시는님덕에건져...  2019-01-01   68   \n",
       "1706  2018.12.25 ⠀룸에 의자가 두개 밖에 없어서 ⠀이현이는 유모차에 앉아서 식사...  2019-01-01   70   \n",
       "1707  .2019년 첫날디스이즈핫에서 새해를 맞이하시는 손님들께 떡국을 준비했습니다.한 해...  2019-01-01   48   \n",
       "\n",
       "      place                                               tags  \n",
       "1702    NaN  ['#일상', '#구기자', '#티타임', '#2019', '#새해', '#차스타그...  \n",
       "1703    NaN  ['#제주', '#친정여행', '#겨울방학', '#제주여행앞머리는', '#친정찬스'...  \n",
       "1705   Jeju                         ['#사진좀찍으시는님덕에건져또', '#이순간']  \n",
       "1706    NaN                                                 []  \n",
       "1707  디스이즈핫                          ['#HappyNewYearEveryone']  "
      ],
      "text/html": [
       "<div>\n",
       "<style scoped>\n",
       "    .dataframe tbody tr th:only-of-type {\n",
       "        vertical-align: middle;\n",
       "    }\n",
       "\n",
       "    .dataframe tbody tr th {\n",
       "        vertical-align: top;\n",
       "    }\n",
       "\n",
       "    .dataframe thead th {\n",
       "        text-align: right;\n",
       "    }\n",
       "</style>\n",
       "<table border=\"1\" class=\"dataframe\">\n",
       "  <thead>\n",
       "    <tr style=\"text-align: right;\">\n",
       "      <th></th>\n",
       "      <th>content</th>\n",
       "      <th>data</th>\n",
       "      <th>like</th>\n",
       "      <th>place</th>\n",
       "      <th>tags</th>\n",
       "    </tr>\n",
       "  </thead>\n",
       "  <tbody>\n",
       "    <tr>\n",
       "      <th>1702</th>\n",
       "      <td>Now it's purple😆💜수색 넘 이쀼리 🤭 올해는 아퓨지말구 즐거운 일만 가...</td>\n",
       "      <td>2019-01-01</td>\n",
       "      <td>42</td>\n",
       "      <td>NaN</td>\n",
       "      <td>['#일상', '#구기자', '#티타임', '#2019', '#새해', '#차스타그...</td>\n",
       "    </tr>\n",
       "    <tr>\n",
       "      <th>1703</th>\n",
       "      <td>.간다간다간다#제주 #친정여행 #겨울방학 #제주여행앞머리는 괜히 전날 잘라서 또순이...</td>\n",
       "      <td>2019-01-01</td>\n",
       "      <td>50</td>\n",
       "      <td>NaN</td>\n",
       "      <td>['#제주', '#친정여행', '#겨울방학', '#제주여행앞머리는', '#친정찬스'...</td>\n",
       "    </tr>\n",
       "    <tr>\n",
       "      <th>1705</th>\n",
       "      <td>2019년 모두 복 많이많이 받고 풍요로운 한해 보내길 ♥️#사진좀찍으시는님덕에건져...</td>\n",
       "      <td>2019-01-01</td>\n",
       "      <td>68</td>\n",
       "      <td>Jeju</td>\n",
       "      <td>['#사진좀찍으시는님덕에건져또', '#이순간']</td>\n",
       "    </tr>\n",
       "    <tr>\n",
       "      <th>1706</th>\n",
       "      <td>2018.12.25 ⠀룸에 의자가 두개 밖에 없어서 ⠀이현이는 유모차에 앉아서 식사...</td>\n",
       "      <td>2019-01-01</td>\n",
       "      <td>70</td>\n",
       "      <td>NaN</td>\n",
       "      <td>[]</td>\n",
       "    </tr>\n",
       "    <tr>\n",
       "      <th>1707</th>\n",
       "      <td>.2019년 첫날디스이즈핫에서 새해를 맞이하시는 손님들께 떡국을 준비했습니다.한 해...</td>\n",
       "      <td>2019-01-01</td>\n",
       "      <td>48</td>\n",
       "      <td>디스이즈핫</td>\n",
       "      <td>['#HappyNewYearEveryone']</td>\n",
       "    </tr>\n",
       "  </tbody>\n",
       "</table>\n",
       "</div>"
      ]
     },
     "metadata": {},
     "execution_count": 68
    }
   ],
   "metadata": {}
  },
  {
   "cell_type": "code",
   "execution_count": 69,
   "source": [
    "driver.close()"
   ],
   "outputs": [],
   "metadata": {}
  },
  {
   "cell_type": "code",
   "execution_count": null,
   "source": [],
   "outputs": [],
   "metadata": {}
  }
 ],
 "metadata": {
  "orig_nbformat": 4,
  "language_info": {
   "name": "python",
   "version": "3.8.10",
   "mimetype": "text/x-python",
   "codemirror_mode": {
    "name": "ipython",
    "version": 3
   },
   "pygments_lexer": "ipython3",
   "nbconvert_exporter": "python",
   "file_extension": ".py"
  },
  "kernelspec": {
   "name": "python3",
   "display_name": "Python 3.8.10 64-bit ('base': conda)"
  },
  "interpreter": {
   "hash": "3afaf00aff83f2e8eb9647e300ff648c4cd120434f7e4c9b48fc973ba4a47465"
  }
 },
 "nbformat": 4,
 "nbformat_minor": 2
}