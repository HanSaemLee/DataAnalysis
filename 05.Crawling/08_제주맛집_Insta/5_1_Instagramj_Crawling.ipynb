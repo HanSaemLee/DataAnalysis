{
 "cells": [
  {
   "cell_type": "markdown",
   "source": [
    "# 5.1 인스타그램 크롤링"
   ],
   "metadata": {}
  },
  {
   "cell_type": "markdown",
   "source": [
    "## 5.1.2 인스타그램 접속 후 로그인하기"
   ],
   "metadata": {}
  },
  {
   "cell_type": "code",
   "execution_count": 14,
   "source": [
    "# 예제 5-1 chromedriver 열기\r\n",
    "from selenium import webdriver\r\n",
    "\r\n",
    "driver = webdriver.Chrome('C:\\workspace\\chromedriver\\chromedriver.exe')"
   ],
   "outputs": [],
   "metadata": {}
  },
  {
   "cell_type": "markdown",
   "source": [
    "- 안내사항\r\n",
    "\r\n",
    "로그인을 해야만 게시물을 볼 수 있도록 인스타그램 운영 정책이 변경되었습니다(2020.04.27)\r\n",
    "인스타그램 로그인을 하는 코드를 추가하였습니다.\r\n",
    "직접 브라우저에 계정 정보를 입력해도 되고, 코드를 이용해도 됩니다.\r\n",
    "다만, 본인의 계정/비번 정보가 외부에 노출되지 않도록 주의하시기 바랍니다.\r\n",
    "\r\n",
    "※ 주의) 인스타 로그인을 위해 계정 아이디 / 비번 입력이 필요합니다"
   ],
   "metadata": {}
  },
  {
   "cell_type": "code",
   "execution_count": 15,
   "source": [
    "# 예제 5-2 인스타그램 접속하기\r\n",
    "import time\r\n",
    "\r\n",
    "#인스타그램 접속하기\r\n",
    "driver.get('https://www.instagram.com')\r\n",
    "time.sleep(2)"
   ],
   "outputs": [],
   "metadata": {}
  },
  {
   "cell_type": "markdown",
   "source": [
    "\r\n",
    "※ 로그인 페이지로 접속이 되지 않고 오류 화면이 보일 경우 아래 링크를 참고하세요\r\n",
    "\r\n",
    "[https://www.notion.so/playwithdata/c02e510507504b42ae6073c1fbb46f29](https://www.notion.so/playwithdata/c02e510507504b42ae6073c1fbb46f29)"
   ],
   "metadata": {}
  },
  {
   "cell_type": "code",
   "execution_count": 16,
   "source": [
    "with open('password.txt') as fp:\r\n",
    "    password = fp.read()"
   ],
   "outputs": [],
   "metadata": {}
  },
  {
   "cell_type": "code",
   "execution_count": 17,
   "source": [
    "# 예제 5-3 인스타계정으로 로그인하기\r\n",
    "\r\n",
    "email = 'dlgkstoa123@paran.com'\r\n",
    "input_id = driver.find_elements_by_css_selector('input._2hvTZ.pexuQ.zyHYP')[0]\r\n",
    "input_id.clear()\r\n",
    "input_id.send_keys(email)\r\n",
    "\r\n",
    "input_pw = driver.find_elements_by_css_selector('input._2hvTZ.pexuQ.zyHYP')[1]\r\n",
    "input_pw.clear()\r\n",
    "input_pw.send_keys(password)\r\n",
    "input_pw.submit()\r\n",
    "time.sleep(3)"
   ],
   "outputs": [],
   "metadata": {}
  },
  {
   "cell_type": "code",
   "execution_count": 18,
   "source": [
    "try:\r\n",
    "    driver.find_element_by_css_selector('.sqdOP.yWX7d.y3zKF').click()\r\n",
    "    time.sleep(1)\r\n",
    "    driver.find_element_by_css_selector('.aOOlW.HoLwm').click()\r\n",
    "    #time.sleep(1)\r\n",
    "    #driver.find_element_by_css_selector('.aOOlW.HoLwm').click()\r\n",
    "except:\r\n",
    "    pass"
   ],
   "outputs": [],
   "metadata": {}
  },
  {
   "cell_type": "markdown",
   "source": [
    "위 코드 실행후 인스타그램 로그인이 완료되어야 합니다.\r\n",
    "\r\n",
    "추가로, 2단계 인증이 필요하다고 나올 경우 인증까지 완료해주세요.\r\n",
    "\r\n",
    "인스타계정이 아닌 페이스북계정으로 로그인이 필요하거나 코드에 아이디/비번 입력하는 것이 부담되는 분은\r\n",
    "\r\n",
    "수기로 직접 입력해서 로그인까지 완료하시면 됩니다."
   ],
   "metadata": {}
  },
  {
   "cell_type": "code",
   "execution_count": null,
   "source": [],
   "outputs": [],
   "metadata": {}
  }
 ],
 "metadata": {
  "orig_nbformat": 4,
  "language_info": {
   "name": "python",
   "version": "3.8.10",
   "mimetype": "text/x-python",
   "codemirror_mode": {
    "name": "ipython",
    "version": 3
   },
   "pygments_lexer": "ipython3",
   "nbconvert_exporter": "python",
   "file_extension": ".py"
  },
  "kernelspec": {
   "name": "python3",
   "display_name": "Python 3.8.10 64-bit ('base': conda)"
  },
  "interpreter": {
   "hash": "3afaf00aff83f2e8eb9647e300ff648c4cd120434f7e4c9b48fc973ba4a47465"
  }
 },
 "nbformat": 4,
 "nbformat_minor": 2
}