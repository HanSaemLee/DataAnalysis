{
 "cells": [
  {
   "cell_type": "markdown",
   "source": [
    "# 5.4 특정 단어 포함 게시글 찾기"
   ],
   "metadata": {}
  },
  {
   "cell_type": "markdown",
   "source": [
    "## 5.4.2 데이터 준비"
   ],
   "metadata": {}
  },
  {
   "cell_type": "code",
   "execution_count": 2,
   "source": [
    "# 예제 5-44 크롤링 데이터 불러오기\r\n",
    "import pandas as pd\r\n",
    "raw_total = pd.read_excel('./files/1_crawling_raw.xlsx')\r\n",
    "raw_total.head()"
   ],
   "outputs": [
    {
     "output_type": "execute_result",
     "data": {
      "text/plain": [
       "                                             content        date   like  \\\n",
       "0  더 늦기전에 제주도로 떠나쟈😍.#제주핫플레이스 간단히 1탄 모아봄!#제주여행 요 필...  2018-12-07  1,402   \n",
       "1  12월에 제주도를 가야하는이유🍊.#제주핫플 모음 끝판왕😍이거 하나면 겨울 #제주여행...  2018-12-03    368   \n",
       "2  11월 놓치지 말아야 할 제주 관광.가을바람이 최고조에 이르는 11월추운 겨울을 앞...  2018-11-02    166   \n",
       "3  국민학교세대#제주관광#제주살이#제주이주민#아라동주민#삼남매집 #새해첫날#드라이브#명...  2019-01-01     28   \n",
       "4  #제주관광 #제주 #돔나이트 #스트레스 #풀자 #춤추며 #땀날려 #가끔은괜찮아 #인...  2019-01-01     12   \n",
       "\n",
       "    place                                               tags  \n",
       "0     NaN  ['#제주핫플레이스', '#제주여행', '#제주여행', '#제주도여행', '#제주가...  \n",
       "1     NaN  ['#제주핫플', '#제주여행', '#제주', '#제주도', '#제주도맛집', '#...  \n",
       "2     NaN  ['#honestin', '#어니스틴', '#제주여행', '#제주', '#제주도',...  \n",
       "3  명월국민학교  ['#제주관광', '#제주살이', '#제주이주민', '#아라동주민', '#삼남매집'...  \n",
       "4     NaN  ['#제주관광', '#제주', '#돔나이트', '#스트레스', '#풀자', '#춤추...  "
      ],
      "text/html": [
       "<div>\n",
       "<style scoped>\n",
       "    .dataframe tbody tr th:only-of-type {\n",
       "        vertical-align: middle;\n",
       "    }\n",
       "\n",
       "    .dataframe tbody tr th {\n",
       "        vertical-align: top;\n",
       "    }\n",
       "\n",
       "    .dataframe thead th {\n",
       "        text-align: right;\n",
       "    }\n",
       "</style>\n",
       "<table border=\"1\" class=\"dataframe\">\n",
       "  <thead>\n",
       "    <tr style=\"text-align: right;\">\n",
       "      <th></th>\n",
       "      <th>content</th>\n",
       "      <th>date</th>\n",
       "      <th>like</th>\n",
       "      <th>place</th>\n",
       "      <th>tags</th>\n",
       "    </tr>\n",
       "  </thead>\n",
       "  <tbody>\n",
       "    <tr>\n",
       "      <th>0</th>\n",
       "      <td>더 늦기전에 제주도로 떠나쟈😍.#제주핫플레이스 간단히 1탄 모아봄!#제주여행 요 필...</td>\n",
       "      <td>2018-12-07</td>\n",
       "      <td>1,402</td>\n",
       "      <td>NaN</td>\n",
       "      <td>['#제주핫플레이스', '#제주여행', '#제주여행', '#제주도여행', '#제주가...</td>\n",
       "    </tr>\n",
       "    <tr>\n",
       "      <th>1</th>\n",
       "      <td>12월에 제주도를 가야하는이유🍊.#제주핫플 모음 끝판왕😍이거 하나면 겨울 #제주여행...</td>\n",
       "      <td>2018-12-03</td>\n",
       "      <td>368</td>\n",
       "      <td>NaN</td>\n",
       "      <td>['#제주핫플', '#제주여행', '#제주', '#제주도', '#제주도맛집', '#...</td>\n",
       "    </tr>\n",
       "    <tr>\n",
       "      <th>2</th>\n",
       "      <td>11월 놓치지 말아야 할 제주 관광.가을바람이 최고조에 이르는 11월추운 겨울을 앞...</td>\n",
       "      <td>2018-11-02</td>\n",
       "      <td>166</td>\n",
       "      <td>NaN</td>\n",
       "      <td>['#honestin', '#어니스틴', '#제주여행', '#제주', '#제주도',...</td>\n",
       "    </tr>\n",
       "    <tr>\n",
       "      <th>3</th>\n",
       "      <td>국민학교세대#제주관광#제주살이#제주이주민#아라동주민#삼남매집 #새해첫날#드라이브#명...</td>\n",
       "      <td>2019-01-01</td>\n",
       "      <td>28</td>\n",
       "      <td>명월국민학교</td>\n",
       "      <td>['#제주관광', '#제주살이', '#제주이주민', '#아라동주민', '#삼남매집'...</td>\n",
       "    </tr>\n",
       "    <tr>\n",
       "      <th>4</th>\n",
       "      <td>#제주관광 #제주 #돔나이트 #스트레스 #풀자 #춤추며 #땀날려 #가끔은괜찮아 #인...</td>\n",
       "      <td>2019-01-01</td>\n",
       "      <td>12</td>\n",
       "      <td>NaN</td>\n",
       "      <td>['#제주관광', '#제주', '#돔나이트', '#스트레스', '#풀자', '#춤추...</td>\n",
       "    </tr>\n",
       "  </tbody>\n",
       "</table>\n",
       "</div>"
      ]
     },
     "metadata": {},
     "execution_count": 2
    }
   ],
   "metadata": {}
  },
  {
   "cell_type": "markdown",
   "source": [
    "## 5.4.3 단어 선택하기"
   ],
   "metadata": {}
  },
  {
   "cell_type": "code",
   "execution_count": 5,
   "source": [
    "# 예제 5-45 추출 단어 포함하는 데이터 선택하기\r\n",
    "select_word = '해돋이'\r\n",
    "\r\n",
    "check_list = [select_word in content for content in raw_total.content]\r\n",
    "''' check_list = []\r\n",
    "for content in raw_total['content']:\r\n",
    "    check_list.append(select_word in content)\r\n",
    "    if select_word in content:\r\n",
    "        check_list.append(True)\r\n",
    "    else:\r\n",
    "        check_list.append(False)'''\r\n",
    "\r\n",
    "select_df = raw_total[check_list]\r\n",
    "select_df.head()"
   ],
   "outputs": [
    {
     "output_type": "execute_result",
     "data": {
      "text/plain": [
       "                                                content        date like  \\\n",
       "34    ..“쿠룽쿠룽 해트맨 마씸!”.제주방언으로 ‘쿨쿨 자던 해가 떴습니다’.다사다난 했...  2019-01-01   89   \n",
       "73    아듀 2018!🤧👋🏻2019🐷황금돼지해의 첫 일출🌅을 만나볼 수 있는 제주 일출명소...  2018-12-31   18   \n",
       "142   4일간 휴 ~ 뭐하지? ㅠ 뭐할까?. #해넘이#해돋이 어디로가지? .누워서보는극장?...  2018-12-28   94   \n",
       "441   순간포착엄청 놀랐네요갑자기 새들이 무더기로 나타나서날아오르길래 ㆍ그쪽에 무슨일 있는...  2018-12-18   77   \n",
       "2458  해돋이#제주 #혼저옵서예 #제주스타그램 #제주도 #제주여행 #제주관광 #제주도여행 ...  2018-10-23   81   \n",
       "\n",
       "         place                                               tags  \n",
       "34    서귀포 법환포구                                                 []  \n",
       "73     Jeju-do  ['#제주', '#제주도', '#서귀포', '#제주도민', '#제주여행', '#제주...  \n",
       "142        NaN  ['#해넘이', '#해돋이', '#제주', '#jejudo', '#jeju', '#...  \n",
       "441   제주프레임스파빌  ['#제주도공항', '#프레임펜션', '#프레임스파빌', '#제주', '#제주프레임...  \n",
       "2458       NaN  ['#제주', '#혼저옵서예', '#제주스타그램', '#제주도', '#제주여행', ...  "
      ],
      "text/html": [
       "<div>\n",
       "<style scoped>\n",
       "    .dataframe tbody tr th:only-of-type {\n",
       "        vertical-align: middle;\n",
       "    }\n",
       "\n",
       "    .dataframe tbody tr th {\n",
       "        vertical-align: top;\n",
       "    }\n",
       "\n",
       "    .dataframe thead th {\n",
       "        text-align: right;\n",
       "    }\n",
       "</style>\n",
       "<table border=\"1\" class=\"dataframe\">\n",
       "  <thead>\n",
       "    <tr style=\"text-align: right;\">\n",
       "      <th></th>\n",
       "      <th>content</th>\n",
       "      <th>date</th>\n",
       "      <th>like</th>\n",
       "      <th>place</th>\n",
       "      <th>tags</th>\n",
       "    </tr>\n",
       "  </thead>\n",
       "  <tbody>\n",
       "    <tr>\n",
       "      <th>34</th>\n",
       "      <td>..“쿠룽쿠룽 해트맨 마씸!”.제주방언으로 ‘쿨쿨 자던 해가 떴습니다’.다사다난 했...</td>\n",
       "      <td>2019-01-01</td>\n",
       "      <td>89</td>\n",
       "      <td>서귀포 법환포구</td>\n",
       "      <td>[]</td>\n",
       "    </tr>\n",
       "    <tr>\n",
       "      <th>73</th>\n",
       "      <td>아듀 2018!🤧👋🏻2019🐷황금돼지해의 첫 일출🌅을 만나볼 수 있는 제주 일출명소...</td>\n",
       "      <td>2018-12-31</td>\n",
       "      <td>18</td>\n",
       "      <td>Jeju-do</td>\n",
       "      <td>['#제주', '#제주도', '#서귀포', '#제주도민', '#제주여행', '#제주...</td>\n",
       "    </tr>\n",
       "    <tr>\n",
       "      <th>142</th>\n",
       "      <td>4일간 휴 ~ 뭐하지? ㅠ 뭐할까?. #해넘이#해돋이 어디로가지? .누워서보는극장?...</td>\n",
       "      <td>2018-12-28</td>\n",
       "      <td>94</td>\n",
       "      <td>NaN</td>\n",
       "      <td>['#해넘이', '#해돋이', '#제주', '#jejudo', '#jeju', '#...</td>\n",
       "    </tr>\n",
       "    <tr>\n",
       "      <th>441</th>\n",
       "      <td>순간포착엄청 놀랐네요갑자기 새들이 무더기로 나타나서날아오르길래 ㆍ그쪽에 무슨일 있는...</td>\n",
       "      <td>2018-12-18</td>\n",
       "      <td>77</td>\n",
       "      <td>제주프레임스파빌</td>\n",
       "      <td>['#제주도공항', '#프레임펜션', '#프레임스파빌', '#제주', '#제주프레임...</td>\n",
       "    </tr>\n",
       "    <tr>\n",
       "      <th>2458</th>\n",
       "      <td>해돋이#제주 #혼저옵서예 #제주스타그램 #제주도 #제주여행 #제주관광 #제주도여행 ...</td>\n",
       "      <td>2018-10-23</td>\n",
       "      <td>81</td>\n",
       "      <td>NaN</td>\n",
       "      <td>['#제주', '#혼저옵서예', '#제주스타그램', '#제주도', '#제주여행', ...</td>\n",
       "    </tr>\n",
       "  </tbody>\n",
       "</table>\n",
       "</div>"
      ]
     },
     "metadata": {},
     "execution_count": 5
    }
   ],
   "metadata": {}
  },
  {
   "cell_type": "code",
   "execution_count": null,
   "source": [],
   "outputs": [],
   "metadata": {}
  }
 ],
 "metadata": {
  "orig_nbformat": 4,
  "language_info": {
   "name": "python",
   "version": "3.8.10",
   "mimetype": "text/x-python",
   "codemirror_mode": {
    "name": "ipython",
    "version": 3
   },
   "pygments_lexer": "ipython3",
   "nbconvert_exporter": "python",
   "file_extension": ".py"
  },
  "kernelspec": {
   "name": "python3",
   "display_name": "Python 3.8.10 64-bit ('base': conda)"
  },
  "interpreter": {
   "hash": "3afaf00aff83f2e8eb9647e300ff648c4cd120434f7e4c9b48fc973ba4a47465"
  }
 },
 "nbformat": 4,
 "nbformat_minor": 2
}