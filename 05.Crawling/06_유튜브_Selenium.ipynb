{
 "cells": [
  {
   "cell_type": "markdown",
   "source": [
    "# Selenium 만으로 유튜브 랭킹 수집하기"
   ],
   "metadata": {}
  },
  {
   "cell_type": "code",
   "execution_count": 1,
   "source": [
    "!apt-get update > /dev/null\r\n",
    "!pip install selenium > /dev/null\r\n",
    "!apt install chromium-chromedriver > /dev/null"
   ],
   "outputs": [
    {
     "output_type": "stream",
     "name": "stderr",
     "text": [
      "������ ��θ� ã�� �� �����ϴ�.\n",
      "������ ��θ� ã�� �� �����ϴ�.\n",
      "������ ��θ� ã�� �� �����ϴ�.\n"
     ]
    }
   ],
   "metadata": {}
  },
  {
   "cell_type": "code",
   "execution_count": 2,
   "source": [
    "from selenium import webdriver\r\n",
    "from selenium.webdriver.common.keys import Keys\r\n",
    "import time\r\n",
    "import pandas as pd"
   ],
   "outputs": [],
   "metadata": {}
  },
  {
   "cell_type": "code",
   "execution_count": 3,
   "source": [
    "'''options = webdriver.ChromeOptions()\r\n",
    "options.add_argument('--headless')   # 화면없이 실행\r\n",
    "options.add_argument('--no-sandbox')\r\n",
    "options.add_argument(\"--single-process\")\r\n",
    "options.add_argument(\"--disable-dev-shm-usage\")'''\r\n",
    "driver = webdriver.Chrome('C:/workspace/chromedriver/chromedriver.exe')  # 인수로 한나더  ,options=options해야됨"
   ],
   "outputs": [],
   "metadata": {}
  },
  {
   "cell_type": "code",
   "execution_count": 4,
   "source": [
    "url = 'https://youtube-rank.com/board/bbs/board.php?bo_table=youtube&page=1'\r\n",
    "driver.get(url)"
   ],
   "outputs": [],
   "metadata": {}
  },
  {
   "cell_type": "code",
   "execution_count": 5,
   "source": [
    "# pop-up 창이 있으면, pop-up 창을 닫고 메인 윈도우로 되돌아 옴\r\n",
    "window_len = len(driver.window_handles)\r\n",
    "if window_len == 2:\r\n",
    "    driver.switch_to.window(driver.window_handles[1])\r\n",
    "    driver.close()\r\n",
    "\r\n",
    "# 화면의 끝까지 PageDown으로 내려보냄\r\n",
    "driver.switch_to.window(driver.window_handles[0])\r\n",
    "body = driver.find_element_by_css_selector('body')\r\n",
    "for i in range(30):\r\n",
    "    body.send_keys(Keys.PAGE_DOWN)\r\n",
    "    time.sleep(1)"
   ],
   "outputs": [],
   "metadata": {}
  },
  {
   "cell_type": "code",
   "execution_count": 6,
   "source": [
    "trs = driver.find_elements_by_css_selector('.aos-init')\r\n",
    "len(trs)"
   ],
   "outputs": [
    {
     "output_type": "execute_result",
     "data": {
      "text/plain": [
       "100"
      ]
     },
     "metadata": {},
     "execution_count": 6
    }
   ],
   "metadata": {}
  },
  {
   "cell_type": "code",
   "execution_count": 7,
   "source": [
    "trs[99].text"
   ],
   "outputs": [
    {
     "output_type": "execute_result",
     "data": {
      "text/plain": [
       "'99\\n[BJ/인물/연예인]\\n허팝Heopop 0\\n허팝 Heopop HeopopTV\\n381만 31억4525만 1,850개 6,121'"
      ]
     },
     "metadata": {},
     "execution_count": 7
    }
   ],
   "metadata": {}
  },
  {
   "cell_type": "code",
   "execution_count": 8,
   "source": [
    "def convert_unit(s):\r\n",
    "    #s = ''.join(s.split('억'))\r\n",
    "    s = s.replace('억', '').replace('개','').replace(',','')\r\n",
    "    s = s.replace('만', '0000')\r\n",
    "    return f'{int(s):,d}'"
   ],
   "outputs": [],
   "metadata": {}
  },
  {
   "cell_type": "code",
   "execution_count": 9,
   "source": [
    "tr = trs[99]\r\n",
    "category = tr.find_element_by_css_selector('p.category').text.strip(' \\n[]')\r\n",
    "category"
   ],
   "outputs": [
    {
     "output_type": "execute_result",
     "data": {
      "text/plain": [
       "'BJ/인물/연예인'"
      ]
     },
     "metadata": {},
     "execution_count": 9
    }
   ],
   "metadata": {}
  },
  {
   "cell_type": "code",
   "execution_count": 10,
   "source": [
    "name = tr.find_element_by_css_selector('.subject a').text.strip()\r\n",
    "subscriber = convert_unit(tr.find_element_by_css_selector('.subscriber_cnt').text)\r\n",
    "view = convert_unit(tr.find_element_by_css_selector('.view_cnt').text)\r\n",
    "video = convert_unit(tr.find_element_by_css_selector('.video_cnt').text)\r\n",
    "name, subscriber, view, video"
   ],
   "outputs": [
    {
     "output_type": "execute_result",
     "data": {
      "text/plain": [
       "('허팝Heopop', '3,810,000', '3,145,250,000', '1,850')"
      ]
     },
     "metadata": {},
     "execution_count": 10
    }
   ],
   "metadata": {}
  },
  {
   "cell_type": "code",
   "execution_count": 11,
   "source": [
    "from tqdm.notebook import tqdm"
   ],
   "outputs": [],
   "metadata": {}
  },
  {
   "cell_type": "code",
   "execution_count": 13,
   "source": [
    "results = []\r\n",
    "for page in tqdm(range(1, 11)):\r\n",
    "    #print(page)\r\n",
    "    url = 'https://youtube-rank.com/board/bbs/board.php?bo_table=youtube&page='+str(page)\r\n",
    "    driver.get(url)\r\n",
    "    time.sleep(2)\r\n",
    "\r\n",
    "    window_len = len(driver.window_handles)\r\n",
    "    if window_len == 2:\r\n",
    "        driver.switch_to.window(driver.window_handles[1])\r\n",
    "        driver.close()\r\n",
    "    driver.switch_to.window(driver.window_handles[0])\r\n",
    "    body = driver.find_element_by_css_selector('body')\r\n",
    "    for i in range(30):\r\n",
    "        body.send_keys(Keys.PAGE_DOWN)\r\n",
    "        time.sleep(1)\r\n",
    "    \r\n",
    "    trs = driver.find_elements_by_css_selector('.aos-init')\r\n",
    "\r\n",
    "    for tr in trs:\r\n",
    "        category = tr.find_element_by_css_selector('p.category').text.strip(' \\n[]')\r\n",
    "        #category = channel.select_one('p.category').get_text().strip(' \\n[]')\r\n",
    "        name = tr.find_element_by_css_selector('.subject a').text.strip()\r\n",
    "        #name = channel.select_one('.subject a').text.strip()\r\n",
    "        subscriber = convert_unit(tr.find_element_by_css_selector('.subscriber_cnt').text)\r\n",
    "        #subscriber = convert_unit(channel.select_one('.subscriber_cnt').text)\r\n",
    "        view = convert_unit(tr.find_element_by_css_selector('.view_cnt').text)\r\n",
    "        #view = convert_unit(channel.select_one('.view_cnt').text)\r\n",
    "        video = convert_unit(tr.find_element_by_css_selector('.video_cnt').text)\r\n",
    "        #video = convert_unit(channel.select_one('.video_cnt').text)\r\n",
    "        results.append([category,name,subscriber,view,video])\r\n"
   ],
   "outputs": [
    {
     "output_type": "display_data",
     "data": {
      "text/plain": [
       "  0%|          | 0/10 [00:00<?, ?it/s]"
      ],
      "application/vnd.jupyter.widget-view+json": {
       "version_major": 2,
       "version_minor": 0,
       "model_id": "bcb0dd6f0b8d49a782edec069f1eff6a"
      }
     },
     "metadata": {}
    }
   ],
   "metadata": {}
  },
  {
   "cell_type": "code",
   "execution_count": 14,
   "source": [
    "df = pd.DataFrame(results, columns=['카테고리','채널명','구독자수','조회수','비디오수'])\r\n",
    "df.head()"
   ],
   "outputs": [
    {
     "output_type": "execute_result",
     "data": {
      "text/plain": [
       "       카테고리                          채널명        구독자수             조회수   비디오수\n",
       "0  음악/댄스/가수                    BLACKPINK  64,100,000  19,018,090,000    371\n",
       "1  음악/댄스/가수                  HYBE LABELS  60,400,000  18,756,810,000    655\n",
       "2  음악/댄스/가수                    BANGTANTV  56,500,000  12,212,970,000  1,580\n",
       "3  음악/댄스/가수                       SMTOWN  28,500,000  21,912,330,000  3,729\n",
       "4    키즈/어린이  Boram Tube Vlog [보람튜브 브이로그]  26,500,000  11,052,880,000    223"
      ],
      "text/html": [
       "<div>\n",
       "<style scoped>\n",
       "    .dataframe tbody tr th:only-of-type {\n",
       "        vertical-align: middle;\n",
       "    }\n",
       "\n",
       "    .dataframe tbody tr th {\n",
       "        vertical-align: top;\n",
       "    }\n",
       "\n",
       "    .dataframe thead th {\n",
       "        text-align: right;\n",
       "    }\n",
       "</style>\n",
       "<table border=\"1\" class=\"dataframe\">\n",
       "  <thead>\n",
       "    <tr style=\"text-align: right;\">\n",
       "      <th></th>\n",
       "      <th>카테고리</th>\n",
       "      <th>채널명</th>\n",
       "      <th>구독자수</th>\n",
       "      <th>조회수</th>\n",
       "      <th>비디오수</th>\n",
       "    </tr>\n",
       "  </thead>\n",
       "  <tbody>\n",
       "    <tr>\n",
       "      <th>0</th>\n",
       "      <td>음악/댄스/가수</td>\n",
       "      <td>BLACKPINK</td>\n",
       "      <td>64,100,000</td>\n",
       "      <td>19,018,090,000</td>\n",
       "      <td>371</td>\n",
       "    </tr>\n",
       "    <tr>\n",
       "      <th>1</th>\n",
       "      <td>음악/댄스/가수</td>\n",
       "      <td>HYBE LABELS</td>\n",
       "      <td>60,400,000</td>\n",
       "      <td>18,756,810,000</td>\n",
       "      <td>655</td>\n",
       "    </tr>\n",
       "    <tr>\n",
       "      <th>2</th>\n",
       "      <td>음악/댄스/가수</td>\n",
       "      <td>BANGTANTV</td>\n",
       "      <td>56,500,000</td>\n",
       "      <td>12,212,970,000</td>\n",
       "      <td>1,580</td>\n",
       "    </tr>\n",
       "    <tr>\n",
       "      <th>3</th>\n",
       "      <td>음악/댄스/가수</td>\n",
       "      <td>SMTOWN</td>\n",
       "      <td>28,500,000</td>\n",
       "      <td>21,912,330,000</td>\n",
       "      <td>3,729</td>\n",
       "    </tr>\n",
       "    <tr>\n",
       "      <th>4</th>\n",
       "      <td>키즈/어린이</td>\n",
       "      <td>Boram Tube Vlog [보람튜브 브이로그]</td>\n",
       "      <td>26,500,000</td>\n",
       "      <td>11,052,880,000</td>\n",
       "      <td>223</td>\n",
       "    </tr>\n",
       "  </tbody>\n",
       "</table>\n",
       "</div>"
      ]
     },
     "metadata": {},
     "execution_count": 14
    }
   ],
   "metadata": {}
  },
  {
   "cell_type": "code",
   "execution_count": 15,
   "source": [
    "df.tail()"
   ],
   "outputs": [
    {
     "output_type": "execute_result",
     "data": {
      "text/plain": [
       "          카테고리        채널명     구독자수          조회수    비디오수\n",
       "995         게임        OGN  510,000  608,880,000  27,433\n",
       "996        미분류  밉지않은 관종언니  510,000   67,950,000     170\n",
       "997         게임         미소  510,000  210,780,000   3,084\n",
       "998  음식/요리/레시피      Muggo  510,000  183,720,000   1,388\n",
       "999         게임        임선비  510,000  234,290,000   1,134"
      ],
      "text/html": [
       "<div>\n",
       "<style scoped>\n",
       "    .dataframe tbody tr th:only-of-type {\n",
       "        vertical-align: middle;\n",
       "    }\n",
       "\n",
       "    .dataframe tbody tr th {\n",
       "        vertical-align: top;\n",
       "    }\n",
       "\n",
       "    .dataframe thead th {\n",
       "        text-align: right;\n",
       "    }\n",
       "</style>\n",
       "<table border=\"1\" class=\"dataframe\">\n",
       "  <thead>\n",
       "    <tr style=\"text-align: right;\">\n",
       "      <th></th>\n",
       "      <th>카테고리</th>\n",
       "      <th>채널명</th>\n",
       "      <th>구독자수</th>\n",
       "      <th>조회수</th>\n",
       "      <th>비디오수</th>\n",
       "    </tr>\n",
       "  </thead>\n",
       "  <tbody>\n",
       "    <tr>\n",
       "      <th>995</th>\n",
       "      <td>게임</td>\n",
       "      <td>OGN</td>\n",
       "      <td>510,000</td>\n",
       "      <td>608,880,000</td>\n",
       "      <td>27,433</td>\n",
       "    </tr>\n",
       "    <tr>\n",
       "      <th>996</th>\n",
       "      <td>미분류</td>\n",
       "      <td>밉지않은 관종언니</td>\n",
       "      <td>510,000</td>\n",
       "      <td>67,950,000</td>\n",
       "      <td>170</td>\n",
       "    </tr>\n",
       "    <tr>\n",
       "      <th>997</th>\n",
       "      <td>게임</td>\n",
       "      <td>미소</td>\n",
       "      <td>510,000</td>\n",
       "      <td>210,780,000</td>\n",
       "      <td>3,084</td>\n",
       "    </tr>\n",
       "    <tr>\n",
       "      <th>998</th>\n",
       "      <td>음식/요리/레시피</td>\n",
       "      <td>Muggo</td>\n",
       "      <td>510,000</td>\n",
       "      <td>183,720,000</td>\n",
       "      <td>1,388</td>\n",
       "    </tr>\n",
       "    <tr>\n",
       "      <th>999</th>\n",
       "      <td>게임</td>\n",
       "      <td>임선비</td>\n",
       "      <td>510,000</td>\n",
       "      <td>234,290,000</td>\n",
       "      <td>1,134</td>\n",
       "    </tr>\n",
       "  </tbody>\n",
       "</table>\n",
       "</div>"
      ]
     },
     "metadata": {},
     "execution_count": 15
    }
   ],
   "metadata": {}
  },
  {
   "cell_type": "code",
   "execution_count": null,
   "source": [],
   "outputs": [],
   "metadata": {}
  }
 ],
 "metadata": {
  "orig_nbformat": 4,
  "language_info": {
   "name": "python",
   "version": "3.8.10",
   "mimetype": "text/x-python",
   "codemirror_mode": {
    "name": "ipython",
    "version": 3
   },
   "pygments_lexer": "ipython3",
   "nbconvert_exporter": "python",
   "file_extension": ".py"
  },
  "kernelspec": {
   "name": "python3",
   "display_name": "Python 3.8.10 64-bit ('base': conda)"
  },
  "interpreter": {
   "hash": "3afaf00aff83f2e8eb9647e300ff648c4cd120434f7e4c9b48fc973ba4a47465"
  }
 },
 "nbformat": 4,
 "nbformat_minor": 2
}