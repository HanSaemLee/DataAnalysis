{
 "cells": [
  {
   "cell_type": "markdown",
   "source": [
    "# BeautifulSoup 사용법\r\n",
    "- Local HTML 파일 열기"
   ],
   "metadata": {}
  },
  {
   "cell_type": "code",
   "execution_count": 2,
   "source": [
    "from bs4 import BeautifulSoup\r\n",
    "with open('00_example.html') as fp:\r\n",
    "    soup = BeautifulSoup(fp, 'html.parser')"
   ],
   "outputs": [],
   "metadata": {}
  },
  {
   "cell_type": "code",
   "execution_count": 3,
   "source": [
    "soup"
   ],
   "outputs": [
    {
     "output_type": "execute_result",
     "data": {
      "text/plain": [
       "<!DOCTYPE html>\n",
       "\n",
       "<html lang=\"en\">\n",
       "<head>\n",
       "<meta charset=\"utf-8\"/>\n",
       "<meta content=\"width=device-width, initial-scale=1.0\" name=\"viewport\"/>\n",
       "<title>Web Crawling Example</title>\n",
       "</head>\n",
       "<body>\n",
       "<div>\n",
       "<p>a</p><p>b</p><p>c</p>\n",
       "</div>\n",
       "<div class=\"ex_class sample\">\n",
       "<p>1</p><p>2</p><p>3</p>\n",
       "</div>\n",
       "<div id=\"ex_id\">\n",
       "<p>X</p><p>Y</p><p>Z</p>\n",
       "</div>\n",
       "<h1>This is a heading.</h1>\n",
       "<p>This is a paragraph.</p>\n",
       "<p>This is another paragraph.</p>\n",
       "<a class=\"a sample\" href=\"www.naver.com\">Naver</a>\n",
       "</body>\n",
       "</html>"
      ]
     },
     "metadata": {},
     "execution_count": 3
    }
   ],
   "metadata": {}
  },
  {
   "cell_type": "markdown",
   "source": [
    "- find - 한 개만 찾는 메서드"
   ],
   "metadata": {}
  },
  {
   "cell_type": "code",
   "execution_count": 7,
   "source": [
    "first_div = soup.find('div')\r\n",
    "first_div"
   ],
   "outputs": [
    {
     "output_type": "execute_result",
     "data": {
      "text/plain": [
       "<div>\n",
       "<p>a</p><p>b</p><p>c</p>\n",
       "</div>"
      ]
     },
     "metadata": {},
     "execution_count": 7
    }
   ],
   "metadata": {}
  },
  {
   "cell_type": "markdown",
   "source": [
    "- find_all 모두를 찾는 메서드"
   ],
   "metadata": {}
  },
  {
   "cell_type": "code",
   "execution_count": 6,
   "source": [
    "all_divs = soup.find_all('div')\r\n",
    "all_divs"
   ],
   "outputs": [
    {
     "output_type": "execute_result",
     "data": {
      "text/plain": [
       "[<div>\n",
       " <p>a</p><p>b</p><p>c</p>\n",
       " </div>,\n",
       " <div class=\"ex_class sample\">\n",
       " <p>1</p><p>2</p><p>3</p>\n",
       " </div>,\n",
       " <div id=\"ex_id\">\n",
       " <p>X</p><p>Y</p><p>Z</p>\n",
       " </div>]"
      ]
     },
     "metadata": {},
     "execution_count": 6
    }
   ],
   "metadata": {}
  },
  {
   "cell_type": "code",
   "execution_count": 8,
   "source": [
    "len(all_divs)"
   ],
   "outputs": [
    {
     "output_type": "execute_result",
     "data": {
      "text/plain": [
       "3"
      ]
     },
     "metadata": {},
     "execution_count": 8
    }
   ],
   "metadata": {}
  },
  {
   "cell_type": "code",
   "execution_count": 9,
   "source": [
    "for div in all_divs:\r\n",
    "    print(div)"
   ],
   "outputs": [
    {
     "output_type": "stream",
     "name": "stdout",
     "text": [
      "<div>\n",
      "<p>a</p><p>b</p><p>c</p>\n",
      "</div>\n",
      "<div class=\"ex_class sample\">\n",
      "<p>1</p><p>2</p><p>3</p>\n",
      "</div>\n",
      "<div id=\"ex_id\">\n",
      "<p>X</p><p>Y</p><p>Z</p>\n",
      "</div>\n"
     ]
    }
   ],
   "metadata": {}
  },
  {
   "cell_type": "code",
   "execution_count": 10,
   "source": [
    "all_ps = soup.find_all('p')\r\n",
    "len(all_ps), all_ps"
   ],
   "outputs": [
    {
     "output_type": "execute_result",
     "data": {
      "text/plain": [
       "(11,\n",
       " [<p>a</p>,\n",
       "  <p>b</p>,\n",
       "  <p>c</p>,\n",
       "  <p>1</p>,\n",
       "  <p>2</p>,\n",
       "  <p>3</p>,\n",
       "  <p>X</p>,\n",
       "  <p>Y</p>,\n",
       "  <p>Z</p>,\n",
       "  <p>This is a paragraph.</p>,\n",
       "  <p>This is another paragraph.</p>])"
      ]
     },
     "metadata": {},
     "execution_count": 10
    }
   ],
   "metadata": {}
  },
  {
   "cell_type": "markdown",
   "source": [
    "- select_one - CSS Selector로 하나만 찾는 메서드"
   ],
   "metadata": {}
  },
  {
   "cell_type": "code",
   "execution_count": 11,
   "source": [
    "ex_id_div = soup.select_one('#ex_id')       # id\r\n",
    "ex_id_div"
   ],
   "outputs": [
    {
     "output_type": "execute_result",
     "data": {
      "text/plain": [
       "<div id=\"ex_id\">\n",
       "<p>X</p><p>Y</p><p>Z</p>\n",
       "</div>"
      ]
     },
     "metadata": {},
     "execution_count": 11
    }
   ],
   "metadata": {}
  },
  {
   "cell_type": "code",
   "execution_count": 12,
   "source": [
    "ex_sample_div = soup.select_one('.ex_class.sample')     # class\r\n",
    "ex_sample_div"
   ],
   "outputs": [
    {
     "output_type": "execute_result",
     "data": {
      "text/plain": [
       "<div class=\"ex_class sample\">\n",
       "<p>1</p><p>2</p><p>3</p>\n",
       "</div>"
      ]
     },
     "metadata": {},
     "execution_count": 12
    }
   ],
   "metadata": {}
  },
  {
   "cell_type": "markdown",
   "source": [
    "- select - CSS Selector로 모두를 찾는 메서드"
   ],
   "metadata": {}
  },
  {
   "cell_type": "code",
   "execution_count": 13,
   "source": [
    "ex_id_divs = soup.select('#ex_id')  # 결과는 리스트로\r\n",
    "ex_id_divs"
   ],
   "outputs": [
    {
     "output_type": "execute_result",
     "data": {
      "text/plain": [
       "[<div id=\"ex_id\">\n",
       " <p>X</p><p>Y</p><p>Z</p>\n",
       " </div>]"
      ]
     },
     "metadata": {},
     "execution_count": 13
    }
   ],
   "metadata": {}
  },
  {
   "cell_type": "code",
   "execution_count": 12,
   "source": [
    "sample_divs = soup.select('.sample')\r\n",
    "sample_divs"
   ],
   "outputs": [
    {
     "output_type": "execute_result",
     "data": {
      "text/plain": [
       "[<div class=\"ex_class sample\">\n",
       " <p>1</p><p>2</p><p>3</p>\n",
       " </div>,\n",
       " <a class=\"a sample\" href=\"www.naver.com\">Naver</a>]"
      ]
     },
     "metadata": {},
     "execution_count": 12
    }
   ],
   "metadata": {}
  },
  {
   "cell_type": "markdown",
   "source": [
    "- 결과 가져오기"
   ],
   "metadata": {}
  },
  {
   "cell_type": "code",
   "execution_count": 13,
   "source": [
    "# <a class=\"a sample\" href=\"www.naver.com\">Naver</a>\r\n",
    "result = soup.select_one('.a.sample').get_text()\r\n",
    "result"
   ],
   "outputs": [
    {
     "output_type": "execute_result",
     "data": {
      "text/plain": [
       "'Naver'"
      ]
     },
     "metadata": {},
     "execution_count": 13
    }
   ],
   "metadata": {}
  },
  {
   "cell_type": "code",
   "execution_count": 14,
   "source": [
    "result = soup.select_one('.a.sample').string\r\n",
    "result"
   ],
   "outputs": [
    {
     "output_type": "execute_result",
     "data": {
      "text/plain": [
       "'Naver'"
      ]
     },
     "metadata": {},
     "execution_count": 14
    }
   ],
   "metadata": {}
  },
  {
   "cell_type": "code",
   "execution_count": 15,
   "source": [
    "# 속성 값\r\n",
    "href = soup.select_one('.a.sample')['href']\r\n",
    "href"
   ],
   "outputs": [
    {
     "output_type": "execute_result",
     "data": {
      "text/plain": [
       "'www.naver.com'"
      ]
     },
     "metadata": {},
     "execution_count": 15
    }
   ],
   "metadata": {}
  },
  {
   "cell_type": "markdown",
   "source": [
    "- id=\"ex_id\""
   ],
   "metadata": {}
  },
  {
   "cell_type": "code",
   "execution_count": 16,
   "source": [
    "'''\r\n",
    "<div id=\"ex_id>\r\n",
    "    <p>X</p><p>Y</p><p>Z</P>\r\n",
    "</div>\r\n",
    "'''\r\n",
    "ex_id_div = soup.select_one('#ex_id')\r\n",
    "all_ps = ex_id_div.select('p')\r\n",
    "for p in all_ps:\r\n",
    "    print(p.string)"
   ],
   "outputs": [
    {
     "output_type": "stream",
     "name": "stdout",
     "text": [
      "X\n",
      "Y\n",
      "Z\n"
     ]
    }
   ],
   "metadata": {}
  },
  {
   "cell_type": "code",
   "execution_count": null,
   "source": [],
   "outputs": [],
   "metadata": {}
  }
 ],
 "metadata": {
  "orig_nbformat": 4,
  "language_info": {
   "name": "python",
   "version": "3.8.10",
   "mimetype": "text/x-python",
   "codemirror_mode": {
    "name": "ipython",
    "version": 3
   },
   "pygments_lexer": "ipython3",
   "nbconvert_exporter": "python",
   "file_extension": ".py"
  },
  "kernelspec": {
   "name": "python3",
   "display_name": "Python 3.8.10 64-bit ('base': conda)"
  },
  "interpreter": {
   "hash": "3afaf00aff83f2e8eb9647e300ff648c4cd120434f7e4c9b48fc973ba4a47465"
  }
 },
 "nbformat": 4,
 "nbformat_minor": 2
}